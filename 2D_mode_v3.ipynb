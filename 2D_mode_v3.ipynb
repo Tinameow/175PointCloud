{
  "nbformat": 4,
  "nbformat_minor": 0,
  "metadata": {
    "kernelspec": {
      "display_name": "Python 3",
      "language": "python",
      "name": "python3"
    },
    "language_info": {
      "codemirror_mode": {
        "name": "ipython",
        "version": 3
      },
      "file_extension": ".py",
      "mimetype": "text/x-python",
      "name": "python",
      "nbconvert_exporter": "python",
      "pygments_lexer": "ipython3",
      "version": "3.7.4"
    },
    "colab": {
      "name": "2D_mode_v3.ipynb",
      "provenance": [],
      "collapsed_sections": [],
      "include_colab_link": true
    }
  },
  "cells": [
    {
      "cell_type": "markdown",
      "metadata": {
        "id": "view-in-github",
        "colab_type": "text"
      },
      "source": [
        "<a href=\"https://colab.research.google.com/github/Tinameow/175PointCloud/blob/master/2D_mode_v3.ipynb\" target=\"_parent\"><img src=\"https://colab.research.google.com/assets/colab-badge.svg\" alt=\"Open In Colab\"/></a>"
      ]
    },
    {
      "cell_type": "code",
      "metadata": {
        "id": "L0zDOOgMyLCv",
        "colab_type": "code",
        "colab": {}
      },
      "source": [
        "import numpy as np\n",
        "import math\n",
        "import random\n",
        "import os\n",
        "import torch\n",
        "import scipy.spatial.distance\n",
        "from torch.utils.data import Dataset, DataLoader\n",
        "from torchvision import transforms, utils\n",
        "\n",
        "import plotly.graph_objects as go\n",
        "import plotly.express as px\n",
        "\n",
        "##\n",
        "import matplotlib.pyplot as plt\n",
        "import matplotlib.patches as patches\n",
        "import matplotlib.cm as cm\n",
        "\n",
        "import torch\n",
        "import torch.nn as nn\n",
        "import torch.optim as optim\n",
        "from torch.autograd import Variable\n",
        "from torch.utils.data import DataLoader\n",
        "from torch.utils.data import sampler\n",
        "\n",
        "import torchvision.datasets as dset\n",
        "import torchvision.transforms as T\n",
        "\n",
        "from torch.optim.lr_scheduler import ReduceLROnPlateau\n"
      ],
      "execution_count": 0,
      "outputs": []
    },
    {
      "cell_type": "markdown",
      "metadata": {
        "id": "9FfjIWxWyLCz",
        "colab_type": "text"
      },
      "source": [
        "## Get dataset"
      ]
    },
    {
      "cell_type": "code",
      "metadata": {
        "id": "58SMiGPkyTfx",
        "colab_type": "code",
        "outputId": "6766166e-a2db-48b1-b412-0f1cbfdee188",
        "colab": {
          "base_uri": "https://localhost:8080/",
          "height": 145
        }
      },
      "source": [
        "pip install path "
      ],
      "execution_count": 0,
      "outputs": [
        {
          "output_type": "stream",
          "text": [
            "Collecting path\n",
            "  Downloading https://files.pythonhosted.org/packages/ce/76/08fdf5988b815f40a4a26a9b63052ebf7c35d677591d93d0a61bfc63379c/path-14.0.1-py3-none-any.whl\n",
            "Requirement already satisfied: importlib-metadata>=0.5; python_version < \"3.8\" in /usr/local/lib/python3.6/dist-packages (from path) (1.6.0)\n",
            "Requirement already satisfied: zipp>=0.5 in /usr/local/lib/python3.6/dist-packages (from importlib-metadata>=0.5; python_version < \"3.8\"->path) (3.1.0)\n",
            "Installing collected packages: path\n",
            "Successfully installed path-14.0.1\n"
          ],
          "name": "stdout"
        }
      ]
    },
    {
      "cell_type": "code",
      "metadata": {
        "id": "C8_NvXVlyQ_7",
        "colab_type": "code",
        "outputId": "631f210a-4d2e-48d7-e288-915d27889275",
        "colab": {
          "base_uri": "https://localhost:8080/",
          "height": 215
        }
      },
      "source": [
        "!wget http://3dvision.princeton.edu/projects/2014/3DShapeNets/ModelNet10.zip"
      ],
      "execution_count": 0,
      "outputs": [
        {
          "output_type": "stream",
          "text": [
            "--2020-05-31 18:12:57--  http://3dvision.princeton.edu/projects/2014/3DShapeNets/ModelNet10.zip\n",
            "Resolving 3dvision.princeton.edu (3dvision.princeton.edu)... 128.112.136.61\n",
            "Connecting to 3dvision.princeton.edu (3dvision.princeton.edu)|128.112.136.61|:80... connected.\n",
            "HTTP request sent, awaiting response... 200 OK\n",
            "Length: 473402300 (451M) [application/zip]\n",
            "Saving to: ‘ModelNet10.zip’\n",
            "\n",
            "ModelNet10.zip      100%[===================>] 451.47M  35.3MB/s    in 13s     \n",
            "\n",
            "2020-05-31 18:13:11 (33.7 MB/s) - ‘ModelNet10.zip’ saved [473402300/473402300]\n",
            "\n"
          ],
          "name": "stdout"
        }
      ]
    },
    {
      "cell_type": "code",
      "metadata": {
        "id": "-I8QuM7-yR5J",
        "colab_type": "code",
        "colab": {}
      },
      "source": [
        "!unzip -q ModelNet10.zip"
      ],
      "execution_count": 0,
      "outputs": []
    },
    {
      "cell_type": "code",
      "metadata": {
        "id": "sIio2-LuyLCz",
        "colab_type": "code",
        "outputId": "c363da54-8113-4eb3-c5b6-254bc57d2d5d",
        "colab": {
          "base_uri": "https://localhost:8080/",
          "height": 197
        }
      },
      "source": [
        "from path import Path\n",
        "\n",
        "path = Path(\"ModelNet10\")\n",
        "folders = [dir for dir in sorted(os.listdir(path)) if os.path.isdir(path/dir)]\n",
        "classes = {folder: i for i, folder in enumerate(folders)};\n",
        "classes"
      ],
      "execution_count": 0,
      "outputs": [
        {
          "output_type": "execute_result",
          "data": {
            "text/plain": [
              "{'bathtub': 0,\n",
              " 'bed': 1,\n",
              " 'chair': 2,\n",
              " 'desk': 3,\n",
              " 'dresser': 4,\n",
              " 'monitor': 5,\n",
              " 'night_stand': 6,\n",
              " 'sofa': 7,\n",
              " 'table': 8,\n",
              " 'toilet': 9}"
            ]
          },
          "metadata": {
            "tags": []
          },
          "execution_count": 5
        }
      ]
    },
    {
      "cell_type": "code",
      "metadata": {
        "id": "7tURpenLyLC3",
        "colab_type": "code",
        "colab": {}
      },
      "source": [
        "def read_off(file):\n",
        "    if 'OFF' != file.readline().strip():\n",
        "        raise('Not a valid OFF header')\n",
        "    n_verts, n_faces, __ = tuple([int(s) for s in file.readline().strip().split(' ')])\n",
        "    verts = [[float(s) for s in file.readline().strip().split(' ')] for i_vert in range(n_verts)]\n",
        "    faces = [[int(s) for s in file.readline().strip().split(' ')][1:] for i_face in range(n_faces)]\n",
        "    return verts, faces"
      ],
      "execution_count": 0,
      "outputs": []
    },
    {
      "cell_type": "markdown",
      "metadata": {
        "id": "klSI1ebTyLC5",
        "colab_type": "text"
      },
      "source": [
        "## sample 3d points"
      ]
    },
    {
      "cell_type": "code",
      "metadata": {
        "id": "_mYE3HRCyLC5",
        "colab_type": "code",
        "colab": {}
      },
      "source": [
        "class PointSampler(object):\n",
        "    def __init__(self, output_size):\n",
        "        assert isinstance(output_size, int)\n",
        "        self.output_size = output_size\n",
        "    \n",
        "    def triangle_area(self, pt1, pt2, pt3):\n",
        "        side_a = np.linalg.norm(pt1 - pt2)\n",
        "        side_b = np.linalg.norm(pt2 - pt3)\n",
        "        side_c = np.linalg.norm(pt3 - pt1)\n",
        "        s = 0.5 * ( side_a + side_b + side_c)\n",
        "        return max(s * (s - side_a) * (s - side_b) * (s - side_c), 0)**0.5\n",
        "\n",
        "    def sample_point(self, pt1, pt2, pt3):\n",
        "        # barycentric coordinates on a triangle\n",
        "        # https://mathworld.wolfram.com/BarycentricCoordinates.html\n",
        "        s, t = sorted([random.random(), random.random()])\n",
        "        f = lambda i: s * pt1[i] + (t-s)*pt2[i] + (1-t)*pt3[i]\n",
        "        return (f(0), f(1), f(2))\n",
        "        \n",
        "    \n",
        "    def __call__(self, mesh):\n",
        "        verts, faces = mesh\n",
        "        verts = np.array(verts)\n",
        "        areas = np.zeros((len(faces)))\n",
        "\n",
        "        for i in range(len(areas)):\n",
        "            areas[i] = (self.triangle_area(verts[faces[i][0]],\n",
        "                                           verts[faces[i][1]],\n",
        "                                           verts[faces[i][2]]))\n",
        "            \n",
        "        sampled_faces = (random.choices(faces, \n",
        "                                      weights=areas,\n",
        "                                      cum_weights=None,\n",
        "                                      k=self.output_size))\n",
        "        \n",
        "        sampled_points = np.zeros((self.output_size, 3))\n",
        "\n",
        "        for i in range(len(sampled_faces)):\n",
        "            sampled_points[i] = (self.sample_point(verts[sampled_faces[i][0]],\n",
        "                                                   verts[sampled_faces[i][1]],\n",
        "                                                   verts[sampled_faces[i][2]]))\n",
        "        \n",
        "        return sampled_points"
      ],
      "execution_count": 0,
      "outputs": []
    },
    {
      "cell_type": "code",
      "metadata": {
        "id": "ClWYiadzyLC7",
        "colab_type": "code",
        "colab": {}
      },
      "source": [
        "class Normalize(object):\n",
        "    def __call__(self, pointcloud):\n",
        "        assert len(pointcloud.shape)==2\n",
        "        \n",
        "        norm_pointcloud = pointcloud - np.mean(pointcloud, axis=0) \n",
        "        norm_pointcloud /= np.max(np.linalg.norm(norm_pointcloud, axis=1))\n",
        "\n",
        "        return  norm_pointcloud"
      ],
      "execution_count": 0,
      "outputs": []
    },
    {
      "cell_type": "markdown",
      "metadata": {
        "id": "rvz1hkW0yLC-",
        "colab_type": "text"
      },
      "source": [
        "## take 2d photo"
      ]
    },
    {
      "cell_type": "code",
      "metadata": {
        "id": "hHNgvv52yLC-",
        "colab_type": "code",
        "colab": {}
      },
      "source": [
        "def makerotation(rx,ry,rz):\n",
        "    \"\"\"\n",
        "    Generate a rotation matrix    \n",
        "\n",
        "    Parameters\n",
        "    ----------\n",
        "    rx,ry,rz : floats\n",
        "        Amount to rotate around x, y and z axes in degrees\n",
        "\n",
        "    Returns\n",
        "    -------\n",
        "    R : 2D numpy.array (dtype=float)\n",
        "        Rotation matrix of shape (3,3)\n",
        "    \"\"\"\n",
        "    rx = np.pi*rx/180.0\n",
        "    ry = np.pi*ry/180.0\n",
        "    rz = np.pi*rz/180.0\n",
        "\n",
        "    Rx = np.array([[1,0,0],[0,np.cos(rx),-np.sin(rx)],[0,np.sin(rx),np.cos(rx)]])\n",
        "    Ry = np.array([[np.cos(ry),0,-np.sin(ry)],[0,1,0],[np.sin(ry),0,np.cos(ry)]])\n",
        "    Rz = np.array([[np.cos(rz),-np.sin(rz),0],[np.sin(rz),np.cos(rz),0],[0,0,1]])\n",
        "    R = (Rz @ Ry @ Rx)\n",
        "    \n",
        "    return R \n",
        "\n",
        "class Camera:\n",
        "    \"\"\"\n",
        "    A simple data structure describing camera parameters \n",
        "    \n",
        "    The parameters describing the camera\n",
        "    cam.f : float   --- camera focal length (in units of pixels)\n",
        "    cam.c : 2x1 vector  --- offset of principle point\n",
        "    cam.R : 3x3 matrix --- camera rotation\n",
        "    cam.t : 3x1 vector --- camera translation \n",
        "\n",
        "    \n",
        "    \"\"\"    \n",
        "    def __init__(self,f,c,R,t):\n",
        "        self.f = f\n",
        "        self.c = c\n",
        "        self.R = R\n",
        "        self.t = t\n",
        "\n",
        "    def __str__(self):\n",
        "        return f'Camera : \\n f={self.f} \\n c={self.c.T} \\n R={self.R} \\n t = {self.t.T}'\n",
        "    \n",
        "    def project(self,pts3):\n",
        "        \"\"\"\n",
        "        Project the given 3D points in world coordinates into the specified camera    \n",
        "\n",
        "        Parameters\n",
        "        ----------\n",
        "        pts3 : 2D numpy.array (dtype=float)\n",
        "            Coordinates of N points stored in a array of shape (3,N)\n",
        "\n",
        "        Returns\n",
        "        -------\n",
        "        pts2 : 2D numpy.array (dtype=float)\n",
        "            Image coordinates of N points stored in an array of shape (2,N)\n",
        "\n",
        "        \"\"\"\n",
        "        assert(pts3.shape[0]==3)\n",
        "\n",
        "        # get point location relative to camera\n",
        "        pcam = self.R.transpose() @ (pts3 - self.t)\n",
        "         \n",
        "        # project\n",
        "        p = self.f * (pcam / pcam[2,:])\n",
        "        \n",
        "        # offset principal point\n",
        "        pts2 = p[0:2,:] + self.c\n",
        "        \n",
        "        assert(pts2.shape[1]==pts3.shape[1])\n",
        "        assert(pts2.shape[0]==2)\n",
        "    \n",
        "        return pts2\n",
        " \n",
        "    def update_extrinsics(self,params):\n",
        "        \"\"\"\n",
        "        Given a vector of extrinsic parameters, update the camera\n",
        "        to use the provided parameters.\n",
        "  \n",
        "        Parameters\n",
        "        ----------\n",
        "        params : 1D numpy.array (dtype=float)\n",
        "            Camera parameters we are optimizing over stored in a vector\n",
        "            params[0:2] are the rotation angles, params[2:5] are the translation\n",
        "\n",
        "        \"\"\"\n",
        "        self.R = makerotation(params[0],params[1],params[2])\n",
        "        self.t = np.array([[params[3]],[params[4]],[params[5]]])"
      ],
      "execution_count": 0,
      "outputs": []
    },
    {
      "cell_type": "code",
      "metadata": {
        "id": "bK9fJPdHyLDA",
        "colab_type": "code",
        "colab": {}
      },
      "source": [
        "cam1 = Camera(f=25,c=np.array([[16,16]]).T,t=np.array([[0,2,0]]).T, R=makerotation(90,0,0))\n",
        "cam2 = Camera(f=25,c=np.array([[16,16]]).T,t=np.array([[2,0,0]]).T, R=makerotation(0,90,0))\n",
        "cam3 = Camera(f=25,c=np.array([[16,16]]).T,t=np.array([[0,0,2]]).T, R=makerotation(180,0,0))"
      ],
      "execution_count": 0,
      "outputs": []
    },
    {
      "cell_type": "markdown",
      "metadata": {
        "id": "hEI3CBHYyLDC",
        "colab_type": "text"
      },
      "source": [
        "## if need to augment data... adding noise"
      ]
    },
    {
      "cell_type": "code",
      "metadata": {
        "id": "UI0P4PhgyLDD",
        "colab_type": "code",
        "colab": {}
      },
      "source": [
        "class RandRotation_z(object):\n",
        "    def __call__(self, pointcloud):\n",
        "        assert len(pointcloud.shape)==2\n",
        "\n",
        "        theta = random.random() * 2. * math.pi\n",
        "        rot_matrix = np.array([[ math.cos(theta), -math.sin(theta),    0],\n",
        "                               [ math.sin(theta),  math.cos(theta),    0],\n",
        "                               [0,                             0,      1]])\n",
        "        \n",
        "        rot_pointcloud = rot_matrix.dot(pointcloud.T).T\n",
        "        return  rot_pointcloud\n",
        "    \n",
        "class RandomNoise(object):\n",
        "    def __call__(self, pointcloud):\n",
        "        assert len(pointcloud.shape)==2\n",
        "\n",
        "        noise = np.random.normal(0, 0.02, (pointcloud.shape))\n",
        "    \n",
        "        noisy_pointcloud = pointcloud + noise\n",
        "        return  noisy_pointcloud"
      ],
      "execution_count": 0,
      "outputs": []
    },
    {
      "cell_type": "markdown",
      "metadata": {
        "id": "uiM4MtV7yLDF",
        "colab_type": "text"
      },
      "source": [
        "## Creating data point"
      ]
    },
    {
      "cell_type": "code",
      "metadata": {
        "id": "pGzMr1RIyLDF",
        "colab_type": "code",
        "colab": {}
      },
      "source": [
        "class create_data_point(object):\n",
        "    def __init__(self, cams):\n",
        "        self.cams = cams\n",
        "    \n",
        "    def __call__(self, pointcloud):\n",
        "        n = len(self.cams)\n",
        "        pts2 = np.zeros((n,32,32))\n",
        "        for i in range(n):\n",
        "            ind = self.cams[i].project(pointcloud.T).astype(int).T\n",
        "            for k,j in ind:\n",
        "                pts2[i,j,k] += 1\n",
        "\n",
        "        pts2 /= np.max(pts2)\n",
        "        return pts2"
      ],
      "execution_count": 0,
      "outputs": []
    },
    {
      "cell_type": "code",
      "metadata": {
        "id": "JGuA6OxTyLDH",
        "colab_type": "code",
        "colab": {}
      },
      "source": [
        "class create_3_view(object):\n",
        "    def __call__(self, pointcloud):\n",
        "        pts2 = np.zeros((3,32,32))\n",
        "        for i,j in pointcloud[:,:2]:\n",
        "            i, j = int(i*16), int(j*16)\n",
        "            pts2[0,i,j] += 1\n",
        "        for i,j in pointcloud[:,1:]:\n",
        "            i, j = int(i*16), int(j*16)\n",
        "            pts2[1,i,j] += 1\n",
        "        for i,j in zip(pointcloud[:,0], pointcloud[:,1]):\n",
        "            i, j = int(i*16), int(j*16)\n",
        "            pts2[2,i,j] += 1\n",
        "        pts2 /= np.max(pts2)\n",
        "        return pts2"
      ],
      "execution_count": 0,
      "outputs": []
    },
    {
      "cell_type": "markdown",
      "metadata": {
        "id": "sC4bxnLCyLDJ",
        "colab_type": "text"
      },
      "source": [
        "## Creating data set"
      ]
    },
    {
      "cell_type": "code",
      "metadata": {
        "id": "IYPGVXdLyLDK",
        "colab_type": "code",
        "colab": {}
      },
      "source": [
        "class ToTensor(object):\n",
        "    def __call__(self, pointcloud):\n",
        "        return torch.from_numpy(pointcloud)"
      ],
      "execution_count": 0,
      "outputs": []
    },
    {
      "cell_type": "code",
      "metadata": {
        "id": "bNE26q9KyLDM",
        "colab_type": "code",
        "colab": {}
      },
      "source": [
        "cam1 = Camera(f=25,c=np.array([[16,16]]).T,t=np.array([[0,2,0]]).T, R=makerotation(90,0,0))\n",
        "cam2 = Camera(f=25,c=np.array([[16,16]]).T,t=np.array([[2,0,0]]).T, R=makerotation(0,90,0))\n",
        "cam3 = Camera(f=25,c=np.array([[16,16]]).T,t=np.array([[0,0,2]]).T, R=makerotation(180,0,0))\n",
        "cams = [cam1,cam2,cam3]\n",
        "\n",
        "\n",
        "train_transforms = transforms.Compose([\n",
        "                    PointSampler(1024),\n",
        "                    Normalize(),\n",
        "                    RandRotation_z(),\n",
        "                    RandomNoise(),\n",
        "                    create_data_point(cams),\n",
        "                    ToTensor()\n",
        "                    ])\n",
        "\n",
        "transforms_3views = transforms.Compose([\n",
        "                    PointSampler(1024),\n",
        "                    Normalize(),\n",
        "                    RandRotation_z(),\n",
        "                    RandomNoise(),\n",
        "                    create_3_view(),\n",
        "                    ToTensor()\n",
        "                    ])\n",
        "\n",
        "def default_transforms():\n",
        "    return transforms.Compose([\n",
        "                    PointSampler(1024),\n",
        "                    Normalize(),\n",
        "                    create_data_point(cams),\n",
        "                    ToTensor()\n",
        "                    ])"
      ],
      "execution_count": 0,
      "outputs": []
    },
    {
      "cell_type": "code",
      "metadata": {
        "id": "W5c26hdByLDO",
        "colab_type": "code",
        "colab": {}
      },
      "source": [
        "class PointCloudData(Dataset):\n",
        "    def __init__(self, root_dir, valid=False, folder=\"train\", transform=default_transforms()):\n",
        "        self.root_dir = root_dir\n",
        "        folders = [dir for dir in sorted(os.listdir(root_dir)) if os.path.isdir(root_dir/dir)]\n",
        "        self.classes = {folder: i for i, folder in enumerate(folders)}\n",
        "        self.transforms = transform if not valid else default_transforms()\n",
        "        self.valid = valid\n",
        "        self.files = []\n",
        "        for category in self.classes.keys():\n",
        "            new_dir = root_dir/Path(category)/folder\n",
        "            for file in os.listdir(new_dir):\n",
        "                if file.endswith('.off'):\n",
        "                    sample = {}\n",
        "                    sample['pcd_path'] = new_dir/file\n",
        "                    sample['category'] = category\n",
        "                    self.files.append(sample)\n",
        "\n",
        "    def __len__(self):\n",
        "        return len(self.files)\n",
        "\n",
        "    def __preproc__(self, file):\n",
        "        verts, faces = read_off(file)\n",
        "        if self.transforms:\n",
        "            pointcloud = self.transforms((verts, faces))\n",
        "        return pointcloud\n",
        "\n",
        "    def __getitem__(self, idx):\n",
        "        pcd_path = self.files[idx]['pcd_path']\n",
        "        category = self.files[idx]['category']\n",
        "        with open(pcd_path, 'r') as f:\n",
        "            pointcloud = self.__preproc__(f)\n",
        "        return {'pointcloud': pointcloud, \n",
        "                'category': self.classes[category]}"
      ],
      "execution_count": 0,
      "outputs": []
    },
    {
      "cell_type": "code",
      "metadata": {
        "id": "50Sx8kQhyLDQ",
        "colab_type": "code",
        "colab": {}
      },
      "source": [
        "def check_accuracy(model, loader):\n",
        "    num_correct = 0\n",
        "    num_samples = 0\n",
        "    model.eval() # Put the model in test mode (the opposite of model.train(), essentially)\n",
        "    for i, data in enumerate(loader):\n",
        "        x_var, y = data['pointcloud'].to(device).float(), data['category']\n",
        "\n",
        "        scores = model(x_var)\n",
        "        _, preds = scores.data.cpu().max(1)\n",
        "        num_correct += (preds == y).sum()\n",
        "        num_samples += preds.size(0)\n",
        "    acc = float(num_correct) / num_samples\n",
        "    print('Got %d / %d correct (%.2f)' % (num_correct, num_samples, 100 * acc))\n",
        "    return acc\n",
        "\n",
        "\n",
        "\n",
        "def train(model, loss_fn, optimizer, train_loader, val_loader, num_epochs = 1, save = False):\n",
        "    optimizer = torch.optim.SGD(model.parameters(), lr=0.1, momentum=0.9)\n",
        "    scheduler = ReduceLROnPlateau(optimizer, 'max',verbose=1,patience=3)\n",
        "\n",
        "    for epoch in range(num_epochs):\n",
        "        print('Starting epoch %d / %d' % (epoch + 1, num_epochs))\n",
        "        model.train()\n",
        "        for t, data in enumerate(train_loader):\n",
        "            x_var, y_var = data['pointcloud'].to(device).float(), data['category'].to(device)\n",
        "\n",
        "            scores = model(x_var)\n",
        "            \n",
        "            loss = loss_fn(scores, y_var)\n",
        "            if (t + 1) % 10 == 0:\n",
        "                print('loss = %.4f' % (loss.data))\n",
        "\n",
        "            optimizer.zero_grad()\n",
        "            loss.backward()\n",
        "            optimizer.step()\n",
        "        \n",
        "        \n",
        "        val_acc = check_accuracy(model, val_loader)\n",
        "        scheduler.step(val_acc)\n",
        "\n",
        "        if save:\n",
        "            torch.save(model.state_dict(), \"save_v3_\"+str(epoch)+\".pth\")"
      ],
      "execution_count": 0,
      "outputs": []
    },
    {
      "cell_type": "markdown",
      "metadata": {
        "id": "Om-hC06-yLDS",
        "colab_type": "text"
      },
      "source": [
        "## Model"
      ]
    },
    {
      "cell_type": "code",
      "metadata": {
        "id": "mlNu_iNiJEue",
        "colab_type": "code",
        "colab": {}
      },
      "source": [
        "class ConvOneView(nn.Module):\n",
        "    def __init__(self):\n",
        "        '''extracting features from single view'''\n",
        "        super().__init__()\n",
        "        self.conv1 = nn.Conv2d(1,32,3)\n",
        "        self.conv2 = nn.Conv2d(32,64,3)\n",
        "\n",
        "        self.pool = nn.MaxPool2d(2)\n",
        "        \n",
        "        self.relu = nn.ReLU(inplace=True)\n",
        "        self.fc1 = nn.Linear(2304,1024)\n",
        "\n",
        "        self.bn1 = nn.BatchNorm2d(32)\n",
        "        self.bn2 = nn.BatchNorm2d(64)\n",
        "\n",
        "        self.bn3 = nn.BatchNorm1d(1024)\n",
        "\n",
        "\n",
        "    def forward(self, input):\n",
        "        # input.shape == (bs,1,32,32)\n",
        "        \n",
        "        bs = input.size(0)\n",
        "        xb = self.pool(self.relu(self.bn1(self.conv1(input))))\n",
        "        xb = self.pool(self.relu(self.bn2(self.conv2(xb))))\n",
        "        \n",
        "        flat = nn.Flatten()(xb)\n",
        "        xb = self.relu(self.bn3(self.fc1(flat)))\n",
        "\n",
        "        return xb\n",
        "\n",
        "\n",
        "class CombineMultiView(nn.Module):\n",
        "    '''extracting features from multi views'''\n",
        "    def __init__(self):\n",
        "        super().__init__()\n",
        "        self.conv1 = ConvOneView()\n",
        "\n",
        "    def forward(self, input):\n",
        "        # print(list(input[:,0,:,:][:,None,:,:].size()))\n",
        "        layer1 = self.conv1(input[:,0,:,:][:,None,:,:])\n",
        "        layer2 = self.conv1(input[:,1,:,:][:,None,:,:])\n",
        "        layer3 = self.conv1(input[:,2,:,:][:,None,:,:])\n",
        "        \n",
        "        xb = nn.MaxPool1d(3)(torch.stack((layer1,layer2,layer3),2))\n",
        "        output = nn.Flatten(1)(xb)\n",
        "        \n",
        "        # print(list(xb.size()))\n",
        "        \n",
        "        return output\n",
        "\n",
        "class MVNet(nn.Module):\n",
        "    def __init__(self, classes = 10):\n",
        "        super().__init__()\n",
        "        self.CombineMultiView = CombineMultiView()\n",
        "        self.fc1 = nn.Linear(1024, 512)\n",
        "        self.fc2 = nn.Linear(512, 256)\n",
        "        self.fc3 = nn.Linear(256, classes)\n",
        "\n",
        "\n",
        "        self.bn1 = nn.BatchNorm1d(512)\n",
        "        self.bn2 = nn.BatchNorm1d(256)\n",
        "        self.dropout = nn.Dropout(p=0.3)\n",
        "        self.logsoftmax = nn.LogSoftmax(dim=1)\n",
        "\n",
        "    def forward(self, input):\n",
        "        xb = self.CombineMultiView(input)\n",
        "        xb = nn.ReLU(inplace=True)(self.bn1(self.fc1(xb)))\n",
        "        xb = nn.ReLU(inplace=True)(self.bn2(self.dropout(self.fc2(xb))))\n",
        "        output = self.fc3(xb)\n",
        "        return self.logsoftmax(output)"
      ],
      "execution_count": 0,
      "outputs": []
    },
    {
      "cell_type": "code",
      "metadata": {
        "id": "0iVDpPyjyLDW",
        "colab_type": "code",
        "colab": {}
      },
      "source": [
        "train_ds = PointCloudData(Path(path), transform=train_transforms)\n",
        "valid_ds = PointCloudData(Path(path), valid=True, folder='test', transform=train_transforms)"
      ],
      "execution_count": 0,
      "outputs": []
    },
    {
      "cell_type": "code",
      "metadata": {
        "id": "tlb5wQk6yLDY",
        "colab_type": "code",
        "outputId": "ebb33362-8d40-4791-e83b-968e5551af6a",
        "colab": {
          "base_uri": "https://localhost:8080/",
          "height": 35
        }
      },
      "source": [
        "device = torch.device(\"cuda:0\" if torch.cuda.is_available() else \"cpu\")\n",
        "print(device)"
      ],
      "execution_count": 0,
      "outputs": [
        {
          "output_type": "stream",
          "text": [
            "cpu\n"
          ],
          "name": "stdout"
        }
      ]
    },
    {
      "cell_type": "code",
      "metadata": {
        "id": "_Lnkp_lFyLDZ",
        "colab_type": "code",
        "outputId": "10f59c21-365e-43a3-b4de-735142b6f3aa",
        "colab": {
          "base_uri": "https://localhost:8080/",
          "height": 395
        }
      },
      "source": [
        "pointnet = MVNet()\n",
        "pointnet.load_state_dict(torch.load('save_v3_10.pth'))\n",
        "pointnet.to(device)"
      ],
      "execution_count": 0,
      "outputs": [
        {
          "output_type": "execute_result",
          "data": {
            "text/plain": [
              "MVNet(\n",
              "  (CombineMultiView): CombineMultiView(\n",
              "    (conv1): ConvOneView(\n",
              "      (conv1): Conv2d(1, 32, kernel_size=(3, 3), stride=(1, 1))\n",
              "      (conv2): Conv2d(32, 64, kernel_size=(3, 3), stride=(1, 1))\n",
              "      (pool): MaxPool2d(kernel_size=2, stride=2, padding=0, dilation=1, ceil_mode=False)\n",
              "      (relu): ReLU(inplace=True)\n",
              "      (fc1): Linear(in_features=2304, out_features=1024, bias=True)\n",
              "      (bn1): BatchNorm2d(32, eps=1e-05, momentum=0.1, affine=True, track_running_stats=True)\n",
              "      (bn2): BatchNorm2d(64, eps=1e-05, momentum=0.1, affine=True, track_running_stats=True)\n",
              "      (bn3): BatchNorm1d(1024, eps=1e-05, momentum=0.1, affine=True, track_running_stats=True)\n",
              "    )\n",
              "  )\n",
              "  (fc1): Linear(in_features=1024, out_features=512, bias=True)\n",
              "  (fc2): Linear(in_features=512, out_features=256, bias=True)\n",
              "  (fc3): Linear(in_features=256, out_features=10, bias=True)\n",
              "  (bn1): BatchNorm1d(512, eps=1e-05, momentum=0.1, affine=True, track_running_stats=True)\n",
              "  (bn2): BatchNorm1d(256, eps=1e-05, momentum=0.1, affine=True, track_running_stats=True)\n",
              "  (dropout): Dropout(p=0.3, inplace=False)\n",
              "  (logsoftmax): LogSoftmax()\n",
              ")"
            ]
          },
          "metadata": {
            "tags": []
          },
          "execution_count": 21
        }
      ]
    },
    {
      "cell_type": "code",
      "metadata": {
        "id": "2ZxlAJjRyLDb",
        "colab_type": "code",
        "colab": {}
      },
      "source": [
        "loss_fn = nn.CrossEntropyLoss()\n",
        "optimizer = torch.optim.Adam(pointnet.parameters(), lr=0.1)"
      ],
      "execution_count": 0,
      "outputs": []
    },
    {
      "cell_type": "code",
      "metadata": {
        "id": "A13dlukLyLDd",
        "colab_type": "code",
        "colab": {}
      },
      "source": [
        "train_loader = DataLoader(dataset=train_ds, batch_size=32, shuffle=True)\n",
        "valid_loader = DataLoader(dataset=valid_ds, batch_size=64)"
      ],
      "execution_count": 0,
      "outputs": []
    },
    {
      "cell_type": "code",
      "metadata": {
        "id": "-EhH-6mZyLDf",
        "colab_type": "code",
        "outputId": "b9594235-3dfa-44a3-ce71-3917b5c28d3b",
        "colab": {
          "base_uri": "https://localhost:8080/",
          "height": 1000
        }
      },
      "source": [
        "train(pointnet, loss_fn, optimizer, train_loader, valid_loader, num_epochs = 50, save = True)"
      ],
      "execution_count": 0,
      "outputs": [
        {
          "output_type": "stream",
          "text": [
            "Starting epoch 1 / 50\n",
            "loss = 0.2882\n",
            "loss = 0.1620\n",
            "loss = 0.2154\n",
            "loss = 0.3207\n",
            "loss = 0.2819\n",
            "loss = 0.1710\n",
            "loss = 0.5302\n",
            "loss = 0.5654\n",
            "loss = 0.3025\n",
            "loss = 0.1833\n",
            "loss = 0.6169\n",
            "loss = 0.3591\n",
            "Got 665 / 908 correct (73.24)\n",
            "Starting epoch 2 / 50\n",
            "loss = 0.3633\n",
            "loss = 0.1565\n",
            "loss = 0.1783\n",
            "loss = 0.4773\n",
            "loss = 0.3910\n",
            "loss = 0.4503\n",
            "loss = 0.2565\n",
            "loss = 0.3356\n",
            "loss = 0.5494\n",
            "loss = 0.4255\n",
            "loss = 0.2128\n",
            "loss = 0.3058\n",
            "Got 697 / 908 correct (76.76)\n",
            "Starting epoch 3 / 50\n",
            "loss = 0.3989\n",
            "loss = 0.4293\n",
            "loss = 0.1240\n",
            "loss = 0.1470\n",
            "loss = 0.2930\n",
            "loss = 0.1007\n",
            "loss = 0.4137\n",
            "loss = 0.6531\n",
            "loss = 0.3627\n",
            "loss = 0.2637\n",
            "loss = 0.2206\n",
            "loss = 0.4308\n",
            "Got 676 / 908 correct (74.45)\n",
            "Starting epoch 4 / 50\n",
            "loss = 0.2846\n",
            "loss = 0.2242\n",
            "loss = 0.2897\n",
            "loss = 0.1773\n",
            "loss = 0.1851\n",
            "loss = 0.1689\n",
            "loss = 0.1614\n",
            "loss = 0.3826\n",
            "loss = 0.2475\n",
            "loss = 0.4810\n",
            "loss = 0.2615\n",
            "loss = 0.2060\n",
            "Got 710 / 908 correct (78.19)\n",
            "Starting epoch 5 / 50\n",
            "loss = 0.2398\n",
            "loss = 0.3931\n",
            "loss = 0.3192\n",
            "loss = 0.5200\n",
            "loss = 0.1253\n",
            "loss = 0.2162\n",
            "loss = 0.3511\n",
            "loss = 0.2940\n",
            "loss = 0.3068\n",
            "loss = 0.5364\n",
            "loss = 0.2900\n",
            "loss = 0.1606\n",
            "Got 674 / 908 correct (74.23)\n",
            "Starting epoch 6 / 50\n",
            "loss = 0.2664\n",
            "loss = 0.0890\n",
            "loss = 0.1968\n",
            "loss = 0.2379\n",
            "loss = 0.2984\n",
            "loss = 0.6670\n",
            "loss = 0.2346\n",
            "loss = 0.2326\n",
            "loss = 0.2190\n",
            "loss = 0.2980\n",
            "loss = 0.1287\n",
            "loss = 0.2576\n",
            "Got 700 / 908 correct (77.09)\n",
            "Starting epoch 7 / 50\n",
            "loss = 0.2408\n",
            "loss = 0.2023\n",
            "loss = 0.4505\n",
            "loss = 0.4333\n",
            "loss = 0.2146\n",
            "loss = 0.2954\n",
            "loss = 0.3053\n",
            "loss = 0.3395\n",
            "loss = 0.2553\n",
            "loss = 0.2529\n",
            "loss = 0.4560\n",
            "loss = 0.3887\n",
            "Got 664 / 908 correct (73.13)\n",
            "Starting epoch 8 / 50\n",
            "loss = 0.1230\n",
            "loss = 0.2208\n",
            "loss = 0.1332\n",
            "loss = 0.1090\n",
            "loss = 0.8172\n",
            "loss = 0.1726\n",
            "loss = 0.4286\n",
            "loss = 0.0391\n",
            "loss = 0.2531\n",
            "loss = 0.0956\n",
            "loss = 0.2146\n",
            "loss = 0.2290\n",
            "Got 733 / 908 correct (80.73)\n",
            "Starting epoch 9 / 50\n",
            "loss = 0.3535\n",
            "loss = 0.4007\n",
            "loss = 0.1984\n",
            "loss = 0.3693\n",
            "loss = 0.1277\n",
            "loss = 0.0694\n",
            "loss = 0.0443\n",
            "loss = 0.2403\n",
            "loss = 0.2364\n",
            "loss = 0.3504\n",
            "loss = 0.2020\n",
            "loss = 0.1916\n",
            "Got 742 / 908 correct (81.72)\n",
            "Starting epoch 10 / 50\n",
            "loss = 0.1351\n",
            "loss = 0.0557\n",
            "loss = 0.3820\n",
            "loss = 0.1001\n",
            "loss = 0.2651\n",
            "loss = 0.0946\n",
            "loss = 0.2711\n",
            "loss = 0.7219\n",
            "loss = 0.4721\n",
            "loss = 0.4667\n",
            "loss = 0.3485\n",
            "loss = 0.1592\n",
            "Got 734 / 908 correct (80.84)\n",
            "Starting epoch 11 / 50\n",
            "loss = 0.1325\n",
            "loss = 0.1495\n",
            "loss = 0.3949\n",
            "loss = 0.1928\n",
            "loss = 0.0713\n",
            "loss = 0.3015\n",
            "loss = 0.3311\n",
            "loss = 0.3225\n",
            "loss = 0.2330\n",
            "loss = 0.2512\n",
            "loss = 0.1030\n",
            "loss = 0.1318\n",
            "Got 723 / 908 correct (79.63)\n",
            "Starting epoch 12 / 50\n",
            "loss = 0.4407\n",
            "loss = 0.0933\n",
            "loss = 0.1530\n",
            "loss = 0.1495\n",
            "loss = 0.1624\n",
            "loss = 0.0797\n",
            "loss = 0.1853\n",
            "loss = 0.0216\n",
            "loss = 0.3770\n",
            "loss = 0.1139\n",
            "loss = 0.1322\n",
            "loss = 0.5107\n",
            "Got 710 / 908 correct (78.19)\n",
            "Starting epoch 13 / 50\n",
            "loss = 0.1661\n",
            "loss = 0.1173\n",
            "loss = 0.0727\n",
            "loss = 0.0924\n",
            "loss = 0.1186\n",
            "loss = 0.0962\n",
            "loss = 0.2261\n",
            "loss = 0.1079\n",
            "loss = 0.2734\n",
            "loss = 0.2079\n",
            "loss = 0.0624\n",
            "loss = 0.2748\n",
            "Got 747 / 908 correct (82.27)\n",
            "Starting epoch 14 / 50\n",
            "loss = 0.0815\n",
            "loss = 0.4014\n",
            "loss = 0.0937\n",
            "loss = 0.3061\n",
            "loss = 0.1850\n",
            "loss = 0.1858\n",
            "loss = 0.0687\n",
            "loss = 0.1332\n",
            "loss = 0.4058\n",
            "loss = 0.1862\n",
            "loss = 0.2106\n",
            "loss = 0.1339\n",
            "Got 768 / 908 correct (84.58)\n",
            "Starting epoch 15 / 50\n",
            "loss = 0.2148\n",
            "loss = 0.1927\n",
            "loss = 0.0773\n",
            "loss = 0.1355\n",
            "loss = 0.0883\n",
            "loss = 0.2098\n",
            "loss = 0.0514\n",
            "loss = 0.1101\n",
            "loss = 0.2045\n",
            "loss = 0.0782\n",
            "loss = 0.4773\n",
            "loss = 0.2431\n",
            "Got 750 / 908 correct (82.60)\n",
            "Starting epoch 16 / 50\n",
            "loss = 0.3019\n",
            "loss = 0.1111\n",
            "loss = 0.0759\n",
            "loss = 0.4002\n",
            "loss = 0.1447\n",
            "loss = 0.0899\n",
            "loss = 0.1521\n",
            "loss = 0.4962\n",
            "loss = 0.2261\n",
            "loss = 0.0855\n",
            "loss = 0.0388\n",
            "loss = 0.0553\n",
            "Got 769 / 908 correct (84.69)\n",
            "Starting epoch 17 / 50\n",
            "loss = 0.1547\n",
            "loss = 0.1348\n",
            "loss = 0.2041\n",
            "loss = 0.1879\n",
            "loss = 0.0644\n",
            "loss = 0.1207\n",
            "loss = 0.1187\n",
            "loss = 0.2901\n",
            "loss = 0.1919\n",
            "loss = 0.1642\n",
            "loss = 0.1175\n",
            "loss = 0.1106\n",
            "Got 803 / 908 correct (88.44)\n",
            "Starting epoch 18 / 50\n",
            "loss = 0.0528\n",
            "loss = 0.2028\n",
            "loss = 0.2313\n",
            "loss = 0.2183\n",
            "loss = 0.1130\n",
            "loss = 0.3582\n",
            "loss = 0.1292\n",
            "loss = 0.4858\n",
            "loss = 0.1832\n",
            "loss = 0.4022\n",
            "loss = 0.1348\n",
            "loss = 0.1457\n",
            "Got 759 / 908 correct (83.59)\n",
            "Starting epoch 19 / 50\n",
            "loss = 0.1640\n",
            "loss = 0.0896\n",
            "loss = 0.0888\n",
            "loss = 0.0901\n",
            "loss = 0.0933\n",
            "loss = 0.0599\n",
            "loss = 0.0650\n",
            "loss = 0.1444\n",
            "loss = 0.1122\n",
            "loss = 0.0247\n",
            "loss = 0.2996\n",
            "loss = 0.3379\n",
            "Got 752 / 908 correct (82.82)\n",
            "Starting epoch 20 / 50\n",
            "loss = 0.0857\n",
            "loss = 0.0566\n",
            "loss = 0.1300\n",
            "loss = 0.1605\n",
            "loss = 0.0680\n",
            "loss = 0.1463\n",
            "loss = 0.0928\n",
            "loss = 0.1092\n",
            "loss = 0.0499\n",
            "loss = 0.1043\n",
            "loss = 0.0799\n",
            "loss = 0.3499\n",
            "Got 761 / 908 correct (83.81)\n",
            "Starting epoch 21 / 50\n",
            "loss = 0.3070\n",
            "loss = 0.2468\n",
            "loss = 0.0989\n",
            "loss = 0.1259\n",
            "loss = 0.2184\n",
            "loss = 0.2909\n",
            "loss = 0.1011\n",
            "loss = 0.0256\n",
            "loss = 0.3018\n",
            "loss = 0.0663\n",
            "loss = 0.1158\n",
            "loss = 0.2101\n",
            "Got 713 / 908 correct (78.52)\n",
            "Epoch    21: reducing learning rate of group 0 to 1.0000e-02.\n",
            "Starting epoch 22 / 50\n",
            "loss = 0.1591\n",
            "loss = 0.0298\n",
            "loss = 0.1470\n",
            "loss = 0.1274\n",
            "loss = 0.0989\n",
            "loss = 0.2328\n",
            "loss = 0.0934\n",
            "loss = 0.0903\n",
            "loss = 0.2920\n",
            "loss = 0.0927\n",
            "loss = 0.1100\n",
            "loss = 0.0123\n",
            "Got 769 / 908 correct (84.69)\n",
            "Starting epoch 23 / 50\n",
            "loss = 0.0303\n",
            "loss = 0.1665\n",
            "loss = 0.0871\n",
            "loss = 0.0625\n",
            "loss = 0.1703\n",
            "loss = 0.0885\n",
            "loss = 0.0507\n",
            "loss = 0.1716\n",
            "loss = 0.2836\n",
            "loss = 0.2213\n",
            "loss = 0.2218\n",
            "loss = 0.5149\n",
            "Got 784 / 908 correct (86.34)\n",
            "Starting epoch 24 / 50\n",
            "loss = 0.1480\n",
            "loss = 0.1901\n",
            "loss = 0.1656\n",
            "loss = 0.2726\n",
            "loss = 0.1314\n",
            "loss = 0.2352\n",
            "loss = 0.1546\n",
            "loss = 0.1305\n",
            "loss = 0.0398\n",
            "loss = 0.0350\n",
            "loss = 0.1552\n",
            "loss = 0.1308\n",
            "Got 779 / 908 correct (85.79)\n",
            "Starting epoch 25 / 50\n",
            "loss = 0.1161\n",
            "loss = 0.0386\n",
            "loss = 0.0509\n",
            "loss = 0.0939\n",
            "loss = 0.1634\n",
            "loss = 0.1536\n",
            "loss = 0.1006\n",
            "loss = 0.1734\n",
            "loss = 0.0114\n",
            "loss = 0.0243\n",
            "loss = 0.2728\n",
            "loss = 0.1021\n",
            "Got 771 / 908 correct (84.91)\n",
            "Epoch    25: reducing learning rate of group 0 to 1.0000e-03.\n",
            "Starting epoch 26 / 50\n",
            "loss = 0.2212\n",
            "loss = 0.0327\n"
          ],
          "name": "stdout"
        },
        {
          "output_type": "error",
          "ename": "KeyboardInterrupt",
          "evalue": "ignored",
          "traceback": [
            "\u001b[0;31m---------------------------------------------------------------------------\u001b[0m",
            "\u001b[0;31mKeyboardInterrupt\u001b[0m                         Traceback (most recent call last)",
            "\u001b[0;32m<ipython-input-24-5fbad113ec88>\u001b[0m in \u001b[0;36m<module>\u001b[0;34m()\u001b[0m\n\u001b[0;32m----> 1\u001b[0;31m \u001b[0mtrain\u001b[0m\u001b[0;34m(\u001b[0m\u001b[0mpointnet\u001b[0m\u001b[0;34m,\u001b[0m \u001b[0mloss_fn\u001b[0m\u001b[0;34m,\u001b[0m \u001b[0moptimizer\u001b[0m\u001b[0;34m,\u001b[0m \u001b[0mtrain_loader\u001b[0m\u001b[0;34m,\u001b[0m \u001b[0mvalid_loader\u001b[0m\u001b[0;34m,\u001b[0m \u001b[0mnum_epochs\u001b[0m \u001b[0;34m=\u001b[0m \u001b[0;36m50\u001b[0m\u001b[0;34m,\u001b[0m \u001b[0msave\u001b[0m \u001b[0;34m=\u001b[0m \u001b[0;32mTrue\u001b[0m\u001b[0;34m)\u001b[0m\u001b[0;34m\u001b[0m\u001b[0;34m\u001b[0m\u001b[0m\n\u001b[0m",
            "\u001b[0;32m<ipython-input-17-ae0172fe307b>\u001b[0m in \u001b[0;36mtrain\u001b[0;34m(model, loss_fn, optimizer, train_loader, val_loader, num_epochs, save)\u001b[0m\n\u001b[1;32m     23\u001b[0m         \u001b[0mprint\u001b[0m\u001b[0;34m(\u001b[0m\u001b[0;34m'Starting epoch %d / %d'\u001b[0m \u001b[0;34m%\u001b[0m \u001b[0;34m(\u001b[0m\u001b[0mepoch\u001b[0m \u001b[0;34m+\u001b[0m \u001b[0;36m1\u001b[0m\u001b[0;34m,\u001b[0m \u001b[0mnum_epochs\u001b[0m\u001b[0;34m)\u001b[0m\u001b[0;34m)\u001b[0m\u001b[0;34m\u001b[0m\u001b[0;34m\u001b[0m\u001b[0m\n\u001b[1;32m     24\u001b[0m         \u001b[0mmodel\u001b[0m\u001b[0;34m.\u001b[0m\u001b[0mtrain\u001b[0m\u001b[0;34m(\u001b[0m\u001b[0;34m)\u001b[0m\u001b[0;34m\u001b[0m\u001b[0;34m\u001b[0m\u001b[0m\n\u001b[0;32m---> 25\u001b[0;31m         \u001b[0;32mfor\u001b[0m \u001b[0mt\u001b[0m\u001b[0;34m,\u001b[0m \u001b[0mdata\u001b[0m \u001b[0;32min\u001b[0m \u001b[0menumerate\u001b[0m\u001b[0;34m(\u001b[0m\u001b[0mtrain_loader\u001b[0m\u001b[0;34m)\u001b[0m\u001b[0;34m:\u001b[0m\u001b[0;34m\u001b[0m\u001b[0;34m\u001b[0m\u001b[0m\n\u001b[0m\u001b[1;32m     26\u001b[0m             \u001b[0mx_var\u001b[0m\u001b[0;34m,\u001b[0m \u001b[0my_var\u001b[0m \u001b[0;34m=\u001b[0m \u001b[0mdata\u001b[0m\u001b[0;34m[\u001b[0m\u001b[0;34m'pointcloud'\u001b[0m\u001b[0;34m]\u001b[0m\u001b[0;34m.\u001b[0m\u001b[0mto\u001b[0m\u001b[0;34m(\u001b[0m\u001b[0mdevice\u001b[0m\u001b[0;34m)\u001b[0m\u001b[0;34m.\u001b[0m\u001b[0mfloat\u001b[0m\u001b[0;34m(\u001b[0m\u001b[0;34m)\u001b[0m\u001b[0;34m,\u001b[0m \u001b[0mdata\u001b[0m\u001b[0;34m[\u001b[0m\u001b[0;34m'category'\u001b[0m\u001b[0;34m]\u001b[0m\u001b[0;34m.\u001b[0m\u001b[0mto\u001b[0m\u001b[0;34m(\u001b[0m\u001b[0mdevice\u001b[0m\u001b[0;34m)\u001b[0m\u001b[0;34m\u001b[0m\u001b[0;34m\u001b[0m\u001b[0m\n\u001b[1;32m     27\u001b[0m \u001b[0;34m\u001b[0m\u001b[0m\n",
            "\u001b[0;32m/usr/local/lib/python3.6/dist-packages/torch/utils/data/dataloader.py\u001b[0m in \u001b[0;36m__next__\u001b[0;34m(self)\u001b[0m\n\u001b[1;32m    343\u001b[0m \u001b[0;34m\u001b[0m\u001b[0m\n\u001b[1;32m    344\u001b[0m     \u001b[0;32mdef\u001b[0m \u001b[0m__next__\u001b[0m\u001b[0;34m(\u001b[0m\u001b[0mself\u001b[0m\u001b[0;34m)\u001b[0m\u001b[0;34m:\u001b[0m\u001b[0;34m\u001b[0m\u001b[0;34m\u001b[0m\u001b[0m\n\u001b[0;32m--> 345\u001b[0;31m         \u001b[0mdata\u001b[0m \u001b[0;34m=\u001b[0m \u001b[0mself\u001b[0m\u001b[0;34m.\u001b[0m\u001b[0m_next_data\u001b[0m\u001b[0;34m(\u001b[0m\u001b[0;34m)\u001b[0m\u001b[0;34m\u001b[0m\u001b[0;34m\u001b[0m\u001b[0m\n\u001b[0m\u001b[1;32m    346\u001b[0m         \u001b[0mself\u001b[0m\u001b[0;34m.\u001b[0m\u001b[0m_num_yielded\u001b[0m \u001b[0;34m+=\u001b[0m \u001b[0;36m1\u001b[0m\u001b[0;34m\u001b[0m\u001b[0;34m\u001b[0m\u001b[0m\n\u001b[1;32m    347\u001b[0m         \u001b[0;32mif\u001b[0m \u001b[0mself\u001b[0m\u001b[0;34m.\u001b[0m\u001b[0m_dataset_kind\u001b[0m \u001b[0;34m==\u001b[0m \u001b[0m_DatasetKind\u001b[0m\u001b[0;34m.\u001b[0m\u001b[0mIterable\u001b[0m \u001b[0;32mand\u001b[0m\u001b[0;31m \u001b[0m\u001b[0;31m\\\u001b[0m\u001b[0;34m\u001b[0m\u001b[0;34m\u001b[0m\u001b[0m\n",
            "\u001b[0;32m/usr/local/lib/python3.6/dist-packages/torch/utils/data/dataloader.py\u001b[0m in \u001b[0;36m_next_data\u001b[0;34m(self)\u001b[0m\n\u001b[1;32m    383\u001b[0m     \u001b[0;32mdef\u001b[0m \u001b[0m_next_data\u001b[0m\u001b[0;34m(\u001b[0m\u001b[0mself\u001b[0m\u001b[0;34m)\u001b[0m\u001b[0;34m:\u001b[0m\u001b[0;34m\u001b[0m\u001b[0;34m\u001b[0m\u001b[0m\n\u001b[1;32m    384\u001b[0m         \u001b[0mindex\u001b[0m \u001b[0;34m=\u001b[0m \u001b[0mself\u001b[0m\u001b[0;34m.\u001b[0m\u001b[0m_next_index\u001b[0m\u001b[0;34m(\u001b[0m\u001b[0;34m)\u001b[0m  \u001b[0;31m# may raise StopIteration\u001b[0m\u001b[0;34m\u001b[0m\u001b[0;34m\u001b[0m\u001b[0m\n\u001b[0;32m--> 385\u001b[0;31m         \u001b[0mdata\u001b[0m \u001b[0;34m=\u001b[0m \u001b[0mself\u001b[0m\u001b[0;34m.\u001b[0m\u001b[0m_dataset_fetcher\u001b[0m\u001b[0;34m.\u001b[0m\u001b[0mfetch\u001b[0m\u001b[0;34m(\u001b[0m\u001b[0mindex\u001b[0m\u001b[0;34m)\u001b[0m  \u001b[0;31m# may raise StopIteration\u001b[0m\u001b[0;34m\u001b[0m\u001b[0;34m\u001b[0m\u001b[0m\n\u001b[0m\u001b[1;32m    386\u001b[0m         \u001b[0;32mif\u001b[0m \u001b[0mself\u001b[0m\u001b[0;34m.\u001b[0m\u001b[0m_pin_memory\u001b[0m\u001b[0;34m:\u001b[0m\u001b[0;34m\u001b[0m\u001b[0;34m\u001b[0m\u001b[0m\n\u001b[1;32m    387\u001b[0m             \u001b[0mdata\u001b[0m \u001b[0;34m=\u001b[0m \u001b[0m_utils\u001b[0m\u001b[0;34m.\u001b[0m\u001b[0mpin_memory\u001b[0m\u001b[0;34m.\u001b[0m\u001b[0mpin_memory\u001b[0m\u001b[0;34m(\u001b[0m\u001b[0mdata\u001b[0m\u001b[0;34m)\u001b[0m\u001b[0;34m\u001b[0m\u001b[0;34m\u001b[0m\u001b[0m\n",
            "\u001b[0;32m/usr/local/lib/python3.6/dist-packages/torch/utils/data/_utils/fetch.py\u001b[0m in \u001b[0;36mfetch\u001b[0;34m(self, possibly_batched_index)\u001b[0m\n\u001b[1;32m     42\u001b[0m     \u001b[0;32mdef\u001b[0m \u001b[0mfetch\u001b[0m\u001b[0;34m(\u001b[0m\u001b[0mself\u001b[0m\u001b[0;34m,\u001b[0m \u001b[0mpossibly_batched_index\u001b[0m\u001b[0;34m)\u001b[0m\u001b[0;34m:\u001b[0m\u001b[0;34m\u001b[0m\u001b[0;34m\u001b[0m\u001b[0m\n\u001b[1;32m     43\u001b[0m         \u001b[0;32mif\u001b[0m \u001b[0mself\u001b[0m\u001b[0;34m.\u001b[0m\u001b[0mauto_collation\u001b[0m\u001b[0;34m:\u001b[0m\u001b[0;34m\u001b[0m\u001b[0;34m\u001b[0m\u001b[0m\n\u001b[0;32m---> 44\u001b[0;31m             \u001b[0mdata\u001b[0m \u001b[0;34m=\u001b[0m \u001b[0;34m[\u001b[0m\u001b[0mself\u001b[0m\u001b[0;34m.\u001b[0m\u001b[0mdataset\u001b[0m\u001b[0;34m[\u001b[0m\u001b[0midx\u001b[0m\u001b[0;34m]\u001b[0m \u001b[0;32mfor\u001b[0m \u001b[0midx\u001b[0m \u001b[0;32min\u001b[0m \u001b[0mpossibly_batched_index\u001b[0m\u001b[0;34m]\u001b[0m\u001b[0;34m\u001b[0m\u001b[0;34m\u001b[0m\u001b[0m\n\u001b[0m\u001b[1;32m     45\u001b[0m         \u001b[0;32melse\u001b[0m\u001b[0;34m:\u001b[0m\u001b[0;34m\u001b[0m\u001b[0;34m\u001b[0m\u001b[0m\n\u001b[1;32m     46\u001b[0m             \u001b[0mdata\u001b[0m \u001b[0;34m=\u001b[0m \u001b[0mself\u001b[0m\u001b[0;34m.\u001b[0m\u001b[0mdataset\u001b[0m\u001b[0;34m[\u001b[0m\u001b[0mpossibly_batched_index\u001b[0m\u001b[0;34m]\u001b[0m\u001b[0;34m\u001b[0m\u001b[0;34m\u001b[0m\u001b[0m\n",
            "\u001b[0;32m/usr/local/lib/python3.6/dist-packages/torch/utils/data/_utils/fetch.py\u001b[0m in \u001b[0;36m<listcomp>\u001b[0;34m(.0)\u001b[0m\n\u001b[1;32m     42\u001b[0m     \u001b[0;32mdef\u001b[0m \u001b[0mfetch\u001b[0m\u001b[0;34m(\u001b[0m\u001b[0mself\u001b[0m\u001b[0;34m,\u001b[0m \u001b[0mpossibly_batched_index\u001b[0m\u001b[0;34m)\u001b[0m\u001b[0;34m:\u001b[0m\u001b[0;34m\u001b[0m\u001b[0;34m\u001b[0m\u001b[0m\n\u001b[1;32m     43\u001b[0m         \u001b[0;32mif\u001b[0m \u001b[0mself\u001b[0m\u001b[0;34m.\u001b[0m\u001b[0mauto_collation\u001b[0m\u001b[0;34m:\u001b[0m\u001b[0;34m\u001b[0m\u001b[0;34m\u001b[0m\u001b[0m\n\u001b[0;32m---> 44\u001b[0;31m             \u001b[0mdata\u001b[0m \u001b[0;34m=\u001b[0m \u001b[0;34m[\u001b[0m\u001b[0mself\u001b[0m\u001b[0;34m.\u001b[0m\u001b[0mdataset\u001b[0m\u001b[0;34m[\u001b[0m\u001b[0midx\u001b[0m\u001b[0;34m]\u001b[0m \u001b[0;32mfor\u001b[0m \u001b[0midx\u001b[0m \u001b[0;32min\u001b[0m \u001b[0mpossibly_batched_index\u001b[0m\u001b[0;34m]\u001b[0m\u001b[0;34m\u001b[0m\u001b[0;34m\u001b[0m\u001b[0m\n\u001b[0m\u001b[1;32m     45\u001b[0m         \u001b[0;32melse\u001b[0m\u001b[0;34m:\u001b[0m\u001b[0;34m\u001b[0m\u001b[0;34m\u001b[0m\u001b[0m\n\u001b[1;32m     46\u001b[0m             \u001b[0mdata\u001b[0m \u001b[0;34m=\u001b[0m \u001b[0mself\u001b[0m\u001b[0;34m.\u001b[0m\u001b[0mdataset\u001b[0m\u001b[0;34m[\u001b[0m\u001b[0mpossibly_batched_index\u001b[0m\u001b[0;34m]\u001b[0m\u001b[0;34m\u001b[0m\u001b[0;34m\u001b[0m\u001b[0m\n",
            "\u001b[0;32m<ipython-input-16-7dd288a1dc77>\u001b[0m in \u001b[0;36m__getitem__\u001b[0;34m(self, idx)\u001b[0m\n\u001b[1;32m     29\u001b[0m         \u001b[0mcategory\u001b[0m \u001b[0;34m=\u001b[0m \u001b[0mself\u001b[0m\u001b[0;34m.\u001b[0m\u001b[0mfiles\u001b[0m\u001b[0;34m[\u001b[0m\u001b[0midx\u001b[0m\u001b[0;34m]\u001b[0m\u001b[0;34m[\u001b[0m\u001b[0;34m'category'\u001b[0m\u001b[0;34m]\u001b[0m\u001b[0;34m\u001b[0m\u001b[0;34m\u001b[0m\u001b[0m\n\u001b[1;32m     30\u001b[0m         \u001b[0;32mwith\u001b[0m \u001b[0mopen\u001b[0m\u001b[0;34m(\u001b[0m\u001b[0mpcd_path\u001b[0m\u001b[0;34m,\u001b[0m \u001b[0;34m'r'\u001b[0m\u001b[0;34m)\u001b[0m \u001b[0;32mas\u001b[0m \u001b[0mf\u001b[0m\u001b[0;34m:\u001b[0m\u001b[0;34m\u001b[0m\u001b[0;34m\u001b[0m\u001b[0m\n\u001b[0;32m---> 31\u001b[0;31m             \u001b[0mpointcloud\u001b[0m \u001b[0;34m=\u001b[0m \u001b[0mself\u001b[0m\u001b[0;34m.\u001b[0m\u001b[0m__preproc__\u001b[0m\u001b[0;34m(\u001b[0m\u001b[0mf\u001b[0m\u001b[0;34m)\u001b[0m\u001b[0;34m\u001b[0m\u001b[0;34m\u001b[0m\u001b[0m\n\u001b[0m\u001b[1;32m     32\u001b[0m         return {'pointcloud': pointcloud, \n\u001b[1;32m     33\u001b[0m                 'category': self.classes[category]}\n",
            "\u001b[0;32m<ipython-input-16-7dd288a1dc77>\u001b[0m in \u001b[0;36m__preproc__\u001b[0;34m(self, file)\u001b[0m\n\u001b[1;32m     20\u001b[0m \u001b[0;34m\u001b[0m\u001b[0m\n\u001b[1;32m     21\u001b[0m     \u001b[0;32mdef\u001b[0m \u001b[0m__preproc__\u001b[0m\u001b[0;34m(\u001b[0m\u001b[0mself\u001b[0m\u001b[0;34m,\u001b[0m \u001b[0mfile\u001b[0m\u001b[0;34m)\u001b[0m\u001b[0;34m:\u001b[0m\u001b[0;34m\u001b[0m\u001b[0;34m\u001b[0m\u001b[0m\n\u001b[0;32m---> 22\u001b[0;31m         \u001b[0mverts\u001b[0m\u001b[0;34m,\u001b[0m \u001b[0mfaces\u001b[0m \u001b[0;34m=\u001b[0m \u001b[0mread_off\u001b[0m\u001b[0;34m(\u001b[0m\u001b[0mfile\u001b[0m\u001b[0;34m)\u001b[0m\u001b[0;34m\u001b[0m\u001b[0;34m\u001b[0m\u001b[0m\n\u001b[0m\u001b[1;32m     23\u001b[0m         \u001b[0;32mif\u001b[0m \u001b[0mself\u001b[0m\u001b[0;34m.\u001b[0m\u001b[0mtransforms\u001b[0m\u001b[0;34m:\u001b[0m\u001b[0;34m\u001b[0m\u001b[0;34m\u001b[0m\u001b[0m\n\u001b[1;32m     24\u001b[0m             \u001b[0mpointcloud\u001b[0m \u001b[0;34m=\u001b[0m \u001b[0mself\u001b[0m\u001b[0;34m.\u001b[0m\u001b[0mtransforms\u001b[0m\u001b[0;34m(\u001b[0m\u001b[0;34m(\u001b[0m\u001b[0mverts\u001b[0m\u001b[0;34m,\u001b[0m \u001b[0mfaces\u001b[0m\u001b[0;34m)\u001b[0m\u001b[0;34m)\u001b[0m\u001b[0;34m\u001b[0m\u001b[0;34m\u001b[0m\u001b[0m\n",
            "\u001b[0;32m<ipython-input-6-3d956aa686c5>\u001b[0m in \u001b[0;36mread_off\u001b[0;34m(file)\u001b[0m\n\u001b[1;32m      4\u001b[0m     \u001b[0mn_verts\u001b[0m\u001b[0;34m,\u001b[0m \u001b[0mn_faces\u001b[0m\u001b[0;34m,\u001b[0m \u001b[0m__\u001b[0m \u001b[0;34m=\u001b[0m \u001b[0mtuple\u001b[0m\u001b[0;34m(\u001b[0m\u001b[0;34m[\u001b[0m\u001b[0mint\u001b[0m\u001b[0;34m(\u001b[0m\u001b[0ms\u001b[0m\u001b[0;34m)\u001b[0m \u001b[0;32mfor\u001b[0m \u001b[0ms\u001b[0m \u001b[0;32min\u001b[0m \u001b[0mfile\u001b[0m\u001b[0;34m.\u001b[0m\u001b[0mreadline\u001b[0m\u001b[0;34m(\u001b[0m\u001b[0;34m)\u001b[0m\u001b[0;34m.\u001b[0m\u001b[0mstrip\u001b[0m\u001b[0;34m(\u001b[0m\u001b[0;34m)\u001b[0m\u001b[0;34m.\u001b[0m\u001b[0msplit\u001b[0m\u001b[0;34m(\u001b[0m\u001b[0;34m' '\u001b[0m\u001b[0;34m)\u001b[0m\u001b[0;34m]\u001b[0m\u001b[0;34m)\u001b[0m\u001b[0;34m\u001b[0m\u001b[0;34m\u001b[0m\u001b[0m\n\u001b[1;32m      5\u001b[0m     \u001b[0mverts\u001b[0m \u001b[0;34m=\u001b[0m \u001b[0;34m[\u001b[0m\u001b[0;34m[\u001b[0m\u001b[0mfloat\u001b[0m\u001b[0;34m(\u001b[0m\u001b[0ms\u001b[0m\u001b[0;34m)\u001b[0m \u001b[0;32mfor\u001b[0m \u001b[0ms\u001b[0m \u001b[0;32min\u001b[0m \u001b[0mfile\u001b[0m\u001b[0;34m.\u001b[0m\u001b[0mreadline\u001b[0m\u001b[0;34m(\u001b[0m\u001b[0;34m)\u001b[0m\u001b[0;34m.\u001b[0m\u001b[0mstrip\u001b[0m\u001b[0;34m(\u001b[0m\u001b[0;34m)\u001b[0m\u001b[0;34m.\u001b[0m\u001b[0msplit\u001b[0m\u001b[0;34m(\u001b[0m\u001b[0;34m' '\u001b[0m\u001b[0;34m)\u001b[0m\u001b[0;34m]\u001b[0m \u001b[0;32mfor\u001b[0m \u001b[0mi_vert\u001b[0m \u001b[0;32min\u001b[0m \u001b[0mrange\u001b[0m\u001b[0;34m(\u001b[0m\u001b[0mn_verts\u001b[0m\u001b[0;34m)\u001b[0m\u001b[0;34m]\u001b[0m\u001b[0;34m\u001b[0m\u001b[0;34m\u001b[0m\u001b[0m\n\u001b[0;32m----> 6\u001b[0;31m     \u001b[0mfaces\u001b[0m \u001b[0;34m=\u001b[0m \u001b[0;34m[\u001b[0m\u001b[0;34m[\u001b[0m\u001b[0mint\u001b[0m\u001b[0;34m(\u001b[0m\u001b[0ms\u001b[0m\u001b[0;34m)\u001b[0m \u001b[0;32mfor\u001b[0m \u001b[0ms\u001b[0m \u001b[0;32min\u001b[0m \u001b[0mfile\u001b[0m\u001b[0;34m.\u001b[0m\u001b[0mreadline\u001b[0m\u001b[0;34m(\u001b[0m\u001b[0;34m)\u001b[0m\u001b[0;34m.\u001b[0m\u001b[0mstrip\u001b[0m\u001b[0;34m(\u001b[0m\u001b[0;34m)\u001b[0m\u001b[0;34m.\u001b[0m\u001b[0msplit\u001b[0m\u001b[0;34m(\u001b[0m\u001b[0;34m' '\u001b[0m\u001b[0;34m)\u001b[0m\u001b[0;34m]\u001b[0m\u001b[0;34m[\u001b[0m\u001b[0;36m1\u001b[0m\u001b[0;34m:\u001b[0m\u001b[0;34m]\u001b[0m \u001b[0;32mfor\u001b[0m \u001b[0mi_face\u001b[0m \u001b[0;32min\u001b[0m \u001b[0mrange\u001b[0m\u001b[0;34m(\u001b[0m\u001b[0mn_faces\u001b[0m\u001b[0;34m)\u001b[0m\u001b[0;34m]\u001b[0m\u001b[0;34m\u001b[0m\u001b[0;34m\u001b[0m\u001b[0m\n\u001b[0m\u001b[1;32m      7\u001b[0m     \u001b[0;32mreturn\u001b[0m \u001b[0mverts\u001b[0m\u001b[0;34m,\u001b[0m \u001b[0mfaces\u001b[0m\u001b[0;34m\u001b[0m\u001b[0;34m\u001b[0m\u001b[0m\n",
            "\u001b[0;32m<ipython-input-6-3d956aa686c5>\u001b[0m in \u001b[0;36m<listcomp>\u001b[0;34m(.0)\u001b[0m\n\u001b[1;32m      4\u001b[0m     \u001b[0mn_verts\u001b[0m\u001b[0;34m,\u001b[0m \u001b[0mn_faces\u001b[0m\u001b[0;34m,\u001b[0m \u001b[0m__\u001b[0m \u001b[0;34m=\u001b[0m \u001b[0mtuple\u001b[0m\u001b[0;34m(\u001b[0m\u001b[0;34m[\u001b[0m\u001b[0mint\u001b[0m\u001b[0;34m(\u001b[0m\u001b[0ms\u001b[0m\u001b[0;34m)\u001b[0m \u001b[0;32mfor\u001b[0m \u001b[0ms\u001b[0m \u001b[0;32min\u001b[0m \u001b[0mfile\u001b[0m\u001b[0;34m.\u001b[0m\u001b[0mreadline\u001b[0m\u001b[0;34m(\u001b[0m\u001b[0;34m)\u001b[0m\u001b[0;34m.\u001b[0m\u001b[0mstrip\u001b[0m\u001b[0;34m(\u001b[0m\u001b[0;34m)\u001b[0m\u001b[0;34m.\u001b[0m\u001b[0msplit\u001b[0m\u001b[0;34m(\u001b[0m\u001b[0;34m' '\u001b[0m\u001b[0;34m)\u001b[0m\u001b[0;34m]\u001b[0m\u001b[0;34m)\u001b[0m\u001b[0;34m\u001b[0m\u001b[0;34m\u001b[0m\u001b[0m\n\u001b[1;32m      5\u001b[0m     \u001b[0mverts\u001b[0m \u001b[0;34m=\u001b[0m \u001b[0;34m[\u001b[0m\u001b[0;34m[\u001b[0m\u001b[0mfloat\u001b[0m\u001b[0;34m(\u001b[0m\u001b[0ms\u001b[0m\u001b[0;34m)\u001b[0m \u001b[0;32mfor\u001b[0m \u001b[0ms\u001b[0m \u001b[0;32min\u001b[0m \u001b[0mfile\u001b[0m\u001b[0;34m.\u001b[0m\u001b[0mreadline\u001b[0m\u001b[0;34m(\u001b[0m\u001b[0;34m)\u001b[0m\u001b[0;34m.\u001b[0m\u001b[0mstrip\u001b[0m\u001b[0;34m(\u001b[0m\u001b[0;34m)\u001b[0m\u001b[0;34m.\u001b[0m\u001b[0msplit\u001b[0m\u001b[0;34m(\u001b[0m\u001b[0;34m' '\u001b[0m\u001b[0;34m)\u001b[0m\u001b[0;34m]\u001b[0m \u001b[0;32mfor\u001b[0m \u001b[0mi_vert\u001b[0m \u001b[0;32min\u001b[0m \u001b[0mrange\u001b[0m\u001b[0;34m(\u001b[0m\u001b[0mn_verts\u001b[0m\u001b[0;34m)\u001b[0m\u001b[0;34m]\u001b[0m\u001b[0;34m\u001b[0m\u001b[0;34m\u001b[0m\u001b[0m\n\u001b[0;32m----> 6\u001b[0;31m     \u001b[0mfaces\u001b[0m \u001b[0;34m=\u001b[0m \u001b[0;34m[\u001b[0m\u001b[0;34m[\u001b[0m\u001b[0mint\u001b[0m\u001b[0;34m(\u001b[0m\u001b[0ms\u001b[0m\u001b[0;34m)\u001b[0m \u001b[0;32mfor\u001b[0m \u001b[0ms\u001b[0m \u001b[0;32min\u001b[0m \u001b[0mfile\u001b[0m\u001b[0;34m.\u001b[0m\u001b[0mreadline\u001b[0m\u001b[0;34m(\u001b[0m\u001b[0;34m)\u001b[0m\u001b[0;34m.\u001b[0m\u001b[0mstrip\u001b[0m\u001b[0;34m(\u001b[0m\u001b[0;34m)\u001b[0m\u001b[0;34m.\u001b[0m\u001b[0msplit\u001b[0m\u001b[0;34m(\u001b[0m\u001b[0;34m' '\u001b[0m\u001b[0;34m)\u001b[0m\u001b[0;34m]\u001b[0m\u001b[0;34m[\u001b[0m\u001b[0;36m1\u001b[0m\u001b[0;34m:\u001b[0m\u001b[0;34m]\u001b[0m \u001b[0;32mfor\u001b[0m \u001b[0mi_face\u001b[0m \u001b[0;32min\u001b[0m \u001b[0mrange\u001b[0m\u001b[0;34m(\u001b[0m\u001b[0mn_faces\u001b[0m\u001b[0;34m)\u001b[0m\u001b[0;34m]\u001b[0m\u001b[0;34m\u001b[0m\u001b[0;34m\u001b[0m\u001b[0m\n\u001b[0m\u001b[1;32m      7\u001b[0m     \u001b[0;32mreturn\u001b[0m \u001b[0mverts\u001b[0m\u001b[0;34m,\u001b[0m \u001b[0mfaces\u001b[0m\u001b[0;34m\u001b[0m\u001b[0;34m\u001b[0m\u001b[0m\n",
            "\u001b[0;31mKeyboardInterrupt\u001b[0m: "
          ]
        }
      ]
    },
    {
      "cell_type": "code",
      "metadata": {
        "id": "WZugA3ymBjip",
        "colab_type": "code",
        "colab": {}
      },
      "source": [
        "check_accuracy(pointnet, valid_loader)"
      ],
      "execution_count": 0,
      "outputs": []
    },
    {
      "cell_type": "code",
      "metadata": {
        "id": "g0XwG-vkExYD",
        "colab_type": "code",
        "colab": {}
      },
      "source": [
        ""
      ],
      "execution_count": 0,
      "outputs": []
    }
  ]
}