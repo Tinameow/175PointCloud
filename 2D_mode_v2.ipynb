{
  "nbformat": 4,
  "nbformat_minor": 0,
  "metadata": {
    "kernelspec": {
      "display_name": "Python 3",
      "language": "python",
      "name": "python3"
    },
    "language_info": {
      "codemirror_mode": {
        "name": "ipython",
        "version": 3
      },
      "file_extension": ".py",
      "mimetype": "text/x-python",
      "name": "python",
      "nbconvert_exporter": "python",
      "pygments_lexer": "ipython3",
      "version": "3.7.4"
    },
    "colab": {
      "name": "2D_mode_v2.ipynb",
      "provenance": [],
      "collapsed_sections": [],
      "toc_visible": true,
      "include_colab_link": true
    }
  },
  "cells": [
    {
      "cell_type": "markdown",
      "metadata": {
        "id": "view-in-github",
        "colab_type": "text"
      },
      "source": [
        "<a href=\"https://colab.research.google.com/github/Tinameow/175PointCloud/blob/master/2D_mode_v2.ipynb\" target=\"_parent\"><img src=\"https://colab.research.google.com/assets/colab-badge.svg\" alt=\"Open In Colab\"/></a>"
      ]
    },
    {
      "cell_type": "code",
      "metadata": {
        "id": "L0zDOOgMyLCv",
        "colab_type": "code",
        "colab": {}
      },
      "source": [
        "import numpy as np\n",
        "import math\n",
        "import random\n",
        "import os\n",
        "import torch\n",
        "import scipy.spatial.distance\n",
        "from torch.utils.data import Dataset, DataLoader\n",
        "from torchvision import transforms, utils\n",
        "\n",
        "import plotly.graph_objects as go\n",
        "import plotly.express as px\n",
        "\n",
        "##\n",
        "import matplotlib.pyplot as plt\n",
        "import matplotlib.patches as patches\n",
        "import matplotlib.cm as cm\n",
        "\n",
        "import torch\n",
        "import torch.nn as nn\n",
        "import torch.optim as optim\n",
        "from torch.autograd import Variable\n",
        "from torch.utils.data import DataLoader\n",
        "from torch.utils.data import sampler\n",
        "\n",
        "import torchvision.datasets as dset\n",
        "import torchvision.transforms as T\n"
      ],
      "execution_count": 0,
      "outputs": []
    },
    {
      "cell_type": "markdown",
      "metadata": {
        "id": "9FfjIWxWyLCz",
        "colab_type": "text"
      },
      "source": [
        "## Get dataset"
      ]
    },
    {
      "cell_type": "code",
      "metadata": {
        "id": "58SMiGPkyTfx",
        "colab_type": "code",
        "outputId": "438b7748-d91f-448a-aa97-e2be444ae9ef",
        "colab": {
          "base_uri": "https://localhost:8080/",
          "height": 125
        }
      },
      "source": [
        "pip install path "
      ],
      "execution_count": 2,
      "outputs": [
        {
          "output_type": "stream",
          "text": [
            "Collecting path\n",
            "  Downloading https://files.pythonhosted.org/packages/ce/76/08fdf5988b815f40a4a26a9b63052ebf7c35d677591d93d0a61bfc63379c/path-14.0.1-py3-none-any.whl\n",
            "Requirement already satisfied: importlib-metadata>=0.5; python_version < \"3.8\" in /usr/local/lib/python3.6/dist-packages (from path) (1.6.0)\n",
            "Requirement already satisfied: zipp>=0.5 in /usr/local/lib/python3.6/dist-packages (from importlib-metadata>=0.5; python_version < \"3.8\"->path) (3.1.0)\n",
            "Installing collected packages: path\n",
            "Successfully installed path-14.0.1\n"
          ],
          "name": "stdout"
        }
      ]
    },
    {
      "cell_type": "code",
      "metadata": {
        "id": "C8_NvXVlyQ_7",
        "colab_type": "code",
        "outputId": "5ae85b69-0924-4597-d550-7705b8d3b7e7",
        "colab": {
          "base_uri": "https://localhost:8080/",
          "height": 215
        }
      },
      "source": [
        "!wget http://3dvision.princeton.edu/projects/2014/3DShapeNets/ModelNet10.zip"
      ],
      "execution_count": 3,
      "outputs": [
        {
          "output_type": "stream",
          "text": [
            "--2020-05-29 17:07:19--  http://3dvision.princeton.edu/projects/2014/3DShapeNets/ModelNet10.zip\n",
            "Resolving 3dvision.princeton.edu (3dvision.princeton.edu)... 128.112.136.61\n",
            "Connecting to 3dvision.princeton.edu (3dvision.princeton.edu)|128.112.136.61|:80... connected.\n",
            "HTTP request sent, awaiting response... 200 OK\n",
            "Length: 473402300 (451M) [application/zip]\n",
            "Saving to: ‘ModelNet10.zip’\n",
            "\n",
            "ModelNet10.zip      100%[===================>] 451.47M  98.5MB/s    in 4.7s    \n",
            "\n",
            "2020-05-29 17:07:24 (96.4 MB/s) - ‘ModelNet10.zip’ saved [473402300/473402300]\n",
            "\n"
          ],
          "name": "stdout"
        }
      ]
    },
    {
      "cell_type": "code",
      "metadata": {
        "id": "-I8QuM7-yR5J",
        "colab_type": "code",
        "colab": {}
      },
      "source": [
        "!unzip -q ModelNet10.zip"
      ],
      "execution_count": 0,
      "outputs": []
    },
    {
      "cell_type": "code",
      "metadata": {
        "id": "sIio2-LuyLCz",
        "colab_type": "code",
        "outputId": "c213c874-c896-40f2-c4a6-d27b69231377",
        "colab": {
          "base_uri": "https://localhost:8080/",
          "height": 197
        }
      },
      "source": [
        "from path import Path\n",
        "\n",
        "path = Path(\"ModelNet10\")\n",
        "folders = [dir for dir in sorted(os.listdir(path)) if os.path.isdir(path/dir)]\n",
        "classes = {folder: i for i, folder in enumerate(folders)};\n",
        "classes"
      ],
      "execution_count": 5,
      "outputs": [
        {
          "output_type": "execute_result",
          "data": {
            "text/plain": [
              "{'bathtub': 0,\n",
              " 'bed': 1,\n",
              " 'chair': 2,\n",
              " 'desk': 3,\n",
              " 'dresser': 4,\n",
              " 'monitor': 5,\n",
              " 'night_stand': 6,\n",
              " 'sofa': 7,\n",
              " 'table': 8,\n",
              " 'toilet': 9}"
            ]
          },
          "metadata": {
            "tags": []
          },
          "execution_count": 5
        }
      ]
    },
    {
      "cell_type": "code",
      "metadata": {
        "id": "7tURpenLyLC3",
        "colab_type": "code",
        "colab": {}
      },
      "source": [
        "def read_off(file):\n",
        "    if 'OFF' != file.readline().strip():\n",
        "        raise('Not a valid OFF header')\n",
        "    n_verts, n_faces, __ = tuple([int(s) for s in file.readline().strip().split(' ')])\n",
        "    verts = [[float(s) for s in file.readline().strip().split(' ')] for i_vert in range(n_verts)]\n",
        "    faces = [[int(s) for s in file.readline().strip().split(' ')][1:] for i_face in range(n_faces)]\n",
        "    return verts, faces"
      ],
      "execution_count": 0,
      "outputs": []
    },
    {
      "cell_type": "markdown",
      "metadata": {
        "id": "klSI1ebTyLC5",
        "colab_type": "text"
      },
      "source": [
        "## sample 3d points"
      ]
    },
    {
      "cell_type": "code",
      "metadata": {
        "id": "_mYE3HRCyLC5",
        "colab_type": "code",
        "colab": {}
      },
      "source": [
        "class PointSampler(object):\n",
        "    def __init__(self, output_size):\n",
        "        assert isinstance(output_size, int)\n",
        "        self.output_size = output_size\n",
        "    \n",
        "    def triangle_area(self, pt1, pt2, pt3):\n",
        "        side_a = np.linalg.norm(pt1 - pt2)\n",
        "        side_b = np.linalg.norm(pt2 - pt3)\n",
        "        side_c = np.linalg.norm(pt3 - pt1)\n",
        "        s = 0.5 * ( side_a + side_b + side_c)\n",
        "        return max(s * (s - side_a) * (s - side_b) * (s - side_c), 0)**0.5\n",
        "\n",
        "    def sample_point(self, pt1, pt2, pt3):\n",
        "        # barycentric coordinates on a triangle\n",
        "        # https://mathworld.wolfram.com/BarycentricCoordinates.html\n",
        "        s, t = sorted([random.random(), random.random()])\n",
        "        f = lambda i: s * pt1[i] + (t-s)*pt2[i] + (1-t)*pt3[i]\n",
        "        return (f(0), f(1), f(2))\n",
        "        \n",
        "    \n",
        "    def __call__(self, mesh):\n",
        "        verts, faces = mesh\n",
        "        verts = np.array(verts)\n",
        "        areas = np.zeros((len(faces)))\n",
        "\n",
        "        for i in range(len(areas)):\n",
        "            areas[i] = (self.triangle_area(verts[faces[i][0]],\n",
        "                                           verts[faces[i][1]],\n",
        "                                           verts[faces[i][2]]))\n",
        "            \n",
        "        sampled_faces = (random.choices(faces, \n",
        "                                      weights=areas,\n",
        "                                      cum_weights=None,\n",
        "                                      k=self.output_size))\n",
        "        \n",
        "        sampled_points = np.zeros((self.output_size, 3))\n",
        "\n",
        "        for i in range(len(sampled_faces)):\n",
        "            sampled_points[i] = (self.sample_point(verts[sampled_faces[i][0]],\n",
        "                                                   verts[sampled_faces[i][1]],\n",
        "                                                   verts[sampled_faces[i][2]]))\n",
        "        \n",
        "        return sampled_points"
      ],
      "execution_count": 0,
      "outputs": []
    },
    {
      "cell_type": "code",
      "metadata": {
        "id": "ClWYiadzyLC7",
        "colab_type": "code",
        "colab": {}
      },
      "source": [
        "class Normalize(object):\n",
        "    def __call__(self, pointcloud):\n",
        "        assert len(pointcloud.shape)==2\n",
        "        \n",
        "        norm_pointcloud = pointcloud - np.mean(pointcloud, axis=0) \n",
        "        norm_pointcloud /= np.max(np.linalg.norm(norm_pointcloud, axis=1))\n",
        "\n",
        "        return  norm_pointcloud"
      ],
      "execution_count": 0,
      "outputs": []
    },
    {
      "cell_type": "markdown",
      "metadata": {
        "id": "rvz1hkW0yLC-",
        "colab_type": "text"
      },
      "source": [
        "## take 2d photo"
      ]
    },
    {
      "cell_type": "code",
      "metadata": {
        "id": "hHNgvv52yLC-",
        "colab_type": "code",
        "colab": {}
      },
      "source": [
        "def makerotation(rx,ry,rz):\n",
        "    \"\"\"\n",
        "    Generate a rotation matrix    \n",
        "\n",
        "    Parameters\n",
        "    ----------\n",
        "    rx,ry,rz : floats\n",
        "        Amount to rotate around x, y and z axes in degrees\n",
        "\n",
        "    Returns\n",
        "    -------\n",
        "    R : 2D numpy.array (dtype=float)\n",
        "        Rotation matrix of shape (3,3)\n",
        "    \"\"\"\n",
        "    rx = np.pi*rx/180.0\n",
        "    ry = np.pi*ry/180.0\n",
        "    rz = np.pi*rz/180.0\n",
        "\n",
        "    Rx = np.array([[1,0,0],[0,np.cos(rx),-np.sin(rx)],[0,np.sin(rx),np.cos(rx)]])\n",
        "    Ry = np.array([[np.cos(ry),0,-np.sin(ry)],[0,1,0],[np.sin(ry),0,np.cos(ry)]])\n",
        "    Rz = np.array([[np.cos(rz),-np.sin(rz),0],[np.sin(rz),np.cos(rz),0],[0,0,1]])\n",
        "    R = (Rz @ Ry @ Rx)\n",
        "    \n",
        "    return R \n",
        "\n",
        "class Camera:\n",
        "    \"\"\"\n",
        "    A simple data structure describing camera parameters \n",
        "    \n",
        "    The parameters describing the camera\n",
        "    cam.f : float   --- camera focal length (in units of pixels)\n",
        "    cam.c : 2x1 vector  --- offset of principle point\n",
        "    cam.R : 3x3 matrix --- camera rotation\n",
        "    cam.t : 3x1 vector --- camera translation \n",
        "\n",
        "    \n",
        "    \"\"\"    \n",
        "    def __init__(self,f,c,R,t):\n",
        "        self.f = f\n",
        "        self.c = c\n",
        "        self.R = R\n",
        "        self.t = t\n",
        "\n",
        "    def __str__(self):\n",
        "        return f'Camera : \\n f={self.f} \\n c={self.c.T} \\n R={self.R} \\n t = {self.t.T}'\n",
        "    \n",
        "    def project(self,pts3):\n",
        "        \"\"\"\n",
        "        Project the given 3D points in world coordinates into the specified camera    \n",
        "\n",
        "        Parameters\n",
        "        ----------\n",
        "        pts3 : 2D numpy.array (dtype=float)\n",
        "            Coordinates of N points stored in a array of shape (3,N)\n",
        "\n",
        "        Returns\n",
        "        -------\n",
        "        pts2 : 2D numpy.array (dtype=float)\n",
        "            Image coordinates of N points stored in an array of shape (2,N)\n",
        "\n",
        "        \"\"\"\n",
        "        assert(pts3.shape[0]==3)\n",
        "\n",
        "        # get point location relative to camera\n",
        "        pcam = self.R.transpose() @ (pts3 - self.t)\n",
        "         \n",
        "        # project\n",
        "        p = self.f * (pcam / pcam[2,:])\n",
        "        \n",
        "        # offset principal point\n",
        "        pts2 = p[0:2,:] + self.c\n",
        "        \n",
        "        assert(pts2.shape[1]==pts3.shape[1])\n",
        "        assert(pts2.shape[0]==2)\n",
        "    \n",
        "        return pts2\n",
        " \n",
        "    def update_extrinsics(self,params):\n",
        "        \"\"\"\n",
        "        Given a vector of extrinsic parameters, update the camera\n",
        "        to use the provided parameters.\n",
        "  \n",
        "        Parameters\n",
        "        ----------\n",
        "        params : 1D numpy.array (dtype=float)\n",
        "            Camera parameters we are optimizing over stored in a vector\n",
        "            params[0:2] are the rotation angles, params[2:5] are the translation\n",
        "\n",
        "        \"\"\"\n",
        "        self.R = makerotation(params[0],params[1],params[2])\n",
        "        self.t = np.array([[params[3]],[params[4]],[params[5]]])"
      ],
      "execution_count": 0,
      "outputs": []
    },
    {
      "cell_type": "code",
      "metadata": {
        "id": "bK9fJPdHyLDA",
        "colab_type": "code",
        "colab": {}
      },
      "source": [
        "cam1 = Camera(f=25,c=np.array([[16,16]]).T,t=np.array([[0,2,0]]).T, R=makerotation(90,0,0))\n",
        "cam2 = Camera(f=25,c=np.array([[16,16]]).T,t=np.array([[2,0,0]]).T, R=makerotation(0,90,0))\n",
        "cam3 = Camera(f=25,c=np.array([[16,16]]).T,t=np.array([[0,0,2]]).T, R=makerotation(180,0,0))"
      ],
      "execution_count": 0,
      "outputs": []
    },
    {
      "cell_type": "markdown",
      "metadata": {
        "id": "hEI3CBHYyLDC",
        "colab_type": "text"
      },
      "source": [
        "## if need to augment data... adding noise"
      ]
    },
    {
      "cell_type": "code",
      "metadata": {
        "id": "UI0P4PhgyLDD",
        "colab_type": "code",
        "colab": {}
      },
      "source": [
        "class RandRotation_z(object):\n",
        "    def __call__(self, pointcloud):\n",
        "        assert len(pointcloud.shape)==2\n",
        "\n",
        "        theta = random.random() * 2. * math.pi\n",
        "        rot_matrix = np.array([[ math.cos(theta), -math.sin(theta),    0],\n",
        "                               [ math.sin(theta),  math.cos(theta),    0],\n",
        "                               [0,                             0,      1]])\n",
        "        \n",
        "        rot_pointcloud = rot_matrix.dot(pointcloud.T).T\n",
        "        return  rot_pointcloud\n",
        "    \n",
        "class RandomNoise(object):\n",
        "    def __call__(self, pointcloud):\n",
        "        assert len(pointcloud.shape)==2\n",
        "\n",
        "        noise = np.random.normal(0, 0.02, (pointcloud.shape))\n",
        "    \n",
        "        noisy_pointcloud = pointcloud + noise\n",
        "        return  noisy_pointcloud"
      ],
      "execution_count": 0,
      "outputs": []
    },
    {
      "cell_type": "markdown",
      "metadata": {
        "id": "uiM4MtV7yLDF",
        "colab_type": "text"
      },
      "source": [
        "## Creating data point"
      ]
    },
    {
      "cell_type": "code",
      "metadata": {
        "id": "pGzMr1RIyLDF",
        "colab_type": "code",
        "colab": {}
      },
      "source": [
        "class create_data_point(object):\n",
        "    def __init__(self, cams):\n",
        "        self.cams = cams\n",
        "    \n",
        "    def __call__(self, pointcloud):\n",
        "        n = len(self.cams)\n",
        "        pts2 = np.zeros((n,32,32))\n",
        "        for i in range(n):\n",
        "            ind = self.cams[i].project(pointcloud.T).astype(int).T\n",
        "            for k,j in ind:\n",
        "                pts2[i,j,k] += 1\n",
        "\n",
        "        pts2 /= np.max(pts2)\n",
        "        return pts2"
      ],
      "execution_count": 0,
      "outputs": []
    },
    {
      "cell_type": "code",
      "metadata": {
        "id": "JGuA6OxTyLDH",
        "colab_type": "code",
        "colab": {}
      },
      "source": [
        "class create_3_view(object):\n",
        "    def __call__(self, pointcloud):\n",
        "        pts2 = np.zeros((3,32,32))\n",
        "        for i,j in pointcloud[:,:2]:\n",
        "            i, j = int(i*16), int(j*16)\n",
        "            pts2[0,i,j] += 1\n",
        "        for i,j in pointcloud[:,1:]:\n",
        "            i, j = int(i*16), int(j*16)\n",
        "            pts2[1,i,j] += 1\n",
        "        for i,j in zip(pointcloud[:,0], pointcloud[:,1]):\n",
        "            i, j = int(i*16), int(j*16)\n",
        "            pts2[2,i,j] += 1\n",
        "        pts2 /= np.max(pts2)\n",
        "        return pts2"
      ],
      "execution_count": 0,
      "outputs": []
    },
    {
      "cell_type": "markdown",
      "metadata": {
        "id": "sC4bxnLCyLDJ",
        "colab_type": "text"
      },
      "source": [
        "## Creating data set"
      ]
    },
    {
      "cell_type": "code",
      "metadata": {
        "id": "IYPGVXdLyLDK",
        "colab_type": "code",
        "colab": {}
      },
      "source": [
        "class ToTensor(object):\n",
        "    def __call__(self, pointcloud):\n",
        "        return torch.from_numpy(pointcloud)"
      ],
      "execution_count": 0,
      "outputs": []
    },
    {
      "cell_type": "code",
      "metadata": {
        "id": "bNE26q9KyLDM",
        "colab_type": "code",
        "colab": {}
      },
      "source": [
        "cam1 = Camera(f=25,c=np.array([[16,16]]).T,t=np.array([[0,2,0]]).T, R=makerotation(90,0,0))\n",
        "cam2 = Camera(f=25,c=np.array([[16,16]]).T,t=np.array([[2,0,0]]).T, R=makerotation(0,90,0))\n",
        "cam3 = Camera(f=25,c=np.array([[16,16]]).T,t=np.array([[0,0,2]]).T, R=makerotation(180,0,0))\n",
        "cams = [cam1,cam2,cam3]\n",
        "\n",
        "\n",
        "train_transforms = transforms.Compose([\n",
        "                    PointSampler(1024),\n",
        "                    Normalize(),\n",
        "                    RandRotation_z(),\n",
        "                    RandomNoise(),\n",
        "                    create_data_point(cams),\n",
        "                    ToTensor()\n",
        "                    ])\n",
        "\n",
        "transforms_3views = transforms.Compose([\n",
        "                    PointSampler(1024),\n",
        "                    Normalize(),\n",
        "                    RandRotation_z(),\n",
        "                    RandomNoise(),\n",
        "                    create_3_view(),\n",
        "                    ToTensor()\n",
        "                    ])\n",
        "\n",
        "def default_transforms():\n",
        "    return transforms.Compose([\n",
        "                    PointSampler(1024),\n",
        "                    Normalize(),\n",
        "                    create_data_point(cams),\n",
        "                    ToTensor()\n",
        "                    ])"
      ],
      "execution_count": 0,
      "outputs": []
    },
    {
      "cell_type": "code",
      "metadata": {
        "id": "W5c26hdByLDO",
        "colab_type": "code",
        "colab": {}
      },
      "source": [
        "class PointCloudData(Dataset):\n",
        "    def __init__(self, root_dir, valid=False, folder=\"train\", transform=default_transforms()):\n",
        "        self.root_dir = root_dir\n",
        "        folders = [dir for dir in sorted(os.listdir(root_dir)) if os.path.isdir(root_dir/dir)]\n",
        "        self.classes = {folder: i for i, folder in enumerate(folders)}\n",
        "        self.transforms = transform if not valid else default_transforms()\n",
        "        self.valid = valid\n",
        "        self.files = []\n",
        "        for category in self.classes.keys():\n",
        "            new_dir = root_dir/Path(category)/folder\n",
        "            for file in os.listdir(new_dir):\n",
        "                if file.endswith('.off'):\n",
        "                    sample = {}\n",
        "                    sample['pcd_path'] = new_dir/file\n",
        "                    sample['category'] = category\n",
        "                    self.files.append(sample)\n",
        "\n",
        "    def __len__(self):\n",
        "        return len(self.files)\n",
        "\n",
        "    def __preproc__(self, file):\n",
        "        verts, faces = read_off(file)\n",
        "        if self.transforms:\n",
        "            pointcloud = self.transforms((verts, faces))\n",
        "        return pointcloud\n",
        "\n",
        "    def __getitem__(self, idx):\n",
        "        pcd_path = self.files[idx]['pcd_path']\n",
        "        category = self.files[idx]['category']\n",
        "        with open(pcd_path, 'r') as f:\n",
        "            pointcloud = self.__preproc__(f)\n",
        "        return {'pointcloud': pointcloud, \n",
        "                'category': self.classes[category]}"
      ],
      "execution_count": 0,
      "outputs": []
    },
    {
      "cell_type": "code",
      "metadata": {
        "id": "50Sx8kQhyLDQ",
        "colab_type": "code",
        "colab": {}
      },
      "source": [
        "def train(model, loss_fn, optimizer, num_epochs = 1, save = False):\n",
        "    for epoch in range(num_epochs):\n",
        "        print('Starting epoch %d / %d' % (epoch + 1, num_epochs))\n",
        "        model.train()\n",
        "        for t, data in enumerate(train_loader):\n",
        "            x_var, y_var = data['pointcloud'].to(device).float(), data['category'].to(device)\n",
        "\n",
        "            scores = model(x_var)\n",
        "            \n",
        "            loss = loss_fn(scores, y_var)\n",
        "            if (t + 1) % 10 == 0:\n",
        "                print('loss = %.4f' % (loss.data))\n",
        "\n",
        "            optimizer.zero_grad()\n",
        "            loss.backward()\n",
        "            optimizer.step()\n",
        "        \n",
        "        if save:\n",
        "            torch.save(model.state_dict(), \"save_\"+str(epoch)+\".pth\")\n",
        "    \n",
        "            \n",
        "def check_accuracy(model, loader):\n",
        "    num_correct = 0\n",
        "    num_samples = 0\n",
        "    model.eval() # Put the model in test mode (the opposite of model.train(), essentially)\n",
        "    for i, data in enumerate(loader):\n",
        "        x_var, y = data['pointcloud'].to(device).float(), data['category']\n",
        "\n",
        "        scores = model(x_var)\n",
        "        _, preds = scores.data.cpu().max(1)\n",
        "        num_correct += (preds == y).sum()\n",
        "        num_samples += preds.size(0)\n",
        "    acc = float(num_correct) / num_samples\n",
        "    print('Got %d / %d correct (%.2f)' % (num_correct, num_samples, 100 * acc))"
      ],
      "execution_count": 0,
      "outputs": []
    },
    {
      "cell_type": "markdown",
      "metadata": {
        "id": "Om-hC06-yLDS",
        "colab_type": "text"
      },
      "source": [
        "## Model"
      ]
    },
    {
      "cell_type": "code",
      "metadata": {
        "id": "wmrCHJgfyLDS",
        "colab_type": "code",
        "colab": {}
      },
      "source": [
        "class ConvOneView(nn.Module):\n",
        "    def __init__(self):\n",
        "        '''extracting features from single view'''\n",
        "        super().__init__()\n",
        "        self.conv1 = nn.Conv2d(1,32,3)\n",
        "        self.conv2 = nn.Conv2d(32,64,3)\n",
        "        self.conv3 = nn.Conv2d(64,128,3)\n",
        "\n",
        "        self.pool = nn.MaxPool2d(2)\n",
        "        \n",
        "        self.relu = nn.ReLU(inplace=True)\n",
        "        self.fc1 = nn.Linear(12544,1024)\n",
        "\n",
        "        self.bn1 = nn.BatchNorm2d(32)\n",
        "        self.bn2 = nn.BatchNorm2d(64)\n",
        "\n",
        "        self.bn3 = nn.BatchNorm1d(1024)\n",
        "\n",
        "\n",
        "    def forward(self, input):\n",
        "        # input.shape == (bs,1,32,32)\n",
        "        \n",
        "        bs = input.size(0)\n",
        "        xb = self.pool(self.bn1(self.relu(self.conv1(input))))\n",
        "        xb = self.pool(self.bn2(self.relu(self.conv2(xb))))\n",
        "        xb = self.pool(self.bn3(self.relu(self.conv2(xb))))\n",
        "        \n",
        "        flat = nn.Flatten()(xb)\n",
        "        xb = self.bn3(self.relu(self.fc1(flat)))\n",
        "\n",
        "        return xb\n",
        "\n",
        "\n",
        "class CombineMultiView(nn.Module):\n",
        "    '''extracting features from multi views'''\n",
        "    def __init__(self):\n",
        "        super().__init__()\n",
        "        self.conv1 = ConvOneView()\n",
        "\n",
        "    def forward(self, input):\n",
        "#         print(list(input[:,0,:,:][:,None,:,:].size()))\n",
        "        layer1 = self.conv1(input[:,0,:,:][:,None,:,:])\n",
        "        layer2 = self.conv1(input[:,1,:,:][:,None,:,:])\n",
        "        layer3 = self.conv1(input[:,2,:,:][:,None,:,:])\n",
        "        \n",
        "        # xb = nn.MaxPool1d(1)(torch.stack((layer1,layer2,layer3),2))\n",
        "        xb = nn.MaxPool1d(3)(torch.stack((layer1,layer2,layer3),2))\n",
        "        output = nn.Flatten(1)(xb)\n",
        "        \n",
        "        # print(list(xb.size()))\n",
        "        \n",
        "        return output\n",
        "\n",
        "class MVNet(nn.Module):\n",
        "    def __init__(self, classes = 10):\n",
        "        super().__init__()\n",
        "        self.CombineMultiView = CombineMultiView()\n",
        "        self.fc1 = nn.Linear(1024, 512)\n",
        "        self.fc2 = nn.Linear(512, 256)\n",
        "        self.fc3 = nn.Linear(256, classes)\n",
        "\n",
        "\n",
        "        self.bn1 = nn.BatchNorm1d(512)\n",
        "        self.bn2 = nn.BatchNorm1d(256)\n",
        "        self.dropout = nn.Dropout(p=0.3)\n",
        "        self.logsoftmax = nn.LogSoftmax(dim=1)\n",
        "\n",
        "    def forward(self, input):\n",
        "        xb = self.CombineMultiView(input)\n",
        "        xb = nn.ReLU(inplace=True)(self.bn1(self.fc1(xb)))\n",
        "        xb = nn.ReLU(inplace=True)(self.bn2(self.dropout(self.fc2(xb))))\n",
        "        output = self.fc3(xb)\n",
        "        return self.logsoftmax(output)"
      ],
      "execution_count": 0,
      "outputs": []
    },
    {
      "cell_type": "code",
      "metadata": {
        "id": "0iVDpPyjyLDW",
        "colab_type": "code",
        "colab": {}
      },
      "source": [
        "train_ds = PointCloudData(Path(path), transform=train_transforms)\n",
        "valid_ds = PointCloudData(Path(path), valid=True, folder='test', transform=train_transforms)"
      ],
      "execution_count": 0,
      "outputs": []
    },
    {
      "cell_type": "code",
      "metadata": {
        "id": "tlb5wQk6yLDY",
        "colab_type": "code",
        "outputId": "3d21dbe8-800b-4dc6-9cfa-8c3cd6eaf473",
        "colab": {
          "base_uri": "https://localhost:8080/",
          "height": 35
        }
      },
      "source": [
        "device = torch.device(\"cuda:0\" if torch.cuda.is_available() else \"cpu\")\n",
        "print(device)"
      ],
      "execution_count": 41,
      "outputs": [
        {
          "output_type": "stream",
          "text": [
            "cpu\n"
          ],
          "name": "stdout"
        }
      ]
    },
    {
      "cell_type": "code",
      "metadata": {
        "id": "_Lnkp_lFyLDZ",
        "colab_type": "code",
        "outputId": "02aca6d2-3d4f-4104-9fd5-403446e002e8",
        "colab": {
          "base_uri": "https://localhost:8080/",
          "height": 377
        }
      },
      "source": [
        "pointnet = MVNet()\n",
        "pointnet.to(device)"
      ],
      "execution_count": 50,
      "outputs": [
        {
          "output_type": "execute_result",
          "data": {
            "text/plain": [
              "MVNet(\n",
              "  (CombineMultiView): CombineMultiView(\n",
              "    (conv1): ConvOneView(\n",
              "      (conv1): Conv2d(1, 32, kernel_size=(3, 3), stride=(1, 1))\n",
              "      (conv2): Conv2d(32, 64, kernel_size=(3, 3), stride=(1, 1))\n",
              "      (pool1): MaxPool2d(kernel_size=2, stride=2, padding=0, dilation=1, ceil_mode=False)\n",
              "      (fc1): Linear(in_features=12544, out_features=1024, bias=True)\n",
              "      (bn1): BatchNorm2d(32, eps=1e-05, momentum=0.1, affine=True, track_running_stats=True)\n",
              "      (bn2): BatchNorm2d(64, eps=1e-05, momentum=0.1, affine=True, track_running_stats=True)\n",
              "      (bn3): BatchNorm1d(1024, eps=1e-05, momentum=0.1, affine=True, track_running_stats=True)\n",
              "    )\n",
              "  )\n",
              "  (fc1): Linear(in_features=1024, out_features=512, bias=True)\n",
              "  (fc2): Linear(in_features=512, out_features=256, bias=True)\n",
              "  (fc3): Linear(in_features=256, out_features=10, bias=True)\n",
              "  (bn1): BatchNorm1d(512, eps=1e-05, momentum=0.1, affine=True, track_running_stats=True)\n",
              "  (bn2): BatchNorm1d(256, eps=1e-05, momentum=0.1, affine=True, track_running_stats=True)\n",
              "  (dropout): Dropout(p=0.3, inplace=False)\n",
              "  (logsoftmax): LogSoftmax()\n",
              ")"
            ]
          },
          "metadata": {
            "tags": []
          },
          "execution_count": 50
        }
      ]
    },
    {
      "cell_type": "code",
      "metadata": {
        "id": "2ZxlAJjRyLDb",
        "colab_type": "code",
        "colab": {}
      },
      "source": [
        "loss_fn = nn.CrossEntropyLoss()\n",
        "optimizer = torch.optim.Adam(pointnet.parameters(), lr=0.01)"
      ],
      "execution_count": 0,
      "outputs": []
    },
    {
      "cell_type": "code",
      "metadata": {
        "id": "A13dlukLyLDd",
        "colab_type": "code",
        "colab": {}
      },
      "source": [
        "train_loader = DataLoader(dataset=train_ds, batch_size=32, shuffle=True)\n",
        "valid_loader = DataLoader(dataset=valid_ds, batch_size=64)"
      ],
      "execution_count": 0,
      "outputs": []
    },
    {
      "cell_type": "code",
      "metadata": {
        "id": "-EhH-6mZyLDf",
        "colab_type": "code",
        "outputId": "ef6ff1db-5cd5-4bc7-bc5d-19f079cfde64",
        "colab": {
          "base_uri": "https://localhost:8080/",
          "height": 719
        }
      },
      "source": [
        "train(pointnet, loss_fn, optimizer, num_epochs = 3, save = False)"
      ],
      "execution_count": 54,
      "outputs": [
        {
          "output_type": "stream",
          "text": [
            "Starting epoch 1 / 3\n",
            "loss = 1.4831\n",
            "loss = 1.3801\n",
            "loss = 0.9988\n",
            "loss = 1.5297\n",
            "loss = 1.1031\n",
            "loss = 0.9913\n",
            "loss = 0.8064\n",
            "loss = 0.5787\n",
            "loss = 0.9756\n",
            "loss = 0.7380\n",
            "loss = 0.6432\n",
            "loss = 1.0842\n",
            "Starting epoch 2 / 3\n",
            "loss = 0.7899\n",
            "loss = 0.6351\n",
            "loss = 0.7691\n",
            "loss = 0.5552\n",
            "loss = 0.6985\n",
            "loss = 0.8509\n",
            "loss = 0.4534\n",
            "loss = 0.3181\n",
            "loss = 1.4709\n",
            "loss = 0.6982\n",
            "loss = 0.3043\n",
            "loss = 0.6468\n",
            "Starting epoch 3 / 3\n",
            "loss = 0.5888\n",
            "loss = 0.5170\n",
            "loss = 0.6234\n",
            "loss = 0.5586\n",
            "loss = 0.6006\n",
            "loss = 0.6366\n",
            "loss = 0.3890\n",
            "loss = 0.3635\n",
            "loss = 0.4334\n",
            "loss = 0.3944\n",
            "loss = 0.3881\n",
            "loss = 0.4007\n"
          ],
          "name": "stdout"
        }
      ]
    },
    {
      "cell_type": "code",
      "metadata": {
        "colab_type": "code",
        "outputId": "39cf1da5-64e7-4c54-acf1-b6173245fd41",
        "id": "vceYbzPgc19E",
        "colab": {
          "base_uri": "https://localhost:8080/",
          "height": 719
        }
      },
      "source": [
        "optimizer = torch.optim.Adam(pointnet.parameters(), lr=0.001)\n",
        "train(pointnet, loss_fn, optimizer, num_epochs = 3, save = True)"
      ],
      "execution_count": 55,
      "outputs": [
        {
          "output_type": "stream",
          "text": [
            "Starting epoch 1 / 3\n",
            "loss = 0.5351\n",
            "loss = 0.2992\n",
            "loss = 0.6938\n",
            "loss = 0.1438\n",
            "loss = 0.5089\n",
            "loss = 0.5681\n",
            "loss = 0.2569\n",
            "loss = 0.3385\n",
            "loss = 0.3269\n",
            "loss = 0.3509\n",
            "loss = 0.1457\n",
            "loss = 0.1180\n",
            "Starting epoch 2 / 3\n",
            "loss = 0.1694\n",
            "loss = 0.3071\n",
            "loss = 0.2181\n",
            "loss = 0.4104\n",
            "loss = 0.2975\n",
            "loss = 0.5118\n",
            "loss = 0.2319\n",
            "loss = 0.2575\n",
            "loss = 0.6065\n",
            "loss = 0.4853\n",
            "loss = 0.2640\n",
            "loss = 0.2573\n",
            "Starting epoch 3 / 3\n",
            "loss = 0.3207\n",
            "loss = 0.3180\n",
            "loss = 0.4432\n",
            "loss = 0.3547\n",
            "loss = 0.2674\n",
            "loss = 0.3491\n",
            "loss = 0.2609\n",
            "loss = 0.4270\n",
            "loss = 0.1432\n",
            "loss = 0.2020\n",
            "loss = 0.2776\n",
            "loss = 0.1158\n"
          ],
          "name": "stdout"
        }
      ]
    },
    {
      "cell_type": "code",
      "metadata": {
        "id": "DKyIVZ88yLDh",
        "colab_type": "code",
        "outputId": "6505e7c9-1d98-43b0-8d8f-9ef14c9d1eb0",
        "colab": {
          "base_uri": "https://localhost:8080/",
          "height": 35
        }
      },
      "source": [
        "check_accuracy(pointnet, valid_loader)"
      ],
      "execution_count": 56,
      "outputs": [
        {
          "output_type": "stream",
          "text": [
            "Got 755 / 908 correct (83.15)\n"
          ],
          "name": "stdout"
        }
      ]
    },
    {
      "cell_type": "markdown",
      "metadata": {
        "id": "NDoZORvUy-5D",
        "colab_type": "text"
      },
      "source": [
        "## if using combs of x,y,z without cams\n",
        "\n",
        "poor result! only .22 accuracy. "
      ]
    },
    {
      "cell_type": "code",
      "metadata": {
        "id": "2WAr9BeAyLDj",
        "colab_type": "code",
        "colab": {}
      },
      "source": [
        "train_ds = PointCloudData(Path(path), transform=transforms_3views)\n",
        "valid_ds = PointCloudData(Path(path), valid=True, folder='test', transform=transforms_3views)"
      ],
      "execution_count": 0,
      "outputs": []
    },
    {
      "cell_type": "code",
      "metadata": {
        "id": "3FYmGaMAzVXk",
        "colab_type": "code",
        "colab": {}
      },
      "source": [
        "train_loader = DataLoader(dataset=train_ds, batch_size=32, shuffle=True)\n",
        "valid_loader = DataLoader(dataset=valid_ds, batch_size=64)"
      ],
      "execution_count": 0,
      "outputs": []
    },
    {
      "cell_type": "code",
      "metadata": {
        "id": "vE47UhuxzY9G",
        "colab_type": "code",
        "colab": {
          "base_uri": "https://localhost:8080/",
          "height": 1000
        },
        "outputId": "ceb25670-e49f-4b0a-9325-65aa0e131b5c"
      },
      "source": [
        "loss_fn = nn.CrossEntropyLoss()\n",
        "optimizer = torch.optim.Adam(pointnet.parameters(), lr=0.001)\n",
        "\n",
        "train(pointnet, loss_fn, optimizer, num_epochs = 3, save = False)\n",
        "check_accuracy(pointnet, valid_loader)\n",
        "\n",
        "optimizer = torch.optim.Adam(pointnet.parameters(), lr=0.0001)\n",
        "train(pointnet, loss_fn, optimizer, num_epochs = 3, save = False)\n",
        "check_accuracy(pointnet, valid_loader)"
      ],
      "execution_count": 37,
      "outputs": [
        {
          "output_type": "stream",
          "text": [
            "Starting epoch 1 / 3\n",
            "loss = 1.6314\n",
            "loss = 1.2071\n",
            "loss = 0.6656\n",
            "loss = 1.4093\n",
            "loss = 0.4780\n",
            "loss = 0.6858\n",
            "loss = 0.8004\n",
            "loss = 0.7348\n",
            "loss = 0.8933\n",
            "loss = 0.3187\n",
            "loss = 0.6725\n",
            "loss = 0.8771\n",
            "Starting epoch 2 / 3\n",
            "loss = 0.6437\n",
            "loss = 0.6463\n",
            "loss = 0.3991\n",
            "loss = 0.5001\n",
            "loss = 0.5230\n",
            "loss = 0.5051\n",
            "loss = 0.4422\n",
            "loss = 0.2444\n",
            "loss = 0.6172\n",
            "loss = 0.5478\n",
            "loss = 0.4249\n",
            "loss = 0.4057\n",
            "Starting epoch 3 / 3\n",
            "loss = 0.3261\n",
            "loss = 0.3376\n",
            "loss = 0.4216\n",
            "loss = 0.2966\n",
            "loss = 0.3900\n",
            "loss = 0.2570\n",
            "loss = 0.5147\n",
            "loss = 0.2462\n",
            "loss = 0.6367\n",
            "loss = 0.4862\n",
            "loss = 0.2113\n",
            "loss = 0.3870\n",
            "Got 205 / 908 correct (22.58)\n",
            "Starting epoch 1 / 3\n",
            "loss = 0.2945\n",
            "loss = 0.4772\n",
            "loss = 0.7244\n",
            "loss = 0.3852\n",
            "loss = 0.3709\n",
            "loss = 0.1837\n",
            "loss = 0.3859\n",
            "loss = 0.4085\n",
            "loss = 0.5655\n",
            "loss = 0.2219\n",
            "loss = 0.3165\n",
            "loss = 0.3336\n",
            "Starting epoch 2 / 3\n",
            "loss = 0.4359\n",
            "loss = 0.3030\n",
            "loss = 0.1800\n",
            "loss = 0.3578\n",
            "loss = 0.4293\n",
            "loss = 0.2276\n",
            "loss = 0.2267\n",
            "loss = 0.3829\n",
            "loss = 0.1683\n",
            "loss = 0.2735\n",
            "loss = 0.2447\n",
            "loss = 0.3155\n",
            "Starting epoch 3 / 3\n",
            "loss = 0.2744\n",
            "loss = 0.0885\n",
            "loss = 0.2827\n",
            "loss = 0.1770\n",
            "loss = 0.3036\n",
            "loss = 0.2116\n",
            "loss = 0.2531\n",
            "loss = 0.2958\n",
            "loss = 0.2236\n",
            "loss = 0.3677\n",
            "loss = 0.2967\n",
            "loss = 0.2578\n",
            "Got 204 / 908 correct (22.47)\n"
          ],
          "name": "stdout"
        }
      ]
    }
  ]
}