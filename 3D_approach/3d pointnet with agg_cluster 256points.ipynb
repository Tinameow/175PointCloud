{
 "cells": [
  {
   "cell_type": "code",
   "execution_count": 1,
   "metadata": {
    "colab": {
     "base_uri": "https://localhost:8080/",
     "height": 124
    },
    "colab_type": "code",
    "id": "UvqtpKQV-3Xx",
    "outputId": "ca8c8652-1b03-48ce-d93b-116e7323df24"
   },
   "outputs": [
    {
     "name": "stdout",
     "output_type": "stream",
     "text": [
      "Go to this URL in a browser: https://accounts.google.com/o/oauth2/auth?client_id=947318989803-6bn6qk8qdgf4n4g3pfee6491hc0brc4i.apps.googleusercontent.com&redirect_uri=urn%3aietf%3awg%3aoauth%3a2.0%3aoob&response_type=code&scope=email%20https%3a%2f%2fwww.googleapis.com%2fauth%2fdocs.test%20https%3a%2f%2fwww.googleapis.com%2fauth%2fdrive%20https%3a%2f%2fwww.googleapis.com%2fauth%2fdrive.photos.readonly%20https%3a%2f%2fwww.googleapis.com%2fauth%2fpeopleapi.readonly\n",
      "\n",
      "Enter your authorization code:\n",
      "··········\n",
      "Mounted at /content/drive\n"
     ]
    }
   ],
   "source": [
    "from google.colab import drive\n",
    "drive.mount('/content/drive')"
   ]
  },
  {
   "cell_type": "code",
   "execution_count": 0,
   "metadata": {
    "colab": {},
    "colab_type": "code",
    "id": "IM9J0VON-9rx"
   },
   "outputs": [],
   "source": [
    "import os\n",
    "os.chdir(\"./drive/My Drive/175PointCloud\")"
   ]
  },
  {
   "cell_type": "code",
   "execution_count": 0,
   "metadata": {
    "colab": {},
    "colab_type": "code",
    "id": "94XQ3Vji_FUW"
   },
   "outputs": [],
   "source": [
    "import torch\n",
    "from torchvision import transforms\n",
    "from Data.modelnet_pc_dataset import modelnet_pc_dataset\n",
    "import utils.TDS_utils as TDS_utils"
   ]
  },
  {
   "cell_type": "code",
   "execution_count": 0,
   "metadata": {
    "colab": {},
    "colab_type": "code",
    "id": "aa-WmPvL_FXI"
   },
   "outputs": [],
   "source": [
    "def transforms_with_random_noise():\n",
    "    return transforms.Compose([\n",
    "                                TDS_utils.PointSampler(1024),\n",
    "                                TDS_utils.Normalize(),\n",
    "                                TDS_utils.RandomNoise(),\n",
    "                                TDS_utils.RandRotation_z(),\n",
    "                                TDS_utils.ToTensor()\n",
    "                              ])\n",
    "def default_transforms():\n",
    "    return transforms.Compose([\n",
    "                                TDS_utils.PointSampler(1024),\n",
    "                                TDS_utils.Normalize(),\n",
    "                                TDS_utils.ToTensor()\n",
    "                              ])\n",
    "def default_transforms_less_point():\n",
    "    return transforms.Compose([\n",
    "                                TDS_utils.PointSampler(256),\n",
    "                                TDS_utils.Normalize(),\n",
    "                                TDS_utils.ToTensor()\n",
    "                              ])"
   ]
  },
  {
   "cell_type": "code",
   "execution_count": 0,
   "metadata": {
    "colab": {},
    "colab_type": "code",
    "id": "FnDlUACo_FcI"
   },
   "outputs": [],
   "source": [
    "train_data=modelnet_pc_dataset(\"Data/ModelNet10\",default_transforms_less_point(),type=\"train\")\n",
    "\n",
    "valid_data=modelnet_pc_dataset(\"Data/ModelNet10\",default_transforms(),type=\"valid\")\n",
    "\n",
    "test_data=modelnet_pc_dataset(\"Data/ModelNet10\",default_transforms(),type=\"test\")"
   ]
  },
  {
   "cell_type": "code",
   "execution_count": 0,
   "metadata": {
    "colab": {},
    "colab_type": "code",
    "id": "jz36aVFX_FmM"
   },
   "outputs": [],
   "source": [
    "train_loader = torch.utils.data.DataLoader(dataset=train_data, batch_size=64, shuffle=True)\n",
    "valid_loader = torch.utils.data.DataLoader(dataset=valid_data, batch_size=64)\n",
    "test_loader = torch.utils.data.DataLoader(dataset=test_data, batch_size=64)"
   ]
  },
  {
   "cell_type": "code",
   "execution_count": 0,
   "metadata": {
    "colab": {},
    "colab_type": "code",
    "id": "aVxY4equ_FqF"
   },
   "outputs": [],
   "source": [
    "import torch\n",
    "import torch.nn as nn\n",
    "import numpy as np\n",
    "import torch.nn.functional as F\n",
    "from sklearn.cluster import AgglomerativeClustering\n",
    "\n",
    "class Tnet(nn.Module):\n",
    "   def __init__(self, k=3):\n",
    "      super().__init__()\n",
    "      self.k=k\n",
    "      self.conv1 = nn.Conv1d(k,64,1)\n",
    "      self.conv2 = nn.Conv1d(64,128,1)\n",
    "      self.conv3 = nn.Conv1d(128,1024,1)\n",
    "      self.fc1 = nn.Linear(1024,512)\n",
    "      self.fc2 = nn.Linear(512,256)\n",
    "      self.fc3 = nn.Linear(256,k*k)\n",
    "\n",
    "      self.bn1 = nn.BatchNorm1d(64)\n",
    "      self.bn2 = nn.BatchNorm1d(128)\n",
    "      self.bn3 = nn.BatchNorm1d(1024)\n",
    "      self.bn4 = nn.BatchNorm1d(512)\n",
    "      self.bn5 = nn.BatchNorm1d(256)\n",
    "       \n",
    "\n",
    "   def forward(self, input):\n",
    "      # input.shape == (bs,n,3)\n",
    "      bs = input.size(0)\n",
    "      xb = F.relu(self.bn1(self.conv1(input)))\n",
    "      xb = F.relu(self.bn2(self.conv2(xb)))\n",
    "      xb = F.relu(self.bn3(self.conv3(xb)))\n",
    "      pool = nn.MaxPool1d(xb.size(-1))(xb)\n",
    "      flat = nn.Flatten(1)(pool)\n",
    "      xb = F.relu(self.bn4(self.fc1(flat)))\n",
    "      xb = F.relu(self.bn5(self.fc2(xb)))\n",
    "      \n",
    "      #initialize as identity\n",
    "      init = torch.eye(self.k, requires_grad=True).repeat(bs,1,1)\n",
    "      if xb.is_cuda:\n",
    "        init=init.cuda()\n",
    "      matrix = self.fc3(xb).view(-1,self.k,self.k) + init\n",
    "      return matrix\n",
    "\n",
    "\n",
    "class Transform(nn.Module):\n",
    "   def __init__(self):\n",
    "        super().__init__()\n",
    "        self.input_transform = Tnet(k=3)\n",
    "        self.feature_transform = Tnet(k=64)\n",
    "        self.conv1 = nn.Conv1d(4,64,1)\n",
    "\n",
    "        self.conv2 = nn.Conv1d(64,128,1)\n",
    "        self.conv3 = nn.Conv1d(128,1024,1)\n",
    "       \n",
    "\n",
    "        self.bn1 = nn.BatchNorm1d(64)\n",
    "        self.bn2 = nn.BatchNorm1d(128)\n",
    "        self.bn3 = nn.BatchNorm1d(1024)\n",
    "       \n",
    "   def forward(self, input):\n",
    "        matrix3x3 = self.input_transform(input)\n",
    "        # batch matrix multiplication\n",
    "        xb = torch.bmm(torch.transpose(input,1,2), matrix3x3).transpose(1,2)\n",
    "        # print(xb)\n",
    "        # print(xb.shape)\n",
    "        cluster_feature = torch.empty( 1, xb.shape[-1], dtype=torch.int)\n",
    "        for i in range(len(xb)):\n",
    "            # print(xb[i].shape)\n",
    "            cluster_data = AgglomerativeClustering(linkage='average', n_clusters=None, distance_threshold=1).fit(xb[i].cpu().detach().numpy().T).labels_\n",
    "            # print(cluster_data.shape)\n",
    "            cluster_feature=torch.cat((cluster_feature,torch.from_numpy(cluster_data).reshape(1,xb.shape[-1]).int()))\n",
    "        cluster_feature=cluster_feature[1:,:].reshape(xb.shape[0],1,xb.shape[2]).to(\"cuda:0\").float()\n",
    "        # print('cluster_feature')\n",
    "        # print(cluster_feature)\n",
    "        # print(cluster_feature.shape)\n",
    "        xb = torch.cat((xb,cluster_feature),1)\n",
    "        # print(xb.shape)\n",
    "\n",
    "\n",
    "        xb = F.relu(self.bn1(self.conv1(xb)))\n",
    "\n",
    "        matrix64x64 = self.feature_transform(xb)\n",
    "        xb = torch.bmm(torch.transpose(xb,1,2), matrix64x64).transpose(1,2)\n",
    "\n",
    "        xb = F.relu(self.bn2(self.conv2(xb)))\n",
    "        xb = self.bn3(self.conv3(xb))\n",
    "        xb = nn.MaxPool1d(xb.size(-1))(xb)\n",
    "        output = nn.Flatten(1)(xb)\n",
    "        return output, matrix3x3, matrix64x64\n",
    "\n",
    "class PointNet(nn.Module):\n",
    "    def __init__(self, classes = 10):\n",
    "        super().__init__()\n",
    "        self.transform = Transform()\n",
    "        self.fc1 = nn.Linear(1024, 512)\n",
    "        self.fc2 = nn.Linear(512, 256)\n",
    "        self.fc3 = nn.Linear(256, classes)\n",
    "        \n",
    "\n",
    "        self.bn1 = nn.BatchNorm1d(512)\n",
    "        self.bn2 = nn.BatchNorm1d(256)\n",
    "        self.dropout = nn.Dropout(p=0.3)\n",
    "        self.logsoftmax = nn.LogSoftmax(dim=1)\n",
    "\n",
    "    def forward(self, input):\n",
    "        xb, matrix3x3, matrix64x64 = self.transform(input)\n",
    "        xb = F.relu(self.bn1(self.fc1(xb)))\n",
    "        xb = F.relu(self.bn2(self.dropout(self.fc2(xb))))\n",
    "        output = self.fc3(xb)\n",
    "        return self.logsoftmax(output), matrix3x3, matrix64x64"
   ]
  },
  {
   "cell_type": "code",
   "execution_count": 0,
   "metadata": {
    "colab": {},
    "colab_type": "code",
    "id": "NWW9yK0i_Fjy"
   },
   "outputs": [],
   "source": [
    "def pointnetloss(outputs, labels, m3x3, m64x64, alpha = 0.0001):\n",
    "    criterion = torch.nn.NLLLoss()\n",
    "    # criterion = torch.nn.CrossEntropyLoss()\n",
    "    bs=outputs.size(0)\n",
    "    id3x3 = torch.eye(3, requires_grad=True).repeat(bs,1,1)\n",
    "    id64x64 = torch.eye(64, requires_grad=True).repeat(bs,1,1)\n",
    "    if outputs.is_cuda:\n",
    "        id3x3=id3x3.cuda()\n",
    "        id64x64=id64x64.cuda()\n",
    "    diff3x3 = id3x3-torch.bmm(m3x3,m3x3.transpose(1,2))\n",
    "    diff64x64 = id64x64-torch.bmm(m64x64,m64x64.transpose(1,2))\n",
    "    return criterion(outputs, labels) + alpha * (torch.norm(diff3x3)+torch.norm(diff64x64)) / float(bs)"
   ]
  },
  {
   "cell_type": "code",
   "execution_count": 9,
   "metadata": {
    "colab": {
     "base_uri": "https://localhost:8080/",
     "height": 35
    },
    "colab_type": "code",
    "id": "q_148PGF_FhW",
    "outputId": "c866d19d-2ea5-46c5-ae05-2dad8616ea35"
   },
   "outputs": [
    {
     "name": "stdout",
     "output_type": "stream",
     "text": [
      "cuda:0\n"
     ]
    }
   ],
   "source": [
    "device = torch.device(\"cuda:0\" if torch.cuda.is_available() else \"cpu\")\n",
    "print(device)"
   ]
  },
  {
   "cell_type": "code",
   "execution_count": 0,
   "metadata": {
    "colab": {},
    "colab_type": "code",
    "id": "DksGqS6h_FfL"
   },
   "outputs": [],
   "source": [
    "pointnet = PointNet()\n",
    "pointnet.to(device);\n",
    "optimizer = torch.optim.Adam(pointnet.parameters(), lr=0.001)\n",
    "criterion = torch.nn.CrossEntropyLoss()"
   ]
  },
  {
   "cell_type": "code",
   "execution_count": 0,
   "metadata": {
    "colab": {},
    "colab_type": "code",
    "id": "122mRgMO2kxR"
   },
   "outputs": [],
   "source": [
    "# pointnet = PointNet()\n",
    "# pointnet.load_state_dict(torch.load('test_randnoise_save_19.pth'))\n",
    "# pointnet.to(device);"
   ]
  },
  {
   "cell_type": "code",
   "execution_count": 0,
   "metadata": {
    "colab": {},
    "colab_type": "code",
    "id": "HSXz1prx_FZ0"
   },
   "outputs": [],
   "source": [
    "def train(model, train_loader, val_loader,  epochs=50, save=True):\n",
    "    for epoch in range( epochs): \n",
    "        pointnet.train()\n",
    "        running_loss = 0.0\n",
    "        for i, data in enumerate(train_loader, 0):\n",
    "            inputs, labels = data[0].to(device).float(), data[1].to(device)\n",
    "            optimizer.zero_grad()\n",
    "            outputs, m3x3, m64x64 = pointnet(inputs.transpose(1,2))\n",
    "\n",
    "            loss = pointnetloss(outputs, labels, m3x3, m64x64)\n",
    "            loss.backward()\n",
    "            optimizer.step()\n",
    "\n",
    "            # print statistics\n",
    "            running_loss += loss.item()\n",
    "            if i % 10 == 9:    # print every 10 mini-batches\n",
    "                    print('[Epoch: %d, Batch: %4d / %4d], loss: %.3f' %\n",
    "                        (epoch + 1, i + 1, len(train_loader), running_loss / 10))\n",
    "                    running_loss = 0.0\n",
    "\n",
    "        pointnet.eval()\n",
    "        correct = total = 0\n",
    "\n",
    "        # validation\n",
    "        if val_loader:\n",
    "            with torch.no_grad():\n",
    "                for data in val_loader:\n",
    "                    inputs, labels = data[0].to(device).float(), data[1].to(device)\n",
    "                    outputs, __, __ = pointnet(inputs.transpose(1,2))\n",
    "                    _, predicted = torch.max(outputs.data, 1)\n",
    "                    total += labels.size(0)\n",
    "                    correct += (predicted == labels).sum().item()\n",
    "            val_acc = 100. * correct / total\n",
    "            print('Valid accuracy: %d %%' % val_acc)\n",
    "\n",
    "        # save the model\n",
    "        if save:\n",
    "            torch.save(pointnet.state_dict(), \"test_256p_save_\"+str(epoch)+\".pth\")\n",
    "        if epoch == 10:\n",
    "            break"
   ]
  },
  {
   "cell_type": "code",
   "execution_count": 13,
   "metadata": {
    "colab": {
     "base_uri": "https://localhost:8080/",
     "height": 1000
    },
    "colab_type": "code",
    "id": "RJLCTjwR_Srd",
    "outputId": "3d4afd67-da14-4315-d76e-0a909a9b8342"
   },
   "outputs": [
    {
     "name": "stdout",
     "output_type": "stream",
     "text": [
      "[Epoch: 1, Batch:   10 /   63], loss: 1.705\n",
      "[Epoch: 1, Batch:   20 /   63], loss: 1.179\n",
      "[Epoch: 1, Batch:   30 /   63], loss: 0.915\n",
      "[Epoch: 1, Batch:   40 /   63], loss: 0.729\n",
      "[Epoch: 1, Batch:   50 /   63], loss: 0.640\n",
      "[Epoch: 1, Batch:   60 /   63], loss: 0.559\n",
      "Valid accuracy: 73 %\n",
      "[Epoch: 2, Batch:   10 /   63], loss: 0.485\n",
      "[Epoch: 2, Batch:   20 /   63], loss: 0.474\n",
      "[Epoch: 2, Batch:   30 /   63], loss: 0.497\n",
      "[Epoch: 2, Batch:   40 /   63], loss: 0.475\n",
      "[Epoch: 2, Batch:   50 /   63], loss: 0.471\n",
      "[Epoch: 2, Batch:   60 /   63], loss: 0.553\n",
      "Valid accuracy: 62 %\n",
      "[Epoch: 3, Batch:   10 /   63], loss: 0.397\n",
      "[Epoch: 3, Batch:   20 /   63], loss: 0.363\n",
      "[Epoch: 3, Batch:   30 /   63], loss: 0.376\n",
      "[Epoch: 3, Batch:   40 /   63], loss: 0.366\n",
      "[Epoch: 3, Batch:   50 /   63], loss: 0.307\n",
      "[Epoch: 3, Batch:   60 /   63], loss: 0.405\n",
      "Valid accuracy: 59 %\n",
      "[Epoch: 4, Batch:   10 /   63], loss: 0.324\n",
      "[Epoch: 4, Batch:   20 /   63], loss: 0.347\n",
      "[Epoch: 4, Batch:   30 /   63], loss: 0.321\n",
      "[Epoch: 4, Batch:   40 /   63], loss: 0.320\n",
      "[Epoch: 4, Batch:   50 /   63], loss: 0.297\n",
      "[Epoch: 4, Batch:   60 /   63], loss: 0.323\n",
      "Valid accuracy: 80 %\n",
      "[Epoch: 5, Batch:   10 /   63], loss: 0.312\n",
      "[Epoch: 5, Batch:   20 /   63], loss: 0.293\n",
      "[Epoch: 5, Batch:   30 /   63], loss: 0.259\n",
      "[Epoch: 5, Batch:   40 /   63], loss: 0.287\n",
      "[Epoch: 5, Batch:   50 /   63], loss: 0.237\n",
      "[Epoch: 5, Batch:   60 /   63], loss: 0.275\n",
      "Valid accuracy: 84 %\n",
      "[Epoch: 6, Batch:   10 /   63], loss: 0.278\n",
      "[Epoch: 6, Batch:   20 /   63], loss: 0.250\n",
      "[Epoch: 6, Batch:   30 /   63], loss: 0.279\n",
      "[Epoch: 6, Batch:   40 /   63], loss: 0.267\n",
      "[Epoch: 6, Batch:   50 /   63], loss: 0.276\n",
      "[Epoch: 6, Batch:   60 /   63], loss: 0.277\n",
      "Valid accuracy: 93 %\n",
      "[Epoch: 7, Batch:   10 /   63], loss: 0.245\n",
      "[Epoch: 7, Batch:   20 /   63], loss: 0.224\n",
      "[Epoch: 7, Batch:   30 /   63], loss: 0.236\n",
      "[Epoch: 7, Batch:   40 /   63], loss: 0.204\n",
      "[Epoch: 7, Batch:   50 /   63], loss: 0.232\n",
      "[Epoch: 7, Batch:   60 /   63], loss: 0.237\n",
      "Valid accuracy: 74 %\n",
      "[Epoch: 8, Batch:   10 /   63], loss: 0.273\n",
      "[Epoch: 8, Batch:   20 /   63], loss: 0.201\n",
      "[Epoch: 8, Batch:   30 /   63], loss: 0.213\n",
      "[Epoch: 8, Batch:   40 /   63], loss: 0.225\n",
      "[Epoch: 8, Batch:   50 /   63], loss: 0.240\n",
      "[Epoch: 8, Batch:   60 /   63], loss: 0.215\n",
      "Valid accuracy: 94 %\n",
      "[Epoch: 9, Batch:   10 /   63], loss: 0.199\n",
      "[Epoch: 9, Batch:   20 /   63], loss: 0.249\n",
      "[Epoch: 9, Batch:   30 /   63], loss: 0.248\n",
      "[Epoch: 9, Batch:   40 /   63], loss: 0.186\n",
      "[Epoch: 9, Batch:   50 /   63], loss: 0.213\n",
      "[Epoch: 9, Batch:   60 /   63], loss: 0.222\n",
      "Valid accuracy: 89 %\n",
      "[Epoch: 10, Batch:   10 /   63], loss: 0.187\n",
      "[Epoch: 10, Batch:   20 /   63], loss: 0.207\n",
      "[Epoch: 10, Batch:   30 /   63], loss: 0.218\n",
      "[Epoch: 10, Batch:   40 /   63], loss: 0.197\n",
      "[Epoch: 10, Batch:   50 /   63], loss: 0.198\n",
      "[Epoch: 10, Batch:   60 /   63], loss: 0.207\n",
      "Valid accuracy: 91 %\n",
      "[Epoch: 11, Batch:   10 /   63], loss: 0.167\n",
      "[Epoch: 11, Batch:   20 /   63], loss: 0.147\n",
      "[Epoch: 11, Batch:   30 /   63], loss: 0.177\n",
      "[Epoch: 11, Batch:   40 /   63], loss: 0.194\n",
      "[Epoch: 11, Batch:   50 /   63], loss: 0.217\n",
      "[Epoch: 11, Batch:   60 /   63], loss: 0.248\n",
      "Valid accuracy: 95 %\n"
     ]
    }
   ],
   "source": [
    "train(pointnet, train_loader, valid_loader, save=True)"
   ]
  },
  {
   "cell_type": "code",
   "execution_count": 15,
   "metadata": {
    "colab": {
     "base_uri": "https://localhost:8080/",
     "height": 277
    },
    "colab_type": "code",
    "id": "h4pAW70l_Sw1",
    "outputId": "e8265294-b6fb-4cbd-ba48-7cafb46b2629"
   },
   "outputs": [
    {
     "name": "stdout",
     "output_type": "stream",
     "text": [
      "Batch [   1 /   15]\n",
      "Batch [   2 /   15]\n",
      "Batch [   3 /   15]\n",
      "Batch [   4 /   15]\n",
      "Batch [   5 /   15]\n",
      "Batch [   6 /   15]\n",
      "Batch [   7 /   15]\n",
      "Batch [   8 /   15]\n",
      "Batch [   9 /   15]\n",
      "Batch [  10 /   15]\n",
      "Batch [  11 /   15]\n",
      "Batch [  12 /   15]\n",
      "Batch [  13 /   15]\n",
      "Batch [  14 /   15]\n",
      "Batch [  15 /   15]\n"
     ]
    }
   ],
   "source": [
    "from sklearn.metrics import confusion_matrix\n",
    "\n",
    "pointnet = PointNet()\n",
    "pointnet.load_state_dict(torch.load('test_256p_save_10.pth'))\n",
    "pointnet.to(device);\n",
    "pointnet.eval();\n",
    "\n",
    "all_preds = []\n",
    "all_labels = []\n",
    "with torch.no_grad():\n",
    "    for i, data in enumerate(test_loader):\n",
    "        print('Batch [%4d / %4d]' % (i+1, len(test_loader)))\n",
    "                   \n",
    "        inputs, labels = data[0].to(device).float(), data[1].to(device)\n",
    "        outputs, __, __ = pointnet(inputs.transpose(1,2))\n",
    "        _, preds = torch.max(outputs.data, 1)\n",
    "        all_preds += list(preds.cpu().numpy())\n",
    "        all_labels += list(labels.cpu().numpy())"
   ]
  },
  {
   "cell_type": "code",
   "execution_count": 16,
   "metadata": {
    "colab": {
     "base_uri": "https://localhost:8080/",
     "height": 191
    },
    "colab_type": "code",
    "id": "U3G14Nd8_S1h",
    "outputId": "101c2cf8-eecd-4547-af3b-cac594591108"
   },
   "outputs": [
    {
     "data": {
      "text/plain": [
       "array([[ 47,   1,   0,   0,   0,   0,   0,   0,   1,   1],\n",
       "       [  1,  94,   1,   1,   1,   0,   0,   0,   2,   0],\n",
       "       [  0,   0, 100,   0,   0,   0,   0,   0,   0,   0],\n",
       "       [  0,   0,   0,  69,   8,   0,   2,   4,   3,   0],\n",
       "       [  0,   0,   0,   1,  81,   0,   4,   0,   0,   0],\n",
       "       [  0,   0,   0,   2,   2,  96,   0,   0,   0,   0],\n",
       "       [  0,   0,   0,   0,  37,   0,  49,   0,   0,   0],\n",
       "       [  0,   0,   0,   3,   0,   0,   1,  96,   0,   0],\n",
       "       [  0,   0,   0,  28,   0,   0,   2,   0,  70,   0],\n",
       "       [  0,   0,   2,   0,   0,   0,   0,   0,   0,  98]])"
      ]
     },
     "execution_count": 16,
     "metadata": {
      "tags": []
     },
     "output_type": "execute_result"
    }
   ],
   "source": [
    "cm = confusion_matrix(all_labels, all_preds);\n",
    "cm"
   ]
  },
  {
   "cell_type": "code",
   "execution_count": 17,
   "metadata": {
    "colab": {
     "base_uri": "https://localhost:8080/",
     "height": 603
    },
    "colab_type": "code",
    "id": "c_8yCLx5_SuV",
    "outputId": "9933785f-7291-4ffe-9ace-7f2e22092d8f"
   },
   "outputs": [
    {
     "name": "stdout",
     "output_type": "stream",
     "text": [
      "Normalized confusion matrix\n"
     ]
    },
    {
     "data": {
      "image/png": "[encoded data removed]",
      "text/plain": [
       "<Figure size 576x576 with 2 Axes>"
      ]
     },
     "metadata": {
      "needs_background": "light",
      "tags": []
     },
     "output_type": "display_data"
    }
   ],
   "source": [
    "import itertools\n",
    "import numpy as np\n",
    "import matplotlib.pyplot as plt\n",
    "\n",
    "# function from https://deeplizard.com/learn/video/0LhiS6yu2qQ\n",
    "def plot_confusion_matrix(cm, classes, normalize=False, title='Confusion matrix', cmap=plt.cm.Blues):\n",
    "    if normalize:\n",
    "        cm = cm.astype('float') / cm.sum(axis=1)[:, np.newaxis]\n",
    "        print(\"Normalized confusion matrix\")\n",
    "    else:\n",
    "        print('Confusion matrix, without normalization')\n",
    "\n",
    "    plt.imshow(cm, interpolation='nearest', cmap=cmap)\n",
    "    plt.title(title)\n",
    "    plt.colorbar()\n",
    "    tick_marks = np.arange(10)\n",
    "    plt.xticks(tick_marks, range(10), rotation=45)\n",
    "    plt.yticks(tick_marks, range(10))\n",
    "\n",
    "    fmt = '.2f' if normalize else 'd'\n",
    "    thresh = cm.max() / 2.\n",
    "    for i, j in itertools.product(range(cm.shape[0]), range(cm.shape[1])):\n",
    "        plt.text(j, i, format(cm[i, j], fmt), horizontalalignment=\"center\", color=\"white\" if cm[i, j] > thresh else \"black\")\n",
    "\n",
    "    plt.tight_layout()\n",
    "    plt.ylabel('True label')\n",
    "    plt.xlabel('Predicted label')\n",
    "\n",
    "plt.figure(figsize=(8,8))\n",
    "plot_confusion_matrix(cm, list(range(10)), normalize=True)"
   ]
  },
  {
   "cell_type": "code",
   "execution_count": 18,
   "metadata": {
    "colab": {
     "base_uri": "https://localhost:8080/",
     "height": 35
    },
    "colab_type": "code",
    "id": "VjmCMyUiUrfg",
    "outputId": "1dfc63af-0c7e-45d0-fc86-b8d55fdaf1af"
   },
   "outputs": [
    {
     "data": {
      "text/plain": [
       "0.8810572687224669"
      ]
     },
     "execution_count": 18,
     "metadata": {
      "tags": []
     },
     "output_type": "execute_result"
    }
   ],
   "source": [
    "from sklearn.metrics import accuracy_score\n",
    "accuracy_score(all_labels,all_preds)"
   ]
  }
 ],
 "metadata": {
  "accelerator": "GPU",
  "colab": {
   "name": "3Dmodel with noise.ipynb",
   "provenance": []
  },
  "kernelspec": {
   "display_name": "Python 3",
   "language": "python",
   "name": "python3"
  },
  "language_info": {
   "codemirror_mode": {
    "name": "ipython",
    "version": 3
   },
   "file_extension": ".py",
   "mimetype": "text/x-python",
   "name": "python",
   "nbconvert_exporter": "python",
   "pygments_lexer": "ipython3",
   "version": "3.7.4"
  }
 },
 "nbformat": 4,
 "nbformat_minor": 1
}
