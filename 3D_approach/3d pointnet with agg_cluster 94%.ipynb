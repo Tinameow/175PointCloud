{
 "cells": [
  {
   "cell_type": "code",
   "execution_count": 1,
   "metadata": {
    "colab": {
     "base_uri": "https://localhost:8080/",
     "height": 35
    },
    "colab_type": "code",
    "id": "y77DTiTRNmIm",
    "outputId": "df5b4087-ff66-4345-e1f7-331befcbab9b"
   },
   "outputs": [
    {
     "name": "stdout",
     "output_type": "stream",
     "text": [
      "Drive already mounted at /content/drive; to attempt to forcibly remount, call drive.mount(\"/content/drive\", force_remount=True).\n"
     ]
    }
   ],
   "source": [
    "from google.colab import drive\n",
    "drive.mount('/content/drive')"
   ]
  },
  {
   "cell_type": "code",
   "execution_count": 0,
   "metadata": {
    "colab": {},
    "colab_type": "code",
    "id": "CV4UGiLWXwXd"
   },
   "outputs": [],
   "source": [
    "import os\n",
    "os.chdir(\"./drive/My Drive/175PointCloud\")"
   ]
  },
  {
   "cell_type": "code",
   "execution_count": 0,
   "metadata": {
    "colab": {},
    "colab_type": "code",
    "id": "wNEJd479X76P"
   },
   "outputs": [],
   "source": [
    "import torch\n",
    "from torchvision import transforms\n",
    "from Data.modelnet_pc_dataset import modelnet_pc_dataset\n",
    "import utils.TDS_utils as TDS_utils"
   ]
  },
  {
   "cell_type": "code",
   "execution_count": 0,
   "metadata": {
    "colab": {},
    "colab_type": "code",
    "id": "za0TCCc2X8iU"
   },
   "outputs": [],
   "source": [
    "def default_transforms():\n",
    "    return transforms.Compose([\n",
    "                                TDS_utils.PointSampler(1024),\n",
    "                                TDS_utils.Normalize(),\n",
    "                                TDS_utils.ToTensor()\n",
    "                              ])"
   ]
  },
  {
   "cell_type": "code",
   "execution_count": 0,
   "metadata": {
    "colab": {},
    "colab_type": "code",
    "id": "N3plYo-BX_if"
   },
   "outputs": [],
   "source": [
    "train_data=modelnet_pc_dataset(\"Data/ModelNet10\",default_transforms(),type=\"train\")\n",
    "\n",
    "valid_data=modelnet_pc_dataset(\"Data/ModelNet10\",default_transforms(),type=\"valid\")\n",
    "\n",
    "test_data=modelnet_pc_dataset(\"Data/ModelNet10\",default_transforms(),type=\"test\")"
   ]
  },
  {
   "cell_type": "code",
   "execution_count": 0,
   "metadata": {
    "colab": {},
    "colab_type": "code",
    "id": "wh6YZ_9lX_lI"
   },
   "outputs": [],
   "source": [
    "train_loader = torch.utils.data.DataLoader(dataset=train_data, batch_size=32, shuffle=True)\n",
    "valid_loader = torch.utils.data.DataLoader(dataset=valid_data, batch_size=64)\n",
    "test_loader = torch.utils.data.DataLoader(dataset=test_data, batch_size=64)"
   ]
  },
  {
   "cell_type": "code",
   "execution_count": 0,
   "metadata": {
    "colab": {},
    "colab_type": "code",
    "id": "02SgzHQcX_oh"
   },
   "outputs": [],
   "source": [
    "import torch\n",
    "import torch.nn as nn\n",
    "import numpy as np\n",
    "import torch.nn.functional as F\n",
    "from sklearn.cluster import AgglomerativeClustering\n",
    "\n",
    "class Tnet(nn.Module):\n",
    "   def __init__(self, k=3):\n",
    "      super().__init__()\n",
    "      self.k=k\n",
    "      self.conv1 = nn.Conv1d(k,64,1)\n",
    "      self.conv2 = nn.Conv1d(64,128,1)\n",
    "      self.conv3 = nn.Conv1d(128,1024,1)\n",
    "      self.fc1 = nn.Linear(1024,512)\n",
    "      self.fc2 = nn.Linear(512,256)\n",
    "      self.fc3 = nn.Linear(256,k*k)\n",
    "\n",
    "      self.bn1 = nn.BatchNorm1d(64)\n",
    "      self.bn2 = nn.BatchNorm1d(128)\n",
    "      self.bn3 = nn.BatchNorm1d(1024)\n",
    "      self.bn4 = nn.BatchNorm1d(512)\n",
    "      self.bn5 = nn.BatchNorm1d(256)\n",
    "       \n",
    "\n",
    "   def forward(self, input):\n",
    "      # input.shape == (bs,n,3)\n",
    "      bs = input.size(0)\n",
    "      xb = F.relu(self.bn1(self.conv1(input)))\n",
    "      xb = F.relu(self.bn2(self.conv2(xb)))\n",
    "      xb = F.relu(self.bn3(self.conv3(xb)))\n",
    "      pool = nn.MaxPool1d(xb.size(-1))(xb)\n",
    "      flat = nn.Flatten(1)(pool)\n",
    "      xb = F.relu(self.bn4(self.fc1(flat)))\n",
    "      xb = F.relu(self.bn5(self.fc2(xb)))\n",
    "      \n",
    "      #initialize as identity\n",
    "      init = torch.eye(self.k, requires_grad=True).repeat(bs,1,1)\n",
    "      if xb.is_cuda:\n",
    "        init=init.cuda()\n",
    "      matrix = self.fc3(xb).view(-1,self.k,self.k) + init\n",
    "      return matrix\n",
    "\n",
    "\n",
    "class Transform(nn.Module):\n",
    "   def __init__(self):\n",
    "        super().__init__()\n",
    "        self.input_transform = Tnet(k=3)\n",
    "        self.feature_transform = Tnet(k=64)\n",
    "        self.conv1 = nn.Conv1d(4,64,1)\n",
    "\n",
    "        self.conv2 = nn.Conv1d(64,128,1)\n",
    "        self.conv3 = nn.Conv1d(128,1024,1)\n",
    "       \n",
    "\n",
    "        self.bn1 = nn.BatchNorm1d(64)\n",
    "        self.bn2 = nn.BatchNorm1d(128)\n",
    "        self.bn3 = nn.BatchNorm1d(1024)\n",
    "       \n",
    "   def forward(self, input):\n",
    "        matrix3x3 = self.input_transform(input)\n",
    "        # batch matrix multiplication\n",
    "        xb = torch.bmm(torch.transpose(input,1,2), matrix3x3).transpose(1,2)\n",
    "        # print(xb)\n",
    "        # print(xb.shape)\n",
    "        cluster_feature = torch.empty( 1, xb.shape[-1], dtype=torch.int)\n",
    "        for i in range(len(xb)):\n",
    "            # print(xb[i].shape)\n",
    "            cluster_data = AgglomerativeClustering(linkage='average', n_clusters=None, distance_threshold=1).fit(xb[i].cpu().detach().numpy().T).labels_\n",
    "            # print(cluster_data.shape)\n",
    "            cluster_feature=torch.cat((cluster_feature,torch.from_numpy(cluster_data).reshape(1,xb.shape[-1]).int()))\n",
    "        cluster_feature=cluster_feature[1:,:].reshape(xb.shape[0],1,xb.shape[2]).to(\"cuda:0\").float()\n",
    "        # print('cluster_feature')\n",
    "        # print(cluster_feature)\n",
    "        # print(cluster_feature.shape)\n",
    "        xb = torch.cat((xb,cluster_feature),1)\n",
    "        # print(xb.shape)\n",
    "\n",
    "\n",
    "        xb = F.relu(self.bn1(self.conv1(xb)))\n",
    "\n",
    "        matrix64x64 = self.feature_transform(xb)\n",
    "        xb = torch.bmm(torch.transpose(xb,1,2), matrix64x64).transpose(1,2)\n",
    "\n",
    "        xb = F.relu(self.bn2(self.conv2(xb)))\n",
    "        xb = self.bn3(self.conv3(xb))\n",
    "        xb = nn.MaxPool1d(xb.size(-1))(xb)\n",
    "        output = nn.Flatten(1)(xb)\n",
    "        return output, matrix3x3, matrix64x64\n",
    "\n",
    "class PointNet(nn.Module):\n",
    "    def __init__(self, classes = 10):\n",
    "        super().__init__()\n",
    "        self.transform = Transform()\n",
    "        self.fc1 = nn.Linear(1024, 512)\n",
    "        self.fc2 = nn.Linear(512, 256)\n",
    "        self.fc3 = nn.Linear(256, classes)\n",
    "        \n",
    "\n",
    "        self.bn1 = nn.BatchNorm1d(512)\n",
    "        self.bn2 = nn.BatchNorm1d(256)\n",
    "        self.dropout = nn.Dropout(p=0.3)\n",
    "        self.logsoftmax = nn.LogSoftmax(dim=1)\n",
    "\n",
    "    def forward(self, input):\n",
    "        xb, matrix3x3, matrix64x64 = self.transform(input)\n",
    "        xb = F.relu(self.bn1(self.fc1(xb)))\n",
    "        xb = F.relu(self.bn2(self.dropout(self.fc2(xb))))\n",
    "        output = self.fc3(xb)\n",
    "        return self.logsoftmax(output), matrix3x3, matrix64x64"
   ]
  },
  {
   "cell_type": "code",
   "execution_count": 0,
   "metadata": {
    "colab": {},
    "colab_type": "code",
    "id": "94wijwi5X_sW"
   },
   "outputs": [],
   "source": [
    "def pointnetloss(outputs, labels, m3x3, m64x64, alpha = 0.0001):\n",
    "    # criterion = torch.nn.NLLLoss()\n",
    "    criterion = torch.nn.CrossEntropyLoss()\n",
    "    bs=outputs.size(0)\n",
    "    id3x3 = torch.eye(3, requires_grad=True).repeat(bs,1,1)\n",
    "    id64x64 = torch.eye(64, requires_grad=True).repeat(bs,1,1)\n",
    "    if outputs.is_cuda:\n",
    "        id3x3=id3x3.cuda()\n",
    "        id64x64=id64x64.cuda()\n",
    "    diff3x3 = id3x3-torch.bmm(m3x3,m3x3.transpose(1,2))\n",
    "    diff64x64 = id64x64-torch.bmm(m64x64,m64x64.transpose(1,2))\n",
    "    return criterion(outputs, labels) + alpha * (torch.norm(diff3x3)+torch.norm(diff64x64)) / float(bs)"
   ]
  },
  {
   "cell_type": "code",
   "execution_count": 9,
   "metadata": {
    "colab": {
     "base_uri": "https://localhost:8080/",
     "height": 35
    },
    "colab_type": "code",
    "id": "A-rOdKLrYUSL",
    "outputId": "04a9b13d-a7fd-406d-fa97-aece3baec93f"
   },
   "outputs": [
    {
     "name": "stdout",
     "output_type": "stream",
     "text": [
      "cuda:0\n"
     ]
    }
   ],
   "source": [
    "device = torch.device(\"cuda:0\" if torch.cuda.is_available() else \"cpu\")\n",
    "print(device)"
   ]
  },
  {
   "cell_type": "code",
   "execution_count": 0,
   "metadata": {
    "colab": {},
    "colab_type": "code",
    "id": "QJO3Dn4jYUU1"
   },
   "outputs": [],
   "source": [
    "pointnet = PointNet()\n",
    "pointnet.to(device);\n",
    "optimizer = torch.optim.Adam(pointnet.parameters(), lr=0.001)\n",
    "criterion = torch.nn.CrossEntropyLoss()"
   ]
  },
  {
   "cell_type": "code",
   "execution_count": 0,
   "metadata": {
    "colab": {},
    "colab_type": "code",
    "id": "r9O5kfF2wdiL"
   },
   "outputs": [],
   "source": [
    "pointnet = PointNet()\n",
    "pointnet.load_state_dict(torch.load('test2_save_10.pth'))\n",
    "pointnet.to(device);"
   ]
  },
  {
   "cell_type": "code",
   "execution_count": 0,
   "metadata": {
    "colab": {},
    "colab_type": "code",
    "id": "JPjsJfrrYUX7"
   },
   "outputs": [],
   "source": [
    "def train(model, train_loader, val_loader, lossfn,  epochs=30, save=True):\n",
    "    for epoch in range(12,epochs): \n",
    "        pointnet.train()\n",
    "        running_loss = 0.0\n",
    "        for i, data in enumerate(train_loader, 0):\n",
    "            inputs, labels = data[0].to(device).float(), data[1].to(device)\n",
    "            optimizer.zero_grad()\n",
    "            outputs, m3x3, m64x64 = pointnet(inputs.transpose(1,2))\n",
    "\n",
    "            loss = lossfn(outputs, labels)\n",
    "            loss.backward()\n",
    "            optimizer.step()\n",
    "\n",
    "            # print statistics\n",
    "            running_loss += loss.item()\n",
    "            if i % 10 == 9:    # print every 10 mini-batches\n",
    "                    print('[Epoch: %d, Batch: %4d / %4d], loss: %.3f' %\n",
    "                        (epoch + 1, i + 1, len(train_loader), running_loss / 10))\n",
    "                    running_loss = 0.0\n",
    "\n",
    "        pointnet.eval()\n",
    "        correct = total = 0\n",
    "\n",
    "        # validation\n",
    "        if val_loader:\n",
    "            with torch.no_grad():\n",
    "                for data in val_loader:\n",
    "                    inputs, labels = data[0].to(device).float(), data[1].to(device)\n",
    "                    outputs, __, __ = pointnet(inputs.transpose(1,2))\n",
    "                    _, predicted = torch.max(outputs.data, 1)\n",
    "                    total += labels.size(0)\n",
    "                    correct += (predicted == labels).sum().item()\n",
    "            val_acc = 100. * correct / total\n",
    "            print('Valid accuracy: %d %%' % val_acc)\n",
    "\n",
    "        # save the model\n",
    "        if save:\n",
    "            torch.save(pointnet.state_dict(), \"test2_save_\"+str(epoch)+\".pth\")\n",
    "        if epoch == 20:\n",
    "            break"
   ]
  },
  {
   "cell_type": "code",
   "execution_count": 0,
   "metadata": {
    "colab": {
     "base_uri": "https://localhost:8080/",
     "height": 1000
    },
    "colab_type": "code",
    "id": "mfUf1RDYYUbo",
    "outputId": "a79c4dbd-9807-42a5-ca2a-45aff38d8c1d"
   },
   "outputs": [
    {
     "name": "stdout",
     "output_type": "stream",
     "text": [
      "[Epoch: 13, Batch:   10 /  100], loss: 0.198\n",
      "[Epoch: 13, Batch:   20 /  100], loss: 0.159\n",
      "[Epoch: 13, Batch:   30 /  100], loss: 0.139\n",
      "[Epoch: 13, Batch:   40 /  100], loss: 0.173\n",
      "[Epoch: 13, Batch:   50 /  100], loss: 0.169\n",
      "[Epoch: 13, Batch:   60 /  100], loss: 0.191\n",
      "[Epoch: 13, Batch:   70 /  100], loss: 0.238\n",
      "[Epoch: 13, Batch:   80 /  100], loss: 0.167\n",
      "[Epoch: 13, Batch:   90 /  100], loss: 0.111\n",
      "[Epoch: 13, Batch:  100 /  100], loss: 0.213\n",
      "Valid accuracy: 94 %\n",
      "[Epoch: 14, Batch:   10 /  100], loss: 0.174\n",
      "[Epoch: 14, Batch:   20 /  100], loss: 0.255\n",
      "[Epoch: 14, Batch:   30 /  100], loss: 0.179\n",
      "[Epoch: 14, Batch:   40 /  100], loss: 0.195\n",
      "[Epoch: 14, Batch:   50 /  100], loss: 0.093\n",
      "[Epoch: 14, Batch:   60 /  100], loss: 0.160\n",
      "[Epoch: 14, Batch:   70 /  100], loss: 0.183\n",
      "[Epoch: 14, Batch:   80 /  100], loss: 0.125\n",
      "[Epoch: 14, Batch:   90 /  100], loss: 0.141\n",
      "[Epoch: 14, Batch:  100 /  100], loss: 0.142\n",
      "Valid accuracy: 94 %\n",
      "[Epoch: 15, Batch:   10 /  100], loss: 0.259\n",
      "[Epoch: 15, Batch:   20 /  100], loss: 0.168\n",
      "[Epoch: 15, Batch:   30 /  100], loss: 0.108\n",
      "[Epoch: 15, Batch:   40 /  100], loss: 0.150\n",
      "[Epoch: 15, Batch:   50 /  100], loss: 0.108\n",
      "[Epoch: 15, Batch:   60 /  100], loss: 0.170\n",
      "[Epoch: 15, Batch:   70 /  100], loss: 0.125\n",
      "[Epoch: 15, Batch:   80 /  100], loss: 0.209\n",
      "[Epoch: 15, Batch:   90 /  100], loss: 0.120\n",
      "[Epoch: 15, Batch:  100 /  100], loss: 0.149\n",
      "Valid accuracy: 94 %\n",
      "[Epoch: 16, Batch:   10 /  100], loss: 0.253\n",
      "[Epoch: 16, Batch:   20 /  100], loss: 0.196\n",
      "[Epoch: 16, Batch:   30 /  100], loss: 0.209\n",
      "[Epoch: 16, Batch:   40 /  100], loss: 0.148\n",
      "[Epoch: 16, Batch:   50 /  100], loss: 0.123\n",
      "[Epoch: 16, Batch:   60 /  100], loss: 0.135\n",
      "[Epoch: 16, Batch:   70 /  100], loss: 0.134\n",
      "[Epoch: 16, Batch:   80 /  100], loss: 0.226\n",
      "[Epoch: 16, Batch:   90 /  100], loss: 0.157\n",
      "[Epoch: 16, Batch:  100 /  100], loss: 0.096\n",
      "Valid accuracy: 94 %\n",
      "[Epoch: 17, Batch:   10 /  100], loss: 0.225\n",
      "[Epoch: 17, Batch:   20 /  100], loss: 0.162\n",
      "[Epoch: 17, Batch:   30 /  100], loss: 0.140\n",
      "[Epoch: 17, Batch:   40 /  100], loss: 0.201\n",
      "[Epoch: 17, Batch:   50 /  100], loss: 0.163\n",
      "[Epoch: 17, Batch:   60 /  100], loss: 0.156\n",
      "[Epoch: 17, Batch:   70 /  100], loss: 0.141\n",
      "[Epoch: 17, Batch:   80 /  100], loss: 0.150\n",
      "[Epoch: 17, Batch:   90 /  100], loss: 0.168\n",
      "[Epoch: 17, Batch:  100 /  100], loss: 0.211\n",
      "Valid accuracy: 94 %\n",
      "[Epoch: 18, Batch:   10 /  100], loss: 0.176\n",
      "[Epoch: 18, Batch:   20 /  100], loss: 0.137\n",
      "[Epoch: 18, Batch:   30 /  100], loss: 0.125\n",
      "[Epoch: 18, Batch:   40 /  100], loss: 0.140\n",
      "[Epoch: 18, Batch:   50 /  100], loss: 0.131\n",
      "[Epoch: 18, Batch:   60 /  100], loss: 0.179\n",
      "[Epoch: 18, Batch:   70 /  100], loss: 0.286\n",
      "[Epoch: 18, Batch:   80 /  100], loss: 0.158\n",
      "[Epoch: 18, Batch:   90 /  100], loss: 0.144\n",
      "[Epoch: 18, Batch:  100 /  100], loss: 0.238\n",
      "Valid accuracy: 94 %\n",
      "[Epoch: 19, Batch:   10 /  100], loss: 0.128\n",
      "[Epoch: 19, Batch:   20 /  100], loss: 0.144\n",
      "[Epoch: 19, Batch:   30 /  100], loss: 0.120\n",
      "[Epoch: 19, Batch:   40 /  100], loss: 0.138\n",
      "[Epoch: 19, Batch:   50 /  100], loss: 0.172\n",
      "[Epoch: 19, Batch:   60 /  100], loss: 0.215\n",
      "[Epoch: 19, Batch:   70 /  100], loss: 0.224\n",
      "[Epoch: 19, Batch:   80 /  100], loss: 0.155\n",
      "[Epoch: 19, Batch:   90 /  100], loss: 0.156\n",
      "[Epoch: 19, Batch:  100 /  100], loss: 0.221\n",
      "Valid accuracy: 94 %\n",
      "[Epoch: 20, Batch:   10 /  100], loss: 0.155\n",
      "[Epoch: 20, Batch:   20 /  100], loss: 0.234\n",
      "[Epoch: 20, Batch:   30 /  100], loss: 0.148\n",
      "[Epoch: 20, Batch:   40 /  100], loss: 0.102\n",
      "[Epoch: 20, Batch:   50 /  100], loss: 0.155\n",
      "[Epoch: 20, Batch:   60 /  100], loss: 0.188\n"
     ]
    }
   ],
   "source": [
    "train(pointnet, train_loader, valid_loader, criterion, save=True)"
   ]
  },
  {
   "cell_type": "code",
   "execution_count": 14,
   "metadata": {
    "colab": {
     "base_uri": "https://localhost:8080/",
     "height": 243
    },
    "colab_type": "code",
    "id": "_rHTT55dzIKk",
    "outputId": "a9560195-5f0c-408d-b93b-ffee483d48b2"
   },
   "outputs": [
    {
     "name": "stdout",
     "output_type": "stream",
     "text": [
      "Batch [   1 /   13]\n",
      "Batch [   2 /   13]\n",
      "Batch [   3 /   13]\n",
      "Batch [   4 /   13]\n",
      "Batch [   5 /   13]\n",
      "Batch [   6 /   13]\n",
      "Batch [   7 /   13]\n",
      "Batch [   8 /   13]\n",
      "Batch [   9 /   13]\n",
      "Batch [  10 /   13]\n",
      "Batch [  11 /   13]\n",
      "Batch [  12 /   13]\n",
      "Batch [  13 /   13]\n"
     ]
    }
   ],
   "source": [
    "from sklearn.metrics import confusion_matrix\n",
    "\n",
    "pointnet = PointNet()\n",
    "pointnet.load_state_dict(torch.load('test2_save_18.pth'))\n",
    "pointnet.to(device);\n",
    "pointnet.eval();\n",
    "\n",
    "all_preds = []\n",
    "all_labels = []\n",
    "with torch.no_grad():\n",
    "    for i, data in enumerate(valid_loader):\n",
    "        print('Batch [%4d / %4d]' % (i+1, len(valid_loader)))\n",
    "                   \n",
    "        inputs, labels = data[0].to(device).float(), data[1].to(device)\n",
    "        outputs, __, __ = pointnet(inputs.transpose(1,2))\n",
    "        _, preds = torch.max(outputs.data, 1)\n",
    "        all_preds += list(preds.cpu().numpy())\n",
    "        all_labels += list(labels.cpu().numpy())"
   ]
  },
  {
   "cell_type": "code",
   "execution_count": 15,
   "metadata": {
    "colab": {
     "base_uri": "https://localhost:8080/",
     "height": 191
    },
    "colab_type": "code",
    "id": "8xp20ZKnZr6G",
    "outputId": "9d4466d2-f5a9-4255-cc17-a6b1958bdf4a"
   },
   "outputs": [
    {
     "data": {
      "text/plain": [
       "array([[ 21,   1,   0,   0,   0,   0,   0,   0,   0,   0],\n",
       "       [  0,  96,   0,   2,   0,   0,   4,   0,   1,   0],\n",
       "       [  0,   1, 176,   0,   0,   0,   1,   0,   0,   0],\n",
       "       [  0,   0,   0,  35,   1,   0,   0,   0,   4,   0],\n",
       "       [  0,   0,   0,   0,  39,   0,   1,   0,   0,   0],\n",
       "       [  0,   0,   0,   0,   0,  93,   0,   0,   0,   0],\n",
       "       [  0,   0,   0,   1,  12,   0,  27,   0,   0,   0],\n",
       "       [  0,   0,   0,   0,   0,   0,   0, 136,   0,   0],\n",
       "       [  0,   0,   0,   3,   0,   0,   4,   0,  72,   0],\n",
       "       [  0,   0,   9,   0,   0,   0,   0,   0,   0,  60]])"
      ]
     },
     "execution_count": 15,
     "metadata": {
      "tags": []
     },
     "output_type": "execute_result"
    }
   ],
   "source": [
    "cm = confusion_matrix(all_labels, all_preds);\n",
    "cm"
   ]
  },
  {
   "cell_type": "code",
   "execution_count": 16,
   "metadata": {
    "colab": {
     "base_uri": "https://localhost:8080/",
     "height": 603
    },
    "colab_type": "code",
    "id": "ZAKK68X5zQDm",
    "outputId": "47459fbf-050d-45cd-b4e0-ef8f6bb36da1"
   },
   "outputs": [
    {
     "name": "stdout",
     "output_type": "stream",
     "text": [
      "Normalized confusion matrix\n"
     ]
    },
    {
     "data": {
      "image/png": "[encoded data removed]",
      "text/plain": [
       "<Figure size 576x576 with 2 Axes>"
      ]
     },
     "metadata": {
      "needs_background": "light",
      "tags": []
     },
     "output_type": "display_data"
    }
   ],
   "source": [
    "import itertools\n",
    "import numpy as np\n",
    "import matplotlib.pyplot as plt\n",
    "\n",
    "# function from https://deeplizard.com/learn/video/0LhiS6yu2qQ\n",
    "def plot_confusion_matrix(cm, classes, normalize=False, title='Confusion matrix', cmap=plt.cm.Blues):\n",
    "    if normalize:\n",
    "        cm = cm.astype('float') / cm.sum(axis=1)[:, np.newaxis]\n",
    "        print(\"Normalized confusion matrix\")\n",
    "    else:\n",
    "        print('Confusion matrix, without normalization')\n",
    "\n",
    "    plt.imshow(cm, interpolation='nearest', cmap=cmap)\n",
    "    plt.title(title)\n",
    "    plt.colorbar()\n",
    "    tick_marks = np.arange(10)\n",
    "    plt.xticks(tick_marks, range(10), rotation=45)\n",
    "    plt.yticks(tick_marks, range(10))\n",
    "\n",
    "    fmt = '.2f' if normalize else 'd'\n",
    "    thresh = cm.max() / 2.\n",
    "    for i, j in itertools.product(range(cm.shape[0]), range(cm.shape[1])):\n",
    "        plt.text(j, i, format(cm[i, j], fmt), horizontalalignment=\"center\", color=\"white\" if cm[i, j] > thresh else \"black\")\n",
    "\n",
    "    plt.tight_layout()\n",
    "    plt.ylabel('True label')\n",
    "    plt.xlabel('Predicted label')\n",
    "\n",
    "plt.figure(figsize=(8,8))\n",
    "plot_confusion_matrix(cm, list(range(10)), normalize=True)"
   ]
  },
  {
   "cell_type": "code",
   "execution_count": 17,
   "metadata": {
    "colab": {
     "base_uri": "https://localhost:8080/",
     "height": 35
    },
    "colab_type": "code",
    "id": "UPfbE4R1mrCy",
    "outputId": "b197caa3-9a4f-441f-f618-a517cf7dd8e5"
   },
   "outputs": [
    {
     "data": {
      "text/plain": [
       "0.94375"
      ]
     },
     "execution_count": 17,
     "metadata": {
      "tags": []
     },
     "output_type": "execute_result"
    }
   ],
   "source": [
    "from sklearn.metrics import accuracy_score\n",
    "accuracy_score(all_labels,all_preds)"
   ]
  }
 ],
 "metadata": {
  "accelerator": "GPU",
  "colab": {
   "name": "Untitled0.ipynb",
   "provenance": []
  },
  "kernelspec": {
   "display_name": "Python 3",
   "language": "python",
   "name": "python3"
  },
  "language_info": {
   "codemirror_mode": {
    "name": "ipython",
    "version": 3
   },
   "file_extension": ".py",
   "mimetype": "text/x-python",
   "name": "python",
   "nbconvert_exporter": "python",
   "pygments_lexer": "ipython3",
   "version": "3.7.4"
  }
 },
 "nbformat": 4,
 "nbformat_minor": 1
}
