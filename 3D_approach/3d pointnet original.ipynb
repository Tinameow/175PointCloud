{
 "cells": [
  {
   "cell_type": "code",
   "execution_count": 1,
   "metadata": {
    "colab": {
     "base_uri": "https://localhost:8080/",
     "height": 35
    },
    "colab_type": "code",
    "id": "TUnJ6anF1E9t",
    "outputId": "94ca6d11-d73c-4759-9dfd-86e044306059"
   },
   "outputs": [
    {
     "name": "stdout",
     "output_type": "stream",
     "text": [
      "Drive already mounted at /content/drive; to attempt to forcibly remount, call drive.mount(\"/content/drive\", force_remount=True).\n"
     ]
    }
   ],
   "source": [
    "from google.colab import drive\n",
    "drive.mount('/content/drive')"
   ]
  },
  {
   "cell_type": "code",
   "execution_count": 0,
   "metadata": {
    "colab": {},
    "colab_type": "code",
    "id": "im3b7Yah1MlY"
   },
   "outputs": [],
   "source": [
    "import os\n",
    "os.chdir(\"./drive/My Drive/175PointCloud\")"
   ]
  },
  {
   "cell_type": "code",
   "execution_count": 0,
   "metadata": {
    "colab": {},
    "colab_type": "code",
    "id": "ZUSt5S1V1kct"
   },
   "outputs": [],
   "source": [
    "import torch\n",
    "from torchvision import transforms\n",
    "from Data.modelnet_pc_dataset import modelnet_pc_dataset\n",
    "import utils.TDS_utils as TDS_utils"
   ]
  },
  {
   "cell_type": "code",
   "execution_count": 0,
   "metadata": {
    "colab": {},
    "colab_type": "code",
    "id": "KA5Z8cvp6K-N"
   },
   "outputs": [],
   "source": [
    "def default_transforms():\n",
    "    return transforms.Compose([\n",
    "                                TDS_utils.PointSampler(1024),\n",
    "                                TDS_utils.Normalize(),\n",
    "                                TDS_utils.ToTensor()\n",
    "                              ])"
   ]
  },
  {
   "cell_type": "code",
   "execution_count": 0,
   "metadata": {
    "colab": {},
    "colab_type": "code",
    "id": "KoertXeiwZXO"
   },
   "outputs": [],
   "source": [
    "train_data=modelnet_pc_dataset(\"Data/ModelNet10\",default_transforms(),type=\"train\")\n",
    "\n",
    "valid_data=modelnet_pc_dataset(\"Data/ModelNet10\",default_transforms(),type=\"valid\")\n",
    "\n",
    "test_data=modelnet_pc_dataset(\"Data/ModelNet10\",default_transforms(),type=\"test\")"
   ]
  },
  {
   "cell_type": "code",
   "execution_count": 0,
   "metadata": {
    "colab": {},
    "colab_type": "code",
    "id": "Scfhkau5wZn8"
   },
   "outputs": [],
   "source": [
    "train_loader = torch.utils.data.DataLoader(dataset=train_data, batch_size=32, shuffle=True)\n",
    "valid_loader = torch.utils.data.DataLoader(dataset=valid_data, batch_size=64)\n",
    "test_loader = torch.utils.data.DataLoader(dataset=test_data, batch_size=64)"
   ]
  },
  {
   "cell_type": "code",
   "execution_count": 0,
   "metadata": {
    "colab": {},
    "colab_type": "code",
    "id": "CRfrm-EJ2sZm"
   },
   "outputs": [],
   "source": [
    "\n",
    "import torch\n",
    "import torch.nn as nn\n",
    "import numpy as np\n",
    "import torch.nn.functional as F\n",
    "\n",
    "class Tnet(nn.Module):\n",
    "   def __init__(self, k=3):\n",
    "      super().__init__()\n",
    "      self.k=k\n",
    "      self.conv1 = nn.Conv1d(k,64,1)\n",
    "      self.conv2 = nn.Conv1d(64,128,1)\n",
    "      self.conv3 = nn.Conv1d(128,1024,1)\n",
    "      self.fc1 = nn.Linear(1024,512)\n",
    "      self.fc2 = nn.Linear(512,256)\n",
    "      self.fc3 = nn.Linear(256,k*k)\n",
    "\n",
    "      self.bn1 = nn.BatchNorm1d(64)\n",
    "      self.bn2 = nn.BatchNorm1d(128)\n",
    "      self.bn3 = nn.BatchNorm1d(1024)\n",
    "      self.bn4 = nn.BatchNorm1d(512)\n",
    "      self.bn5 = nn.BatchNorm1d(256)\n",
    "       \n",
    "\n",
    "   def forward(self, input):\n",
    "      # input.shape == (bs,n,3)\n",
    "      bs = input.size(0)\n",
    "      xb = F.relu(self.bn1(self.conv1(input)))\n",
    "      xb = F.relu(self.bn2(self.conv2(xb)))\n",
    "      xb = F.relu(self.bn3(self.conv3(xb)))\n",
    "      pool = nn.MaxPool1d(xb.size(-1))(xb)\n",
    "      flat = nn.Flatten(1)(pool)\n",
    "      xb = F.relu(self.bn4(self.fc1(flat)))\n",
    "      xb = F.relu(self.bn5(self.fc2(xb)))\n",
    "      \n",
    "      #initialize as identity\n",
    "      init = torch.eye(self.k, requires_grad=True).repeat(bs,1,1)\n",
    "      if xb.is_cuda:\n",
    "        init=init.cuda()\n",
    "      matrix = self.fc3(xb).view(-1,self.k,self.k) + init\n",
    "      return matrix\n",
    "\n",
    "\n",
    "class Transform(nn.Module):\n",
    "   def __init__(self):\n",
    "        super().__init__()\n",
    "        self.input_transform = Tnet(k=3)\n",
    "        self.feature_transform = Tnet(k=64)\n",
    "        self.conv1 = nn.Conv1d(3,64,1)\n",
    "\n",
    "        self.conv2 = nn.Conv1d(64,128,1)\n",
    "        self.conv3 = nn.Conv1d(128,1024,1)\n",
    "       \n",
    "\n",
    "        self.bn1 = nn.BatchNorm1d(64)\n",
    "        self.bn2 = nn.BatchNorm1d(128)\n",
    "        self.bn3 = nn.BatchNorm1d(1024)\n",
    "       \n",
    "   def forward(self, input):\n",
    "        matrix3x3 = self.input_transform(input)\n",
    "        # batch matrix multiplication\n",
    "        xb = torch.bmm(torch.transpose(input,1,2), matrix3x3).transpose(1,2)\n",
    "\n",
    "        xb = F.relu(self.bn1(self.conv1(xb)))\n",
    "\n",
    "        matrix64x64 = self.feature_transform(xb)\n",
    "        xb = torch.bmm(torch.transpose(xb,1,2), matrix64x64).transpose(1,2)\n",
    "\n",
    "        xb = F.relu(self.bn2(self.conv2(xb)))\n",
    "        xb = self.bn3(self.conv3(xb))\n",
    "        xb = nn.MaxPool1d(xb.size(-1))(xb)\n",
    "        output = nn.Flatten(1)(xb)\n",
    "        return output, matrix3x3, matrix64x64\n",
    "\n",
    "class PointNet(nn.Module):\n",
    "    def __init__(self, classes = 10):\n",
    "        super().__init__()\n",
    "        self.transform = Transform()\n",
    "        self.fc1 = nn.Linear(1024, 512)\n",
    "        self.fc2 = nn.Linear(512, 256)\n",
    "        self.fc3 = nn.Linear(256, classes)\n",
    "        \n",
    "\n",
    "        self.bn1 = nn.BatchNorm1d(512)\n",
    "        self.bn2 = nn.BatchNorm1d(256)\n",
    "        self.dropout = nn.Dropout(p=0.3)\n",
    "        self.logsoftmax = nn.LogSoftmax(dim=1)\n",
    "\n",
    "    def forward(self, input):\n",
    "        xb, matrix3x3, matrix64x64 = self.transform(input)\n",
    "        xb = F.relu(self.bn1(self.fc1(xb)))\n",
    "        xb = F.relu(self.bn2(self.dropout(self.fc2(xb))))\n",
    "        output = self.fc3(xb)\n",
    "        return self.logsoftmax(output), matrix3x3, matrix64x64"
   ]
  },
  {
   "cell_type": "code",
   "execution_count": 0,
   "metadata": {
    "colab": {},
    "colab_type": "code",
    "id": "UfYKnerU2rnB"
   },
   "outputs": [],
   "source": [
    "def pointnetloss(outputs, labels, m3x3, m64x64, alpha = 0.0001):\n",
    "    # criterion = torch.nn.NLLLoss()\n",
    "    criterion = torch.nn.CrossEntropyLoss()\n",
    "    bs=outputs.size(0)\n",
    "    id3x3 = torch.eye(3, requires_grad=True).repeat(bs,1,1)\n",
    "    id64x64 = torch.eye(64, requires_grad=True).repeat(bs,1,1)\n",
    "    if outputs.is_cuda:\n",
    "        id3x3=id3x3.cuda()\n",
    "        id64x64=id64x64.cuda()\n",
    "    diff3x3 = id3x3-torch.bmm(m3x3,m3x3.transpose(1,2))\n",
    "    diff64x64 = id64x64-torch.bmm(m64x64,m64x64.transpose(1,2))\n",
    "    return criterion(outputs, labels) + alpha * (torch.norm(diff3x3)+torch.norm(diff64x64)) / float(bs)"
   ]
  },
  {
   "cell_type": "code",
   "execution_count": 9,
   "metadata": {
    "colab": {
     "base_uri": "https://localhost:8080/",
     "height": 35
    },
    "colab_type": "code",
    "id": "TEIGy1YP22zd",
    "outputId": "f7ac4b50-6e49-4987-f525-20bc842642e7"
   },
   "outputs": [
    {
     "name": "stdout",
     "output_type": "stream",
     "text": [
      "cuda:0\n"
     ]
    }
   ],
   "source": [
    "device = torch.device(\"cuda:0\" if torch.cuda.is_available() else \"cpu\")\n",
    "print(device)"
   ]
  },
  {
   "cell_type": "code",
   "execution_count": 0,
   "metadata": {
    "colab": {},
    "colab_type": "code",
    "id": "yjusglFG25oX"
   },
   "outputs": [],
   "source": [
    "pointnet = PointNet()\n",
    "pointnet.to(device);"
   ]
  },
  {
   "cell_type": "code",
   "execution_count": 0,
   "metadata": {
    "colab": {},
    "colab_type": "code",
    "id": "G3qOAnIR25t6"
   },
   "outputs": [],
   "source": [
    "optimizer = torch.optim.Adam(pointnet.parameters(), lr=0.001)"
   ]
  },
  {
   "cell_type": "code",
   "execution_count": 0,
   "metadata": {
    "colab": {},
    "colab_type": "code",
    "id": "5Ofs4kBW25xT"
   },
   "outputs": [],
   "source": [
    "def train(model, train_loader, val_loader=None,  epochs=15, save=True):\n",
    "    for epoch in range(epochs): \n",
    "        pointnet.train()\n",
    "        running_loss = 0.0\n",
    "        for i, data in enumerate(train_loader, 0):\n",
    "            inputs, labels = data[0].to(device).float(), data[1].to(device)\n",
    "            optimizer.zero_grad()\n",
    "            outputs, m3x3, m64x64 = pointnet(inputs.transpose(1,2))\n",
    "\n",
    "            loss = pointnetloss(outputs, labels, m3x3, m64x64)\n",
    "            loss.backward()\n",
    "            optimizer.step()\n",
    "\n",
    "            # print statistics\n",
    "            running_loss += loss.item()\n",
    "            if i % 10 == 9:    # print every 10 mini-batches\n",
    "                    print('[Epoch: %d, Batch: %4d / %4d], loss: %.3f' %\n",
    "                        (epoch + 1, i + 1, len(train_loader), running_loss / 10))\n",
    "                    running_loss = 0.0\n",
    "\n",
    "        pointnet.eval()\n",
    "        correct = total = 0\n",
    "\n",
    "        # validation\n",
    "        if val_loader:\n",
    "            with torch.no_grad():\n",
    "                for data in val_loader:\n",
    "                    inputs, labels = data[0].to(device).float(), data[1].to(device)\n",
    "                    outputs, __, __ = pointnet(inputs.transpose(1,2))\n",
    "                    _, predicted = torch.max(outputs.data, 1)\n",
    "                    total += labels.size(0)\n",
    "                    correct += (predicted == labels).sum().item()\n",
    "            val_acc = 100. * correct / total\n",
    "            print('Valid accuracy: %d %%' % val_acc)\n",
    "\n",
    "        # save the model\n",
    "        if save:\n",
    "            torch.save(pointnet.state_dict(), \"test3_save_\"+str(epoch)+\".pth\")\n",
    "        if epoch == 10:\n",
    "            break"
   ]
  },
  {
   "cell_type": "code",
   "execution_count": 13,
   "metadata": {
    "colab": {
     "base_uri": "https://localhost:8080/",
     "height": 1000
    },
    "colab_type": "code",
    "id": "QbburHd93CCP",
    "outputId": "627f385c-97a0-4941-f6b9-8be4f64fc7f5"
   },
   "outputs": [
    {
     "name": "stdout",
     "output_type": "stream",
     "text": [
      "[Epoch: 1, Batch:   10 /  100], loss: 1.684\n",
      "[Epoch: 1, Batch:   20 /  100], loss: 1.143\n",
      "[Epoch: 1, Batch:   30 /  100], loss: 0.840\n",
      "[Epoch: 1, Batch:   40 /  100], loss: 0.706\n",
      "[Epoch: 1, Batch:   50 /  100], loss: 0.643\n",
      "[Epoch: 1, Batch:   60 /  100], loss: 0.555\n",
      "[Epoch: 1, Batch:   70 /  100], loss: 0.570\n",
      "[Epoch: 1, Batch:   80 /  100], loss: 0.686\n",
      "[Epoch: 1, Batch:   90 /  100], loss: 0.674\n",
      "[Epoch: 1, Batch:  100 /  100], loss: 0.665\n",
      "Valid accuracy: 71 %\n",
      "[Epoch: 2, Batch:   10 /  100], loss: 0.580\n",
      "[Epoch: 2, Batch:   20 /  100], loss: 0.414\n",
      "[Epoch: 2, Batch:   30 /  100], loss: 0.554\n",
      "[Epoch: 2, Batch:   40 /  100], loss: 0.543\n",
      "[Epoch: 2, Batch:   50 /  100], loss: 0.458\n",
      "[Epoch: 2, Batch:   60 /  100], loss: 0.401\n",
      "[Epoch: 2, Batch:   70 /  100], loss: 0.448\n",
      "[Epoch: 2, Batch:   80 /  100], loss: 0.455\n",
      "[Epoch: 2, Batch:   90 /  100], loss: 0.442\n",
      "[Epoch: 2, Batch:  100 /  100], loss: 0.427\n",
      "Valid accuracy: 83 %\n",
      "[Epoch: 3, Batch:   10 /  100], loss: 0.332\n",
      "[Epoch: 3, Batch:   20 /  100], loss: 0.429\n",
      "[Epoch: 3, Batch:   30 /  100], loss: 0.530\n",
      "[Epoch: 3, Batch:   40 /  100], loss: 0.481\n",
      "[Epoch: 3, Batch:   50 /  100], loss: 0.404\n",
      "[Epoch: 3, Batch:   60 /  100], loss: 0.344\n",
      "[Epoch: 3, Batch:   70 /  100], loss: 0.308\n",
      "[Epoch: 3, Batch:   80 /  100], loss: 0.457\n",
      "[Epoch: 3, Batch:   90 /  100], loss: 0.247\n",
      "[Epoch: 3, Batch:  100 /  100], loss: 0.288\n",
      "Valid accuracy: 89 %\n",
      "[Epoch: 4, Batch:   10 /  100], loss: 0.308\n",
      "[Epoch: 4, Batch:   20 /  100], loss: 0.326\n",
      "[Epoch: 4, Batch:   30 /  100], loss: 0.276\n",
      "[Epoch: 4, Batch:   40 /  100], loss: 0.398\n",
      "[Epoch: 4, Batch:   50 /  100], loss: 0.301\n",
      "[Epoch: 4, Batch:   60 /  100], loss: 0.306\n",
      "[Epoch: 4, Batch:   70 /  100], loss: 0.327\n",
      "[Epoch: 4, Batch:   80 /  100], loss: 0.296\n",
      "[Epoch: 4, Batch:   90 /  100], loss: 0.347\n",
      "[Epoch: 4, Batch:  100 /  100], loss: 0.350\n",
      "Valid accuracy: 69 %\n",
      "[Epoch: 5, Batch:   10 /  100], loss: 0.311\n",
      "[Epoch: 5, Batch:   20 /  100], loss: 0.352\n",
      "[Epoch: 5, Batch:   30 /  100], loss: 0.279\n",
      "[Epoch: 5, Batch:   40 /  100], loss: 0.246\n",
      "[Epoch: 5, Batch:   50 /  100], loss: 0.261\n",
      "[Epoch: 5, Batch:   60 /  100], loss: 0.226\n",
      "[Epoch: 5, Batch:   70 /  100], loss: 0.301\n",
      "[Epoch: 5, Batch:   80 /  100], loss: 0.388\n",
      "[Epoch: 5, Batch:   90 /  100], loss: 0.203\n",
      "[Epoch: 5, Batch:  100 /  100], loss: 0.309\n",
      "Valid accuracy: 90 %\n",
      "[Epoch: 6, Batch:   10 /  100], loss: 0.237\n",
      "[Epoch: 6, Batch:   20 /  100], loss: 0.324\n",
      "[Epoch: 6, Batch:   30 /  100], loss: 0.322\n",
      "[Epoch: 6, Batch:   40 /  100], loss: 0.244\n",
      "[Epoch: 6, Batch:   50 /  100], loss: 0.227\n",
      "[Epoch: 6, Batch:   60 /  100], loss: 0.255\n",
      "[Epoch: 6, Batch:   70 /  100], loss: 0.247\n",
      "[Epoch: 6, Batch:   80 /  100], loss: 0.276\n",
      "[Epoch: 6, Batch:   90 /  100], loss: 0.319\n",
      "[Epoch: 6, Batch:  100 /  100], loss: 0.298\n",
      "Valid accuracy: 80 %\n",
      "[Epoch: 7, Batch:   10 /  100], loss: 0.288\n",
      "[Epoch: 7, Batch:   20 /  100], loss: 0.221\n",
      "[Epoch: 7, Batch:   30 /  100], loss: 0.268\n",
      "[Epoch: 7, Batch:   40 /  100], loss: 0.314\n",
      "[Epoch: 7, Batch:   50 /  100], loss: 0.277\n",
      "[Epoch: 7, Batch:   60 /  100], loss: 0.257\n",
      "[Epoch: 7, Batch:   70 /  100], loss: 0.189\n",
      "[Epoch: 7, Batch:   80 /  100], loss: 0.263\n",
      "[Epoch: 7, Batch:   90 /  100], loss: 0.181\n",
      "[Epoch: 7, Batch:  100 /  100], loss: 0.272\n",
      "Valid accuracy: 80 %\n",
      "[Epoch: 8, Batch:   10 /  100], loss: 0.296\n",
      "[Epoch: 8, Batch:   20 /  100], loss: 0.219\n",
      "[Epoch: 8, Batch:   30 /  100], loss: 0.231\n",
      "[Epoch: 8, Batch:   40 /  100], loss: 0.227\n",
      "[Epoch: 8, Batch:   50 /  100], loss: 0.281\n",
      "[Epoch: 8, Batch:   60 /  100], loss: 0.256\n",
      "[Epoch: 8, Batch:   70 /  100], loss: 0.190\n",
      "[Epoch: 8, Batch:   80 /  100], loss: 0.240\n",
      "[Epoch: 8, Batch:   90 /  100], loss: 0.217\n",
      "[Epoch: 8, Batch:  100 /  100], loss: 0.255\n",
      "Valid accuracy: 83 %\n",
      "[Epoch: 9, Batch:   10 /  100], loss: 0.223\n",
      "[Epoch: 9, Batch:   20 /  100], loss: 0.255\n",
      "[Epoch: 9, Batch:   30 /  100], loss: 0.253\n",
      "[Epoch: 9, Batch:   40 /  100], loss: 0.236\n",
      "[Epoch: 9, Batch:   50 /  100], loss: 0.342\n",
      "[Epoch: 9, Batch:   60 /  100], loss: 0.229\n",
      "[Epoch: 9, Batch:   70 /  100], loss: 0.207\n",
      "[Epoch: 9, Batch:   80 /  100], loss: 0.295\n",
      "[Epoch: 9, Batch:   90 /  100], loss: 0.293\n",
      "[Epoch: 9, Batch:  100 /  100], loss: 0.287\n",
      "Valid accuracy: 90 %\n",
      "[Epoch: 10, Batch:   10 /  100], loss: 0.241\n",
      "[Epoch: 10, Batch:   20 /  100], loss: 0.216\n",
      "[Epoch: 10, Batch:   30 /  100], loss: 0.174\n",
      "[Epoch: 10, Batch:   40 /  100], loss: 0.164\n",
      "[Epoch: 10, Batch:   50 /  100], loss: 0.213\n",
      "[Epoch: 10, Batch:   60 /  100], loss: 0.103\n",
      "[Epoch: 10, Batch:   70 /  100], loss: 0.163\n",
      "[Epoch: 10, Batch:   80 /  100], loss: 0.205\n",
      "[Epoch: 10, Batch:   90 /  100], loss: 0.322\n",
      "[Epoch: 10, Batch:  100 /  100], loss: 0.183\n",
      "Valid accuracy: 76 %\n",
      "[Epoch: 11, Batch:   10 /  100], loss: 0.237\n",
      "[Epoch: 11, Batch:   20 /  100], loss: 0.217\n",
      "[Epoch: 11, Batch:   30 /  100], loss: 0.162\n",
      "[Epoch: 11, Batch:   40 /  100], loss: 0.175\n",
      "[Epoch: 11, Batch:   50 /  100], loss: 0.175\n",
      "[Epoch: 11, Batch:   60 /  100], loss: 0.276\n",
      "[Epoch: 11, Batch:   70 /  100], loss: 0.173\n",
      "[Epoch: 11, Batch:   80 /  100], loss: 0.232\n",
      "[Epoch: 11, Batch:   90 /  100], loss: 0.198\n",
      "[Epoch: 11, Batch:  100 /  100], loss: 0.238\n",
      "Valid accuracy: 91 %\n"
     ]
    }
   ],
   "source": [
    "train(pointnet, train_loader, valid_loader,  save=True)"
   ]
  },
  {
   "cell_type": "code",
   "execution_count": 14,
   "metadata": {
    "colab": {
     "base_uri": "https://localhost:8080/",
     "height": 277
    },
    "colab_type": "code",
    "id": "V-c05UpGPOPU",
    "outputId": "ddf2036e-2b50-4a9f-a18d-2b57b7430cd2"
   },
   "outputs": [
    {
     "name": "stdout",
     "output_type": "stream",
     "text": [
      "Batch [   1 /   15]\n",
      "Batch [   2 /   15]\n",
      "Batch [   3 /   15]\n",
      "Batch [   4 /   15]\n",
      "Batch [   5 /   15]\n",
      "Batch [   6 /   15]\n",
      "Batch [   7 /   15]\n",
      "Batch [   8 /   15]\n",
      "Batch [   9 /   15]\n",
      "Batch [  10 /   15]\n",
      "Batch [  11 /   15]\n",
      "Batch [  12 /   15]\n",
      "Batch [  13 /   15]\n",
      "Batch [  14 /   15]\n",
      "Batch [  15 /   15]\n"
     ]
    }
   ],
   "source": [
    "from sklearn.metrics import confusion_matrix\n",
    "\n",
    "pointnet = PointNet()\n",
    "pointnet.load_state_dict(torch.load('test3_save_10.pth'))\n",
    "pointnet.eval();\n",
    "\n",
    "all_preds = []\n",
    "all_labels = []\n",
    "with torch.no_grad():\n",
    "    for i, data in enumerate(test_loader):\n",
    "        print('Batch [%4d / %4d]' % (i+1, len(test_loader)))\n",
    "                   \n",
    "        inputs, labels = data[0].float(), data[1]\n",
    "        outputs, __, __ = pointnet(inputs.transpose(1,2))\n",
    "        _, preds = torch.max(outputs.data, 1)\n",
    "        all_preds += list(preds.numpy())\n",
    "        all_labels += list(labels.numpy())"
   ]
  },
  {
   "cell_type": "code",
   "execution_count": 15,
   "metadata": {
    "colab": {
     "base_uri": "https://localhost:8080/",
     "height": 191
    },
    "colab_type": "code",
    "id": "tv4JRdID3iIn",
    "outputId": "4edd825f-1f4c-44fd-8ef7-87d83b3f6582"
   },
   "outputs": [
    {
     "data": {
      "text/plain": [
       "array([[37, 10,  0,  0,  0,  0,  0,  0,  1,  2],\n",
       "       [ 0, 99,  0,  0,  0,  0,  0,  0,  1,  0],\n",
       "       [ 0,  3, 94,  0,  0,  0,  0,  0,  0,  3],\n",
       "       [ 0,  1,  0, 79,  1,  0,  1,  1,  3,  0],\n",
       "       [ 0,  1,  0,  1, 38,  2, 42,  1,  1,  0],\n",
       "       [ 0,  0,  0,  1,  0, 98,  1,  0,  0,  0],\n",
       "       [ 0,  1,  0,  2,  2,  2, 75,  0,  4,  0],\n",
       "       [ 0,  0,  0,  1,  0,  0,  1, 98,  0,  0],\n",
       "       [ 0,  0,  0, 45,  0,  0,  0,  0, 55,  0],\n",
       "       [ 0,  1,  0,  1,  0,  0,  0,  0,  0, 98]])"
      ]
     },
     "execution_count": 15,
     "metadata": {
      "tags": []
     },
     "output_type": "execute_result"
    }
   ],
   "source": [
    "cm = confusion_matrix(all_labels, all_preds);\n",
    "cm"
   ]
  },
  {
   "cell_type": "code",
   "execution_count": 16,
   "metadata": {
    "colab": {
     "base_uri": "https://localhost:8080/",
     "height": 603
    },
    "colab_type": "code",
    "id": "kxPXsPe23mPT",
    "outputId": "51216406-9e73-4d6f-fbc9-14949f3e1710"
   },
   "outputs": [
    {
     "name": "stdout",
     "output_type": "stream",
     "text": [
      "Normalized confusion matrix\n"
     ]
    },
    {
     "data": {
      "image/png": "[encoded data removed]",
      "text/plain": [
       "<Figure size 576x576 with 2 Axes>"
      ]
     },
     "metadata": {
      "needs_background": "light",
      "tags": []
     },
     "output_type": "display_data"
    }
   ],
   "source": [
    "import itertools\n",
    "import numpy as np\n",
    "import matplotlib.pyplot as plt\n",
    "\n",
    "# function from https://deeplizard.com/learn/video/0LhiS6yu2qQ\n",
    "def plot_confusion_matrix(cm, classes, normalize=False, title='Confusion matrix', cmap=plt.cm.Blues):\n",
    "    if normalize:\n",
    "        cm = cm.astype('float') / cm.sum(axis=1)[:, np.newaxis]\n",
    "        print(\"Normalized confusion matrix\")\n",
    "    else:\n",
    "        print('Confusion matrix, without normalization')\n",
    "\n",
    "    plt.imshow(cm, interpolation='nearest', cmap=cmap)\n",
    "    plt.title(title)\n",
    "    plt.colorbar()\n",
    "    tick_marks = np.arange(10)\n",
    "    plt.xticks(tick_marks, range(10), rotation=45)\n",
    "    plt.yticks(tick_marks, range(10))\n",
    "\n",
    "    fmt = '.2f' if normalize else 'd'\n",
    "    thresh = cm.max() / 2.\n",
    "    for i, j in itertools.product(range(cm.shape[0]), range(cm.shape[1])):\n",
    "        plt.text(j, i, format(cm[i, j], fmt), horizontalalignment=\"center\", color=\"white\" if cm[i, j] > thresh else \"black\")\n",
    "\n",
    "    plt.tight_layout()\n",
    "    plt.ylabel('True label')\n",
    "    plt.xlabel('Predicted label')\n",
    "\n",
    "plt.figure(figsize=(8,8))\n",
    "plot_confusion_matrix(cm, list(range(10)), normalize=True)"
   ]
  },
  {
   "cell_type": "code",
   "execution_count": 17,
   "metadata": {
    "colab": {
     "base_uri": "https://localhost:8080/",
     "height": 35
    },
    "colab_type": "code",
    "id": "l-U5wXiVb0EI",
    "outputId": "0a930bb0-d153-4159-bbf6-766d98543206"
   },
   "outputs": [
    {
     "data": {
      "text/plain": [
       "0.8491189427312775"
      ]
     },
     "execution_count": 17,
     "metadata": {
      "tags": []
     },
     "output_type": "execute_result"
    }
   ],
   "source": [
    "from sklearn.metrics import accuracy_score\n",
    "accuracy_score(all_labels,all_preds)"
   ]
  },
  {
   "cell_type": "code",
   "execution_count": 0,
   "metadata": {
    "colab": {},
    "colab_type": "code",
    "id": "tccKhUT_eQH7"
   },
   "outputs": [],
   "source": []
  }
 ],
 "metadata": {
  "accelerator": "GPU",
  "colab": {
   "name": "3D pointnet original.ipynb",
   "provenance": []
  },
  "kernelspec": {
   "display_name": "Python 3",
   "language": "python",
   "name": "python3"
  },
  "language_info": {
   "codemirror_mode": {
    "name": "ipython",
    "version": 3
   },
   "file_extension": ".py",
   "mimetype": "text/x-python",
   "name": "python",
   "nbconvert_exporter": "python",
   "pygments_lexer": "ipython3",
   "version": "3.7.4"
  }
 },
 "nbformat": 4,
 "nbformat_minor": 1
}
